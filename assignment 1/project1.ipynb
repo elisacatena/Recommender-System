{
 "cells": [
  {
   "cell_type": "code",
   "execution_count": 1,
   "metadata": {},
   "outputs": [],
   "source": [
    "import pandas as pd\n",
    "import math\n",
    "from statistics import median\n",
    "import numpy as np"
   ]
  },
  {
   "cell_type": "markdown",
   "metadata": {},
   "source": [
    "### (a) Download the MovieLens 100K rating dataset from https://grouplens.org/datasets/movielens/ (the small dataset recommended for education and development). Read the dataset, display the first few rows to understand it, and display the count of ratings (rows) in the dataset to be sure that you download it correctly."
   ]
  },
  {
   "cell_type": "code",
   "execution_count": 2,
   "metadata": {},
   "outputs": [
    {
     "name": "stdout",
     "output_type": "stream",
     "text": [
      "Number of rows: 100836\n",
      " userId  movieId  rating  timestamp\n",
      "      1        1     4.0  964982703\n",
      "      1        3     4.0  964981247\n",
      "      1        6     4.0  964982224\n",
      "      1       47     5.0  964983815\n",
      "      1       50     5.0  964982931\n",
      "      1       70     3.0  964982400\n",
      "      1      101     5.0  964980868\n",
      "      1      110     4.0  964982176\n",
      "      1      151     5.0  964984041\n",
      "      1      157     5.0  964984100\n"
     ]
    }
   ],
   "source": [
    "ratings = pd.read_csv(\"dataset/ratings.csv\")\n",
    "n_rows = ratings.shape[0]\n",
    "\n",
    "print(\"Number of rows: \" + str(n_rows))\n",
    "# Show the first 10 rows of the dataframe\n",
    "print(ratings.head(10).to_string(index=False))"
   ]
  },
  {
   "cell_type": "code",
   "execution_count": 3,
   "metadata": {},
   "outputs": [
    {
     "name": "stdout",
     "output_type": "stream",
     "text": [
      "Number of rows: 9742\n",
      " movieId                              title                                      genres\n",
      "       1                   Toy Story (1995) Adventure|Animation|Children|Comedy|Fantasy\n",
      "       2                     Jumanji (1995)                  Adventure|Children|Fantasy\n",
      "       3            Grumpier Old Men (1995)                              Comedy|Romance\n",
      "       4           Waiting to Exhale (1995)                        Comedy|Drama|Romance\n",
      "       5 Father of the Bride Part II (1995)                                      Comedy\n",
      "       6                        Heat (1995)                       Action|Crime|Thriller\n",
      "       7                     Sabrina (1995)                              Comedy|Romance\n",
      "       8                Tom and Huck (1995)                          Adventure|Children\n",
      "       9                Sudden Death (1995)                                      Action\n",
      "      10                   GoldenEye (1995)                   Action|Adventure|Thriller\n"
     ]
    }
   ],
   "source": [
    "movies = pd.read_csv(\"dataset/movies.csv\")\n",
    "n_rows = movies.shape[0]\n",
    "\n",
    "print(\"Number of rows: \" + str(n_rows))\n",
    "# Show the first 10 rows of the dataframe\n",
    "print(movies.head(10).to_string(index=False))"
   ]
  },
  {
   "cell_type": "code",
   "execution_count": 4,
   "metadata": {},
   "outputs": [],
   "source": [
    "def create_user_movie_rating_matrix():\n",
    "    user_movie_ratings_matrix = pd.pivot_table(ratings, values='rating', index='userId', columns='movieId')\n",
    "    all_movie_ids = movies['movieId'].unique()\n",
    "    user_movie_ratings_matrix = user_movie_ratings_matrix.reindex(columns=all_movie_ids)\n",
    "    return user_movie_ratings_matrix"
   ]
  },
  {
   "cell_type": "code",
   "execution_count": 6,
   "metadata": {},
   "outputs": [
    {
     "data": {
      "text/html": [
       "<div>\n",
       "<style scoped>\n",
       "    .dataframe tbody tr th:only-of-type {\n",
       "        vertical-align: middle;\n",
       "    }\n",
       "\n",
       "    .dataframe tbody tr th {\n",
       "        vertical-align: top;\n",
       "    }\n",
       "\n",
       "    .dataframe thead th {\n",
       "        text-align: right;\n",
       "    }\n",
       "</style>\n",
       "<table border=\"1\" class=\"dataframe\">\n",
       "  <thead>\n",
       "    <tr style=\"text-align: right;\">\n",
       "      <th>movieId</th>\n",
       "      <th>1</th>\n",
       "      <th>2</th>\n",
       "      <th>3</th>\n",
       "      <th>4</th>\n",
       "      <th>5</th>\n",
       "      <th>6</th>\n",
       "      <th>7</th>\n",
       "      <th>8</th>\n",
       "      <th>9</th>\n",
       "      <th>10</th>\n",
       "      <th>...</th>\n",
       "      <th>193565</th>\n",
       "      <th>193567</th>\n",
       "      <th>193571</th>\n",
       "      <th>193573</th>\n",
       "      <th>193579</th>\n",
       "      <th>193581</th>\n",
       "      <th>193583</th>\n",
       "      <th>193585</th>\n",
       "      <th>193587</th>\n",
       "      <th>193609</th>\n",
       "    </tr>\n",
       "    <tr>\n",
       "      <th>userId</th>\n",
       "      <th></th>\n",
       "      <th></th>\n",
       "      <th></th>\n",
       "      <th></th>\n",
       "      <th></th>\n",
       "      <th></th>\n",
       "      <th></th>\n",
       "      <th></th>\n",
       "      <th></th>\n",
       "      <th></th>\n",
       "      <th></th>\n",
       "      <th></th>\n",
       "      <th></th>\n",
       "      <th></th>\n",
       "      <th></th>\n",
       "      <th></th>\n",
       "      <th></th>\n",
       "      <th></th>\n",
       "      <th></th>\n",
       "      <th></th>\n",
       "      <th></th>\n",
       "    </tr>\n",
       "  </thead>\n",
       "  <tbody>\n",
       "    <tr>\n",
       "      <th>1</th>\n",
       "      <td>4.0</td>\n",
       "      <td>NaN</td>\n",
       "      <td>4.0</td>\n",
       "      <td>NaN</td>\n",
       "      <td>NaN</td>\n",
       "      <td>4.0</td>\n",
       "      <td>NaN</td>\n",
       "      <td>NaN</td>\n",
       "      <td>NaN</td>\n",
       "      <td>NaN</td>\n",
       "      <td>...</td>\n",
       "      <td>NaN</td>\n",
       "      <td>NaN</td>\n",
       "      <td>NaN</td>\n",
       "      <td>NaN</td>\n",
       "      <td>NaN</td>\n",
       "      <td>NaN</td>\n",
       "      <td>NaN</td>\n",
       "      <td>NaN</td>\n",
       "      <td>NaN</td>\n",
       "      <td>NaN</td>\n",
       "    </tr>\n",
       "    <tr>\n",
       "      <th>2</th>\n",
       "      <td>NaN</td>\n",
       "      <td>NaN</td>\n",
       "      <td>NaN</td>\n",
       "      <td>NaN</td>\n",
       "      <td>NaN</td>\n",
       "      <td>NaN</td>\n",
       "      <td>NaN</td>\n",
       "      <td>NaN</td>\n",
       "      <td>NaN</td>\n",
       "      <td>NaN</td>\n",
       "      <td>...</td>\n",
       "      <td>NaN</td>\n",
       "      <td>NaN</td>\n",
       "      <td>NaN</td>\n",
       "      <td>NaN</td>\n",
       "      <td>NaN</td>\n",
       "      <td>NaN</td>\n",
       "      <td>NaN</td>\n",
       "      <td>NaN</td>\n",
       "      <td>NaN</td>\n",
       "      <td>NaN</td>\n",
       "    </tr>\n",
       "    <tr>\n",
       "      <th>3</th>\n",
       "      <td>NaN</td>\n",
       "      <td>NaN</td>\n",
       "      <td>NaN</td>\n",
       "      <td>NaN</td>\n",
       "      <td>NaN</td>\n",
       "      <td>NaN</td>\n",
       "      <td>NaN</td>\n",
       "      <td>NaN</td>\n",
       "      <td>NaN</td>\n",
       "      <td>NaN</td>\n",
       "      <td>...</td>\n",
       "      <td>NaN</td>\n",
       "      <td>NaN</td>\n",
       "      <td>NaN</td>\n",
       "      <td>NaN</td>\n",
       "      <td>NaN</td>\n",
       "      <td>NaN</td>\n",
       "      <td>NaN</td>\n",
       "      <td>NaN</td>\n",
       "      <td>NaN</td>\n",
       "      <td>NaN</td>\n",
       "    </tr>\n",
       "    <tr>\n",
       "      <th>4</th>\n",
       "      <td>NaN</td>\n",
       "      <td>NaN</td>\n",
       "      <td>NaN</td>\n",
       "      <td>NaN</td>\n",
       "      <td>NaN</td>\n",
       "      <td>NaN</td>\n",
       "      <td>NaN</td>\n",
       "      <td>NaN</td>\n",
       "      <td>NaN</td>\n",
       "      <td>NaN</td>\n",
       "      <td>...</td>\n",
       "      <td>NaN</td>\n",
       "      <td>NaN</td>\n",
       "      <td>NaN</td>\n",
       "      <td>NaN</td>\n",
       "      <td>NaN</td>\n",
       "      <td>NaN</td>\n",
       "      <td>NaN</td>\n",
       "      <td>NaN</td>\n",
       "      <td>NaN</td>\n",
       "      <td>NaN</td>\n",
       "    </tr>\n",
       "    <tr>\n",
       "      <th>5</th>\n",
       "      <td>4.0</td>\n",
       "      <td>NaN</td>\n",
       "      <td>NaN</td>\n",
       "      <td>NaN</td>\n",
       "      <td>NaN</td>\n",
       "      <td>NaN</td>\n",
       "      <td>NaN</td>\n",
       "      <td>NaN</td>\n",
       "      <td>NaN</td>\n",
       "      <td>NaN</td>\n",
       "      <td>...</td>\n",
       "      <td>NaN</td>\n",
       "      <td>NaN</td>\n",
       "      <td>NaN</td>\n",
       "      <td>NaN</td>\n",
       "      <td>NaN</td>\n",
       "      <td>NaN</td>\n",
       "      <td>NaN</td>\n",
       "      <td>NaN</td>\n",
       "      <td>NaN</td>\n",
       "      <td>NaN</td>\n",
       "    </tr>\n",
       "    <tr>\n",
       "      <th>...</th>\n",
       "      <td>...</td>\n",
       "      <td>...</td>\n",
       "      <td>...</td>\n",
       "      <td>...</td>\n",
       "      <td>...</td>\n",
       "      <td>...</td>\n",
       "      <td>...</td>\n",
       "      <td>...</td>\n",
       "      <td>...</td>\n",
       "      <td>...</td>\n",
       "      <td>...</td>\n",
       "      <td>...</td>\n",
       "      <td>...</td>\n",
       "      <td>...</td>\n",
       "      <td>...</td>\n",
       "      <td>...</td>\n",
       "      <td>...</td>\n",
       "      <td>...</td>\n",
       "      <td>...</td>\n",
       "      <td>...</td>\n",
       "      <td>...</td>\n",
       "    </tr>\n",
       "    <tr>\n",
       "      <th>606</th>\n",
       "      <td>2.5</td>\n",
       "      <td>NaN</td>\n",
       "      <td>NaN</td>\n",
       "      <td>NaN</td>\n",
       "      <td>NaN</td>\n",
       "      <td>NaN</td>\n",
       "      <td>2.5</td>\n",
       "      <td>NaN</td>\n",
       "      <td>NaN</td>\n",
       "      <td>NaN</td>\n",
       "      <td>...</td>\n",
       "      <td>NaN</td>\n",
       "      <td>NaN</td>\n",
       "      <td>NaN</td>\n",
       "      <td>NaN</td>\n",
       "      <td>NaN</td>\n",
       "      <td>NaN</td>\n",
       "      <td>NaN</td>\n",
       "      <td>NaN</td>\n",
       "      <td>NaN</td>\n",
       "      <td>NaN</td>\n",
       "    </tr>\n",
       "    <tr>\n",
       "      <th>607</th>\n",
       "      <td>4.0</td>\n",
       "      <td>NaN</td>\n",
       "      <td>NaN</td>\n",
       "      <td>NaN</td>\n",
       "      <td>NaN</td>\n",
       "      <td>NaN</td>\n",
       "      <td>NaN</td>\n",
       "      <td>NaN</td>\n",
       "      <td>NaN</td>\n",
       "      <td>NaN</td>\n",
       "      <td>...</td>\n",
       "      <td>NaN</td>\n",
       "      <td>NaN</td>\n",
       "      <td>NaN</td>\n",
       "      <td>NaN</td>\n",
       "      <td>NaN</td>\n",
       "      <td>NaN</td>\n",
       "      <td>NaN</td>\n",
       "      <td>NaN</td>\n",
       "      <td>NaN</td>\n",
       "      <td>NaN</td>\n",
       "    </tr>\n",
       "    <tr>\n",
       "      <th>608</th>\n",
       "      <td>2.5</td>\n",
       "      <td>2.0</td>\n",
       "      <td>2.0</td>\n",
       "      <td>NaN</td>\n",
       "      <td>NaN</td>\n",
       "      <td>NaN</td>\n",
       "      <td>NaN</td>\n",
       "      <td>NaN</td>\n",
       "      <td>NaN</td>\n",
       "      <td>4.0</td>\n",
       "      <td>...</td>\n",
       "      <td>NaN</td>\n",
       "      <td>NaN</td>\n",
       "      <td>NaN</td>\n",
       "      <td>NaN</td>\n",
       "      <td>NaN</td>\n",
       "      <td>NaN</td>\n",
       "      <td>NaN</td>\n",
       "      <td>NaN</td>\n",
       "      <td>NaN</td>\n",
       "      <td>NaN</td>\n",
       "    </tr>\n",
       "    <tr>\n",
       "      <th>609</th>\n",
       "      <td>3.0</td>\n",
       "      <td>NaN</td>\n",
       "      <td>NaN</td>\n",
       "      <td>NaN</td>\n",
       "      <td>NaN</td>\n",
       "      <td>NaN</td>\n",
       "      <td>NaN</td>\n",
       "      <td>NaN</td>\n",
       "      <td>NaN</td>\n",
       "      <td>4.0</td>\n",
       "      <td>...</td>\n",
       "      <td>NaN</td>\n",
       "      <td>NaN</td>\n",
       "      <td>NaN</td>\n",
       "      <td>NaN</td>\n",
       "      <td>NaN</td>\n",
       "      <td>NaN</td>\n",
       "      <td>NaN</td>\n",
       "      <td>NaN</td>\n",
       "      <td>NaN</td>\n",
       "      <td>NaN</td>\n",
       "    </tr>\n",
       "    <tr>\n",
       "      <th>610</th>\n",
       "      <td>5.0</td>\n",
       "      <td>NaN</td>\n",
       "      <td>NaN</td>\n",
       "      <td>NaN</td>\n",
       "      <td>NaN</td>\n",
       "      <td>5.0</td>\n",
       "      <td>NaN</td>\n",
       "      <td>NaN</td>\n",
       "      <td>NaN</td>\n",
       "      <td>NaN</td>\n",
       "      <td>...</td>\n",
       "      <td>NaN</td>\n",
       "      <td>NaN</td>\n",
       "      <td>NaN</td>\n",
       "      <td>NaN</td>\n",
       "      <td>NaN</td>\n",
       "      <td>NaN</td>\n",
       "      <td>NaN</td>\n",
       "      <td>NaN</td>\n",
       "      <td>NaN</td>\n",
       "      <td>NaN</td>\n",
       "    </tr>\n",
       "  </tbody>\n",
       "</table>\n",
       "<p>610 rows × 9742 columns</p>\n",
       "</div>"
      ],
      "text/plain": [
       "movieId  1       2       3       4       5       6       7       8       \\\n",
       "userId                                                                    \n",
       "1           4.0     NaN     4.0     NaN     NaN     4.0     NaN     NaN   \n",
       "2           NaN     NaN     NaN     NaN     NaN     NaN     NaN     NaN   \n",
       "3           NaN     NaN     NaN     NaN     NaN     NaN     NaN     NaN   \n",
       "4           NaN     NaN     NaN     NaN     NaN     NaN     NaN     NaN   \n",
       "5           4.0     NaN     NaN     NaN     NaN     NaN     NaN     NaN   \n",
       "...         ...     ...     ...     ...     ...     ...     ...     ...   \n",
       "606         2.5     NaN     NaN     NaN     NaN     NaN     2.5     NaN   \n",
       "607         4.0     NaN     NaN     NaN     NaN     NaN     NaN     NaN   \n",
       "608         2.5     2.0     2.0     NaN     NaN     NaN     NaN     NaN   \n",
       "609         3.0     NaN     NaN     NaN     NaN     NaN     NaN     NaN   \n",
       "610         5.0     NaN     NaN     NaN     NaN     5.0     NaN     NaN   \n",
       "\n",
       "movieId  9       10      ...  193565  193567  193571  193573  193579  193581  \\\n",
       "userId                   ...                                                   \n",
       "1           NaN     NaN  ...     NaN     NaN     NaN     NaN     NaN     NaN   \n",
       "2           NaN     NaN  ...     NaN     NaN     NaN     NaN     NaN     NaN   \n",
       "3           NaN     NaN  ...     NaN     NaN     NaN     NaN     NaN     NaN   \n",
       "4           NaN     NaN  ...     NaN     NaN     NaN     NaN     NaN     NaN   \n",
       "5           NaN     NaN  ...     NaN     NaN     NaN     NaN     NaN     NaN   \n",
       "...         ...     ...  ...     ...     ...     ...     ...     ...     ...   \n",
       "606         NaN     NaN  ...     NaN     NaN     NaN     NaN     NaN     NaN   \n",
       "607         NaN     NaN  ...     NaN     NaN     NaN     NaN     NaN     NaN   \n",
       "608         NaN     4.0  ...     NaN     NaN     NaN     NaN     NaN     NaN   \n",
       "609         NaN     4.0  ...     NaN     NaN     NaN     NaN     NaN     NaN   \n",
       "610         NaN     NaN  ...     NaN     NaN     NaN     NaN     NaN     NaN   \n",
       "\n",
       "movieId  193583  193585  193587  193609  \n",
       "userId                                   \n",
       "1           NaN     NaN     NaN     NaN  \n",
       "2           NaN     NaN     NaN     NaN  \n",
       "3           NaN     NaN     NaN     NaN  \n",
       "4           NaN     NaN     NaN     NaN  \n",
       "5           NaN     NaN     NaN     NaN  \n",
       "...         ...     ...     ...     ...  \n",
       "606         NaN     NaN     NaN     NaN  \n",
       "607         NaN     NaN     NaN     NaN  \n",
       "608         NaN     NaN     NaN     NaN  \n",
       "609         NaN     NaN     NaN     NaN  \n",
       "610         NaN     NaN     NaN     NaN  \n",
       "\n",
       "[610 rows x 9742 columns]"
      ]
     },
     "execution_count": 6,
     "metadata": {},
     "output_type": "execute_result"
    }
   ],
   "source": [
    "user_movie_ratings_matrix = create_user_movie_rating_matrix()\n",
    "user_movie_ratings_matrix"
   ]
  },
  {
   "cell_type": "markdown",
   "metadata": {},
   "source": [
    "### (b) Implement the user-based collaborative filtering approach, using the Pearson correlation function for computing similarities between users, and"
   ]
  },
  {
   "cell_type": "markdown",
   "metadata": {},
   "source": [
    "$$sim(a, b) = \\frac{\\sum_{p \\in I} (r_{a,p} - \\bar{r_a})(r_{b,p} - \\bar{r_b})}{\\sqrt{\\sum_{p \\in I}(r_{a,p} - \\bar{r_a})^2}\\sqrt{\\sum_{p \\in I}(r_{b,p} - \\bar{r_b})^2}}$$"
   ]
  },
  {
   "cell_type": "code",
   "execution_count": 7,
   "metadata": {},
   "outputs": [
    {
     "name": "stdout",
     "output_type": "stream",
     "text": [
      "610\n"
     ]
    }
   ],
   "source": [
    "num_users = ratings[\"userId\"].nunique()\n",
    "print(num_users)"
   ]
  },
  {
   "cell_type": "code",
   "execution_count": 8,
   "metadata": {},
   "outputs": [],
   "source": [
    "def pearsonCorrelation(user1, user2):\n",
    "    num, den1, den2 = 0.0, 0.0, 0.0\n",
    "    ratings_user1 = ratings[ratings['userId'] == user1]\n",
    "    rmean_user1 = ratings_user1['rating'].mean()\n",
    "    ratings_user2 = ratings[ratings['userId'] == user2]\n",
    "    rmean_user2 = ratings_user2['rating'].mean()\n",
    "\n",
    "    # set of movieIds evaluated by user1\n",
    "    items_user1 = set(ratings[ratings['userId'] == user1]['movieId'])\n",
    "    # set of movieIds evaluated by user2\n",
    "    items_user2 = set(ratings[ratings['userId'] == user2]['movieId'])\n",
    "    # set of movieIds evaluated by both user1 and user2 (intersection)\n",
    "    common_items = items_user1.intersection(items_user2)\n",
    "\n",
    "    for p in common_items:\n",
    "        r_1p = (ratings[(ratings['userId'] == user1) & (ratings['movieId'] == p)]['rating'].values)[0]\n",
    "        r_2p = (ratings[(ratings['userId'] == user2) & (ratings['movieId'] == p)]['rating'].values)[0]\n",
    "        num += (r_1p - rmean_user1)*(r_2p - rmean_user2)\n",
    "        den1 += pow((r_1p - rmean_user1), 2)\n",
    "        den2 += pow((r_2p - rmean_user2), 2)\n",
    "    den = ((math.sqrt(den1))*(math.sqrt(den2)))\n",
    "    if den == 0.0:\n",
    "        return 0.0\n",
    "    sim = num/den\n",
    "    return sim"
   ]
  },
  {
   "cell_type": "code",
   "execution_count": 9,
   "metadata": {},
   "outputs": [
    {
     "name": "stdout",
     "output_type": "stream",
     "text": [
      "0.08648178161396775\n"
     ]
    }
   ],
   "source": [
    "corr = pearsonCorrelation(1,21)\n",
    "\n",
    "print(corr)"
   ]
  },
  {
   "cell_type": "code",
   "execution_count": 10,
   "metadata": {},
   "outputs": [],
   "source": [
    "def compute_user_similarities(user):\n",
    "    user_list = list(range(1, 611, 1))\n",
    "    user_list.remove(user)\n",
    "    user_similarities = {}\n",
    "    for other_user in user_list:\n",
    "        if other_user != user:\n",
    "            similarity = pearsonCorrelation(user, other_user)\n",
    "            user_similarities[other_user] = similarity\n",
    "    return user_similarities"
   ]
  },
  {
   "cell_type": "code",
   "execution_count": 21,
   "metadata": {},
   "outputs": [],
   "source": [
    "user_similarities = compute_user_similarities(1)"
   ]
  },
  {
   "cell_type": "markdown",
   "metadata": {},
   "source": [
    "### (c) the prediction function presented in class for predicting movies scores."
   ]
  },
  {
   "cell_type": "markdown",
   "metadata": {},
   "source": [
    "$$pred(a, p) = \\bar{r_a} + \\frac{\\sum_{b \\in N} sim(a, b) * (r_{b,p} - \\bar{r_b})} {\\sum_{b \\in N}sim(a, b)}$$"
   ]
  },
  {
   "cell_type": "code",
   "execution_count": 11,
   "metadata": {},
   "outputs": [],
   "source": [
    "def generatePrediction(user1, item, user_movie_ratings_matrix, user_similarity_dict):\n",
    "    # Aggiungi controllo che il film non è stato valutato\n",
    "    if not np.isnan(user_movie_ratings_matrix.at[user1, item]):\n",
    "        return user_movie_ratings_matrix.at[user1, item]\n",
    "    \n",
    "    # Calcola la previsione utilizzando la matrice delle valutazioni e il dizionario delle similarità\n",
    "    num, den = 0.0, 0.0\n",
    "    rmean_user1 = user_movie_ratings_matrix.loc[user1].mean()\n",
    "    \n",
    "    users_who_rated_item = user_movie_ratings_matrix[item].dropna().index.unique()\n",
    "    for u in users_who_rated_item:\n",
    "        rmean_u = user_movie_ratings_matrix.loc[u].mean()\n",
    "        r_up = user_movie_ratings_matrix.at[u, item]\n",
    "        similarity = user_similarity_dict[u]\n",
    "        num += similarity * (r_up - rmean_u)\n",
    "        den += abs(similarity)\n",
    "    if den == 0.0:\n",
    "        pred = rmean_user1\n",
    "    else:\n",
    "        pred = rmean_user1 + (num / den)\n",
    "    return pred"
   ]
  },
  {
   "cell_type": "code",
   "execution_count": 20,
   "metadata": {},
   "outputs": [
    {
     "name": "stdout",
     "output_type": "stream",
     "text": [
      "7.790948275862069\n"
     ]
    }
   ],
   "source": [
    "print(generatePrediction(1,5105,create_user_movie_rating_matrix(),compute_user_similarities(1)))"
   ]
  },
  {
   "cell_type": "markdown",
   "metadata": {},
   "source": [
    "### (d) Select a user from the dataset, and for this user, show the 10 most similar users and the 10 most relevant movies that the recommender suggests."
   ]
  },
  {
   "cell_type": "code",
   "execution_count": 187,
   "metadata": {},
   "outputs": [],
   "source": [
    "def kMostSimilarUsers(user, k):\n",
    "    users_similarities = []\n",
    "    for u in range(1,num_users):\n",
    "        if u != user:\n",
    "            sim = pearsonCorrelation(user, u)\n",
    "            users_similarities.append((u,sim))\n",
    "    sorted_users_similarities = sorted(users_similarities, reverse=True, key=lambda x: x[1])\n",
    "    top_k_users = [pair[0] for pair in sorted_users_similarities[:k]]\n",
    "    top_k_sim = [pair[1] for pair in sorted_users_similarities[:k]]\n",
    "    return top_k_users, top_k_sim"
   ]
  },
  {
   "cell_type": "code",
   "execution_count": 188,
   "metadata": {},
   "outputs": [
    {
     "name": "stdout",
     "output_type": "stream",
     "text": [
      "([14, 34, 55, 65, 73, 75, 80, 82, 98, 121], [1.0, 1.0, 1.0, 1.0, 1.0, 1.0, 1.0, 1.0, 1.0, 1.0])\n"
     ]
    }
   ],
   "source": [
    "print(kMostSimilarUsers(3, 10))"
   ]
  },
  {
   "cell_type": "code",
   "execution_count": 14,
   "metadata": {},
   "outputs": [],
   "source": [
    "def get_unrated_movie_ids(userId):\n",
    "    # Ottieni tutti i movieId unici presenti nel DataFrame ratings\n",
    "    all_movie_ids = movies['movieId'].tolist()\n",
    "    \n",
    "    # Ottieni i movieId valutati dal userId specificato\n",
    "    rated_movie_ids = ratings[ratings['userId'] == userId]['movieId'].tolist()\n",
    "    \n",
    "    # Trova i movieId non valutati dal userId\n",
    "    unrated_movie_ids = [movie_id for movie_id in all_movie_ids if movie_id not in rated_movie_ids]\n",
    "    \n",
    "    return unrated_movie_ids"
   ]
  },
  {
   "cell_type": "code",
   "execution_count": 22,
   "metadata": {},
   "outputs": [],
   "source": [
    "unrated_movies = get_unrated_movie_ids(1)"
   ]
  },
  {
   "cell_type": "code",
   "execution_count": 23,
   "metadata": {},
   "outputs": [],
   "source": [
    "def kMostRelevantMovies(user, k):\n",
    "    user_movie_ratings_matrix = create_user_movie_rating_matrix()\n",
    "    unrated_movies = get_unrated_movie_ids(user)\n",
    "    predictions = []\n",
    "    user_similarities_dict = compute_user_similarities(user)\n",
    "    for m in unrated_movies:\n",
    "        pred = generatePrediction(user, m, user_movie_ratings_matrix,user_similarities_dict)\n",
    "        predictions.append((m, pred)) \n",
    "    sorted_predictions = sorted(predictions, reverse=True, key=lambda x: x[1])\n",
    "    top_k_predictions = sorted_predictions[:k]\n",
    "    return top_k_predictions"
   ]
  },
  {
   "cell_type": "code",
   "execution_count": 24,
   "metadata": {},
   "outputs": [
    {
     "name": "stdout",
     "output_type": "stream",
     "text": [
      "[(5105, 7.790948275862069), (6967, 7.790948275862069), (7114, 7.790948275862069), (7742, 7.790948275862069), (175475, 7.571603190941842), (184641, 7.571603190941842), (168712, 7.462533156498673), (3604, 7.3393522833178), (97024, 7.144950738916256), (40491, 7.120924764890281)]\n"
     ]
    }
   ],
   "source": [
    "print(kMostRelevantMovies(1,10))"
   ]
  },
  {
   "cell_type": "markdown",
   "metadata": {},
   "source": [
    "### (e) Design and implement a new similarity function for computing similarities between users. Explain why this similarity function is useful for the collaborative filtering approach. Hint: Exploiting ideas from related works are highly encouraged."
   ]
  },
  {
   "cell_type": "markdown",
   "metadata": {},
   "source": [
    "#### Constrained Pearson Correlation Coefficient (CPCC)\n",
    "$$sim(a, b)^{CPCC} = \\frac{\\sum_{p \\in I} (r_{a,p} - r_{med})(r_{b,p} - r_{med})}{\\sqrt{\\sum_{p \\in I}(r_{a,p} - r_{med})^2}\\sqrt{\\sum_{p \\in I}(r_{b,p} - r_{med})^2}}$$"
   ]
  },
  {
   "cell_type": "code",
   "execution_count": 193,
   "metadata": {},
   "outputs": [],
   "source": [
    "def constrainedPearsonCorrelation(user1, user2):\n",
    "    num, den1, den2 = 0.0, 0.0, 0.0\n",
    "    possible_ratings = ratings['rating'].unique().tolist()\n",
    "    possible_ratings.sort()\n",
    "    print(possible_ratings)\n",
    "    median_value = median(possible_ratings)\n",
    "    print(median_value)\n",
    "\n",
    "    # set of movieIds evaluated by user1\n",
    "    items_user1 = set(ratings[ratings['userId'] == user1]['movieId'])\n",
    "    # set of movieIds evaluated by user2\n",
    "    items_user2 = set(ratings[ratings['userId'] == user2]['movieId'])\n",
    "    # set of movieIds evaluated by both user1 and user2 (intersection)\n",
    "    common_items = items_user1.intersection(items_user2)\n",
    "\n",
    "    for p in common_items:\n",
    "        r_1p = (ratings[(ratings['userId'] == user1) & (ratings['movieId'] == p)]['rating'].values)[0]\n",
    "        r_2p = (ratings[(ratings['userId'] == user2) & (ratings['movieId'] == p)]['rating'].values)[0]\n",
    "        num += (r_1p - median_value)*(r_2p - median_value)\n",
    "        den1 += pow((r_1p - median_value), 2)\n",
    "        den2 += pow((r_2p - median_value), 2)\n",
    "    den = ((math.sqrt(den1))*(math.sqrt(den2)))\n",
    "    if den == 0.0:\n",
    "        return 0.0\n",
    "    sim = num/den\n",
    "    return sim"
   ]
  },
  {
   "cell_type": "code",
   "execution_count": 194,
   "metadata": {},
   "outputs": [
    {
     "name": "stdout",
     "output_type": "stream",
     "text": [
      "[0.5, 1.0, 1.5, 2.0, 2.5, 3.0, 3.5, 4.0, 4.5, 5.0]\n",
      "2.75\n",
      "0.6593415600314004\n"
     ]
    }
   ],
   "source": [
    "corr = constrainedPearsonCorrelation(1,21)\n",
    "\n",
    "print(corr)"
   ]
  },
  {
   "cell_type": "markdown",
   "metadata": {},
   "source": [
    "#### Weighted Pearson Correlation Coefficient (WPCC)\n",
    "$$ sim(a,b)^{WPCC}=\\begin{cases} sim(a,b)^{PCC}*\\frac{|I|}{H}, & |I|\\le{H} \\\\ sim(a,b)^{PCC}, & otherwise\n",
    "\\end{cases} $$\n",
    "##### where I represents the set of common rating items by user u and v and H is an experimental value and it is set 50 "
   ]
  },
  {
   "cell_type": "code",
   "execution_count": 195,
   "metadata": {},
   "outputs": [],
   "source": [
    "def weightedPearsonCorrelation(user1, user2):\n",
    "    # set of movieIds evaluated by user1\n",
    "    items_user1 = set(ratings[ratings['userId'] == user1]['movieId'])\n",
    "    # set of movieIds evaluated by user2\n",
    "    items_user2 = set(ratings[ratings['userId'] == user2]['movieId'])\n",
    "    # set of movieIds evaluated by both user1 and user2 (intersection)\n",
    "    common_items = items_user1.intersection(items_user2)\n",
    "    \n",
    "    similarity = pearsonCorrelation(user1, user2)\n",
    "    I = len(common_items)\n",
    "    H = 50\n",
    "    if I <= H:\n",
    "        sim = similarity * (I/H)\n",
    "    else:\n",
    "        sim = similarity\n",
    "    return sim"
   ]
  },
  {
   "cell_type": "code",
   "execution_count": 196,
   "metadata": {},
   "outputs": [
    {
     "name": "stdout",
     "output_type": "stream",
     "text": [
      "0.08129287471712968\n"
     ]
    }
   ],
   "source": [
    "corr = weightedPearsonCorrelation(1,21)\n",
    "\n",
    "print(corr)"
   ]
  },
  {
   "cell_type": "markdown",
   "metadata": {},
   "source": [
    "#### Sigmoid Function based Pearson correlation coefficient (SPCC) \n",
    "$$sim(a, b)^{SPCC} = sim(a, b)^{PCC} * \\frac{1}{1 + \\exp{-(\\frac{|I|}{2})}}$$"
   ]
  },
  {
   "cell_type": "code",
   "execution_count": 197,
   "metadata": {},
   "outputs": [],
   "source": [
    "def sigmoidFunctionBasedPearsonCorrelation(user1, user2):\n",
    "    similarity = pearsonCorrelation(user1,user2)\n",
    "    # set of movieIds evaluated by user1\n",
    "    items_user1 = set(ratings[ratings['userId'] == user1]['movieId'])\n",
    "    # set of movieIds evaluated by user2\n",
    "    items_user2 = set(ratings[ratings['userId'] == user2]['movieId'])\n",
    "    # set of movieIds evaluated by both user1 and user2 (intersection)\n",
    "    common_items = items_user1.intersection(items_user2)\n",
    "    I = len(common_items)\n",
    "    sim = similarity * (1/(1+math.exp(-(I/2))))\n",
    "    return sim"
   ]
  },
  {
   "cell_type": "code",
   "execution_count": 198,
   "metadata": {},
   "outputs": [
    {
     "name": "stdout",
     "output_type": "stream",
     "text": [
      "0.08648178160858498\n"
     ]
    }
   ],
   "source": [
    "corr = sigmoidFunctionBasedPearsonCorrelation(1,21)\n",
    "\n",
    "print(corr)"
   ]
  },
  {
   "cell_type": "markdown",
   "metadata": {},
   "source": [
    "####  Adjusted Cosine Measure\n",
    "$$sim(a, b)^{ACOS} = \\frac{\\sum_{p \\in P} (r_{a,p} - \\bar{r_a})(r_{b,p} - \\bar{r_b})}{\\sqrt{\\sum_{p \\in P}(r_{a,p} - \\bar{r_a})^2}\\sqrt{\\sum_{p \\in P}(r_{b,p} - \\bar{r_b})^2}}$$\n",
    "##### where $P$ is the set of all items. If user $u$ has not rated the item $p∈P$, the rating $r_{u,p}$ is zero."
   ]
  },
  {
   "cell_type": "code",
   "execution_count": 199,
   "metadata": {},
   "outputs": [],
   "source": [
    "def adjustedCosineMeasure(user1, user2):\n",
    "    num, den1, den2 = 0.0, 0.0, 0.0\n",
    "    ratings_user1 = ratings[ratings['userId'] == user1]\n",
    "    rmean_user1 = ratings_user1['rating'].mean()\n",
    "    ratings_user2 = ratings[ratings['userId'] == user2]\n",
    "    rmean_user2 = ratings_user2['rating'].mean()\n",
    "\n",
    "    all_items = movies['movieId'].tolist()\n",
    "    \n",
    "    # set of movieIds evaluated by user1\n",
    "    items_user1 = set(ratings[ratings['userId'] == user1]['movieId'])\n",
    "    # set of movieIds evaluated by user2\n",
    "    items_user2 = set(ratings[ratings['userId'] == user2]['movieId'])\n",
    "\n",
    "    for p in all_items:\n",
    "        if p not in items_user1:\n",
    "            r_1p = 0.0\n",
    "        else:\n",
    "            r_1p = (ratings[(ratings['userId'] == user1) & (ratings['movieId'] == p)]['rating'].values)[0]\n",
    "        if p not in items_user2:\n",
    "            r_2p = 0.0\n",
    "        else:\n",
    "            r_2p = (ratings[(ratings['userId'] == user2) & (ratings['movieId'] == p)]['rating'].values)[0]\n",
    "        num += (r_1p - rmean_user1)*(r_2p - rmean_user2)\n",
    "        den1 += pow((r_1p - rmean_user1), 2)\n",
    "        den2 += pow((r_2p - rmean_user2), 2)\n",
    "    den = ((math.sqrt(den1))*(math.sqrt(den2)))\n",
    "    if den == 0.0:\n",
    "        return 0.0\n",
    "    sim = num/den\n",
    "    return sim"
   ]
  },
  {
   "cell_type": "code",
   "execution_count": 200,
   "metadata": {},
   "outputs": [
    {
     "name": "stdout",
     "output_type": "stream",
     "text": [
      "0.9671568115412114\n"
     ]
    }
   ],
   "source": [
    "corr = adjustedCosineMeasure(1,21)\n",
    "\n",
    "print(corr)"
   ]
  },
  {
   "cell_type": "markdown",
   "metadata": {},
   "source": [
    "#### Jaccard\n",
    "$$sim(a, b)^{Jaccard} = \\frac{|I_a| \\cap {|I_b|}}{|I_a| \\cup {|I_b|}}$$"
   ]
  },
  {
   "cell_type": "code",
   "execution_count": 201,
   "metadata": {},
   "outputs": [],
   "source": [
    "def jaccard(user1, user2):\n",
    "    # set of movieIds evaluated by user1\n",
    "    items_user1 = set(ratings[ratings['userId'] == user1]['movieId'])\n",
    "    # set of movieIds evaluated by user2\n",
    "    items_user2 = set(ratings[ratings['userId'] == user2]['movieId'])\n",
    "\n",
    "    intersection = len(items_user1.intersection(items_user2))\n",
    "    union = len(items_user1.union(items_user2))\n",
    "    return intersection / union"
   ]
  },
  {
   "cell_type": "code",
   "execution_count": 202,
   "metadata": {},
   "outputs": [
    {
     "name": "stdout",
     "output_type": "stream",
     "text": [
      "0.07484076433121019\n"
     ]
    }
   ],
   "source": [
    "corr = jaccard(1,21)\n",
    "\n",
    "print(corr)"
   ]
  },
  {
   "cell_type": "markdown",
   "metadata": {},
   "source": [
    "#### Mean Squared Difference (MSD)\n",
    "$$sim(a, b)^{MSD} = 1 - \\frac{\\sum_{p \\in I} (r_{a,p} - r_{b,p})^2}{|I|}$$"
   ]
  },
  {
   "cell_type": "code",
   "execution_count": 203,
   "metadata": {},
   "outputs": [],
   "source": [
    "def meanSquaredDifference(user1, user2):\n",
    "    num = 0.0\n",
    "    # set of movieIds evaluated by user1\n",
    "    items_user1 = set(ratings[ratings['userId'] == user1]['movieId'])\n",
    "    # set of movieIds evaluated by user2\n",
    "    items_user2 = set(ratings[ratings['userId'] == user2]['movieId'])\n",
    "    # set of movieIds evaluated by both user1 and user2 (intersection)\n",
    "    common_items = items_user1.intersection(items_user2)\n",
    "    I = len(common_items)\n",
    "\n",
    "    for p in common_items:    \n",
    "        r_1p = (ratings[(ratings['userId'] == user1) & (ratings['movieId'] == p)]['rating'].values)[0]\n",
    "        r_2p = (ratings[(ratings['userId'] == user2) & (ratings['movieId'] == p)]['rating'].values)[0]\n",
    "        num += pow((r_1p - r_2p), 2)\n",
    "    \n",
    "    if I != 0:\n",
    "        sim = 1 - (num / I)\n",
    "    else:\n",
    "        sim = 0.0\n",
    "    return sim\n",
    "    "
   ]
  },
  {
   "cell_type": "code",
   "execution_count": 204,
   "metadata": {},
   "outputs": [
    {
     "name": "stdout",
     "output_type": "stream",
     "text": [
      "-0.7606382978723405\n"
     ]
    }
   ],
   "source": [
    "corr = meanSquaredDifference(1,21)\n",
    "\n",
    "print(corr)"
   ]
  },
  {
   "cell_type": "markdown",
   "metadata": {},
   "source": [
    "####  Jaccard and MSD can be combined to form a new metric. \n",
    "$$sim(a, b)^{JMSD} = sim(a, b)^{Jaccard}*sim(a, b)^{MSD}"
   ]
  },
  {
   "cell_type": "code",
   "execution_count": 205,
   "metadata": {},
   "outputs": [],
   "source": [
    "def JaccardAndMSD(user1, user2):\n",
    "    return jaccard(user1,user2)*meanSquaredDifference(user1,user2)"
   ]
  },
  {
   "cell_type": "code",
   "execution_count": 206,
   "metadata": {},
   "outputs": [
    {
     "name": "stdout",
     "output_type": "stream",
     "text": [
      "-0.05692675159235669\n"
     ]
    }
   ],
   "source": [
    "corr = JaccardAndMSD(1,21)\n",
    "\n",
    "print(corr)"
   ]
  }
 ],
 "metadata": {
  "kernelspec": {
   "display_name": "Python 3",
   "language": "python",
   "name": "python3"
  },
  "language_info": {
   "codemirror_mode": {
    "name": "ipython",
    "version": 3
   },
   "file_extension": ".py",
   "mimetype": "text/x-python",
   "name": "python",
   "nbconvert_exporter": "python",
   "pygments_lexer": "ipython3",
   "version": "3.10.8"
  }
 },
 "nbformat": 4,
 "nbformat_minor": 2
}
