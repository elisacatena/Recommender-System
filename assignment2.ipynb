{
 "cells": [
  {
   "cell_type": "code",
   "execution_count": 54,
   "metadata": {},
   "outputs": [],
   "source": [
    "import pandas as pd\n",
    "import math\n",
    "import numpy as np"
   ]
  },
  {
   "cell_type": "code",
   "execution_count": 55,
   "metadata": {},
   "outputs": [
    {
     "name": "stdout",
     "output_type": "stream",
     "text": [
      "Number of rows: 100836\n",
      " userId  movieId  rating  timestamp\n",
      "      1        1     4.0  964982703\n",
      "      1        3     4.0  964981247\n",
      "      1        6     4.0  964982224\n",
      "      1       47     5.0  964983815\n",
      "      1       50     5.0  964982931\n",
      "      1       70     3.0  964982400\n",
      "      1      101     5.0  964980868\n",
      "      1      110     4.0  964982176\n",
      "      1      151     5.0  964984041\n",
      "      1      157     5.0  964984100\n"
     ]
    }
   ],
   "source": [
    "ratings = pd.read_csv(\"ml-latest-small/ratings.csv\")\n",
    "n_rows = ratings.shape[0]\n",
    "\n",
    "print(\"Number of rows: \" + str(n_rows))\n",
    "# Show the first 10 rows of the dataframe\n",
    "print(ratings.head(10).to_string(index=False))"
   ]
  },
  {
   "cell_type": "code",
   "execution_count": 56,
   "metadata": {},
   "outputs": [
    {
     "name": "stdout",
     "output_type": "stream",
     "text": [
      "Number of rows: 9742\n",
      " movieId                              title                                      genres\n",
      "       1                   Toy Story (1995) Adventure|Animation|Children|Comedy|Fantasy\n",
      "       2                     Jumanji (1995)                  Adventure|Children|Fantasy\n",
      "       3            Grumpier Old Men (1995)                              Comedy|Romance\n",
      "       4           Waiting to Exhale (1995)                        Comedy|Drama|Romance\n",
      "       5 Father of the Bride Part II (1995)                                      Comedy\n",
      "       6                        Heat (1995)                       Action|Crime|Thriller\n",
      "       7                     Sabrina (1995)                              Comedy|Romance\n",
      "       8                Tom and Huck (1995)                          Adventure|Children\n",
      "       9                Sudden Death (1995)                                      Action\n",
      "      10                   GoldenEye (1995)                   Action|Adventure|Thriller\n"
     ]
    }
   ],
   "source": [
    "movies = pd.read_csv(\"ml-latest-small/movies.csv\")\n",
    "n_rows = movies.shape[0]\n",
    "\n",
    "print(\"Number of rows: \" + str(n_rows))\n",
    "# Show the first 10 rows of the dataframe\n",
    "print(movies.head(10).to_string(index=False))"
   ]
  },
  {
   "cell_type": "markdown",
   "metadata": {},
   "source": [
    "### Functions implemented for assignment 1"
   ]
  },
  {
   "cell_type": "code",
   "execution_count": 57,
   "metadata": {},
   "outputs": [],
   "source": [
    "def create_user_movie_rating_matrix():\n",
    "    \"\"\"\n",
    "    Creates a user-movie rating matrix.\n",
    "\n",
    "    Returns:\n",
    "        DataFrame: A matrix where rows represent users, columns represent movies,\n",
    "                   and each cell contains the rating given by the user to the movie.\n",
    "    \"\"\"\n",
    "    # Create a pivot table with user ratings for each movie\n",
    "    user_movie_ratings_matrix = pd.pivot_table(ratings, values='rating', index='userId', columns='movieId')\n",
    "    # Get unique movie IDs\n",
    "    all_movie_ids = movies['movieId'].unique()\n",
    "    # Reindex the matrix columns with all movie IDs\n",
    "    user_movie_ratings_matrix = user_movie_ratings_matrix.reindex(columns=all_movie_ids)\n",
    "    return user_movie_ratings_matrix  # Return the user-movie rating matrix"
   ]
  },
  {
   "cell_type": "code",
   "execution_count": 58,
   "metadata": {},
   "outputs": [],
   "source": [
    "def get_ratings_dict():\n",
    "    \"\"\"\n",
    "    Creates a dictionary to store movie ratings for each user.\n",
    "\n",
    "    Returns:\n",
    "        dict: A dictionary containing movie ratings for each user.\n",
    "              Keys are user IDs, and values are lists of tuples (movieId, rating).\n",
    "    \"\"\"\n",
    "    # Dictionary to store the pairs (movieId,ratings) for each user\n",
    "    user_data = {}\n",
    "    # Populate the dictionary\n",
    "    for _, row in ratings.iterrows():\n",
    "        userId = row['userId']\n",
    "        movieId = int(row['movieId'])\n",
    "        rating = row['rating']\n",
    "        # Check if userId is already present in the dictionary\n",
    "        if userId in user_data:\n",
    "            user_data[userId].append((movieId, rating))\n",
    "        else:\n",
    "            # If userId is not present, create a new list with the tuple (movieId, rating)\n",
    "            user_data[userId] = [(movieId, rating)]\n",
    "    \n",
    "    return user_data"
   ]
  },
  {
   "cell_type": "code",
   "execution_count": 59,
   "metadata": {},
   "outputs": [],
   "source": [
    "def pearsonCorrelation(user1, user2, user_data):\n",
    "    \"\"\"\n",
    "    Calculates the Pearson correlation coefficient between two users based on their ratings.\n",
    "\n",
    "    Args:\n",
    "        user1 (int): The ID of the first user.\n",
    "        user2 (int): The ID of the second user.\n",
    "        user_data (dict): A dictionary containing movieId-ratings pairs for each user.\n",
    "\n",
    "    Returns:\n",
    "        float: The Pearson correlation coefficient between the two users.\n",
    "    \"\"\"\n",
    "    num, den1, den2 = 0.0, 0.0, 0.0\n",
    "    \n",
    "    # Fetch ratings of user1 and calculate mean rating of user1\n",
    "    ratings_user1 = user_data[user1]\n",
    "    user1_ratings = np.array([rating for _, rating in ratings_user1])\n",
    "    rmean_user1 = np.mean(user1_ratings)\n",
    "    \n",
    "    # Fetch ratings of user2 and calculate mean rating of user2\n",
    "    ratings_user2 = user_data[user2]\n",
    "    user2_ratings = np.array([rating for _, rating in ratings_user2])\n",
    "    rmean_user2 = np.mean(user2_ratings)\n",
    "\n",
    "    # set of movieIds evaluated by user1\n",
    "    items_user1 = {movieId for movieId, _ in ratings_user1}\n",
    "    # set of movieIds evaluated by user2\n",
    "    items_user2 = {movieId for movieId, _ in ratings_user2}\n",
    "    # set of movieIds evaluated by both user1 and user2 (intersection)\n",
    "    common_items = items_user1 & items_user2\n",
    "\n",
    "    # Calculate Pearson correlation for common items\n",
    "    for p in common_items:\n",
    "        # Fetch ratings of user1 and user2 for the common item\n",
    "        r_1p = next(r for m, r in ratings_user1 if m == p)\n",
    "        r_2p = next(r for m, r in ratings_user2 if m == p)\n",
    "        num += (r_1p - rmean_user1) * (r_2p - rmean_user2)\n",
    "        den1 += (r_1p - rmean_user1) ** 2\n",
    "        den2 += (r_2p - rmean_user2) ** 2\n",
    "    \n",
    "    # Calculate denominator\n",
    "    den = np.sqrt(den1 * den2) if den1 != 0 and den2 != 0 else 0.0\n",
    "    \n",
    "    # Check for division by zero\n",
    "    if den == 0.0:\n",
    "        return 0.0\n",
    "    \n",
    "    # Calculate Pearson correlation coefficient\n",
    "    sim = num / den\n",
    "    return sim\n"
   ]
  },
  {
   "cell_type": "code",
   "execution_count": 60,
   "metadata": {},
   "outputs": [],
   "source": [
    "def compute_all_user_similarities():\n",
    "    \"\"\"\n",
    "    Computes similarities between all pairs of users based on their movie ratings.\n",
    "\n",
    "    Returns:\n",
    "        dict: A dictionary of dictionaries containing similarities between all pairs of users.\n",
    "              Keys are user IDs, and values are dictionaries where keys are other user IDs\n",
    "              and values are similarity scores.\n",
    "    \"\"\"\n",
    "    num_users = ratings[\"userId\"].nunique()\n",
    "    similarities_dict = {}\n",
    "    # Get movie ratings for each user\n",
    "    user_data = get_ratings_dict()\n",
    "    # Iterate through all user pairs\n",
    "    for user1 in range(1,num_users+1):\n",
    "        similarities_dict[user1] = {}\n",
    "        for user2 in range(user1,num_users+1):\n",
    "            if not user2 in similarities_dict:\n",
    "                similarities_dict[user2] = {}\n",
    "            if user1 != user2:\n",
    "                # Calculate similarity between user1 and user2\n",
    "                sim = pearsonCorrelation(user1,user2, user_data)\n",
    "                # Store similarity for both user1 and user2 in the dictionary\n",
    "                similarities_dict[user1][user2] = sim\n",
    "                similarities_dict[user2][user1] = sim\n",
    "    return similarities_dict "
   ]
  },
  {
   "cell_type": "code",
   "execution_count": 61,
   "metadata": {},
   "outputs": [],
   "source": [
    "def generatePrediction(user, item, user_movie_ratings_matrix, similarities_dict, rmean_user, topK_simlar_users):\n",
    "    \"\"\"\n",
    "    Generates a prediction for a user's rating on a specific item (movie) based on collaborative filtering.\n",
    "\n",
    "    Args:\n",
    "        user (int): The ID of the user.\n",
    "        item (int): The ID of the item (movie).\n",
    "        user_movie_ratings_matrix (DataFrame): A DataFrame containing user-item ratings.\n",
    "        similarities_dict (dict): A dictionary containing similarities between users.\n",
    "        rmean_user (float): The mean rating of the user.\n",
    "        topK_similar_users (list): A list of IDs of top K similar users to the target user.\n",
    "\n",
    "    Returns:\n",
    "        float: The predicted rating for the user on the specified item.\n",
    "    \"\"\"\n",
    "    # Check if the movie has already been rated by the user\n",
    "    if not np.isnan(user_movie_ratings_matrix.at[user, item]):\n",
    "        return user_movie_ratings_matrix.at[user, item]\n",
    "    \n",
    "    num, den = 0.0, 0.0\n",
    "    # Iterate through top K similar users\n",
    "    for u in topK_simlar_users:\n",
    "        if not np.isnan(user_movie_ratings_matrix.at[u, item]):        \n",
    "            rmean_u = user_movie_ratings_matrix.loc[u].mean()   # Mean rating of the similar user u\n",
    "            r_up = user_movie_ratings_matrix.at[u, item]    # Rating of item by user u\n",
    "            similarity = similarities_dict[user][u]     # Similarity between target user and user u\n",
    "            num += similarity * (r_up - rmean_u)\n",
    "            den += abs(similarity)\n",
    "    # Calculate the predicted rating\n",
    "    if den == 0.0:\n",
    "        # Use the mean rating of the target user if no similar users have rated the item\n",
    "        pred = rmean_user\n",
    "    else:\n",
    "        # Calculate the prediction using the collaborative filtering formula\n",
    "        pred = rmean_user + (num / den)\n",
    "    return pred"
   ]
  },
  {
   "cell_type": "code",
   "execution_count": 62,
   "metadata": {},
   "outputs": [],
   "source": [
    "def get_unrated_movie_ids(userId):\n",
    "    \"\"\"\n",
    "    Finds the movie IDs that have not been rated by the specified user.\n",
    "\n",
    "    Args:\n",
    "        userId (int): The ID of the user.\n",
    "\n",
    "    Returns:\n",
    "        list: A list of movie IDs that have not been rated by the specified user.\n",
    "    \"\"\"\n",
    "    # Get all unique movie IDs present in the ratings DataFrame\n",
    "    all_movie_ids = movies['movieId'].tolist()\n",
    "    # Get the movie IDs rated by the specified userId\n",
    "    rated_movie_ids = ratings[ratings['userId'] == userId]['movieId'].tolist()\n",
    "    # Find the movie IDs not rated by the userId\n",
    "    unrated_movie_ids = [movie_id for movie_id in all_movie_ids if movie_id not in rated_movie_ids]\n",
    "    return unrated_movie_ids"
   ]
  },
  {
   "cell_type": "code",
   "execution_count": 63,
   "metadata": {},
   "outputs": [],
   "source": [
    "def get_all_unrated_movies(users):\n",
    "    \"\"\"\n",
    "    Gets the set of all unrated movies among a list of users.\n",
    "\n",
    "    Args:\n",
    "        users (list): A list of user IDs.\n",
    "\n",
    "    Returns:\n",
    "        list: A list containing IDs of all unrated movies among the given users.\n",
    "    \"\"\"\n",
    "    # Initialize a set to store all unrated movies across all users\n",
    "    union_unrated_movies = set()\n",
    "    # Iterate through each user in the list\n",
    "    for user in users:\n",
    "        # get the movies not rated by that user\n",
    "        user_unrated_movies = get_unrated_movie_ids(user)\n",
    "        # Update the set to store all unrated movies\n",
    "        union_unrated_movies.update(user_unrated_movies)\n",
    "    # Convert the set to a list and return it\n",
    "    return list(union_unrated_movies)"
   ]
  },
  {
   "cell_type": "code",
   "execution_count": 64,
   "metadata": {},
   "outputs": [],
   "source": [
    "def kMostSimilarUsers(user, k, similarities_dict):\n",
    "    \"\"\"\n",
    "    Gets the top k most similar users to a given user based on similarity coefficients.\n",
    "\n",
    "    Args:\n",
    "        user (int): The ID of the target user.\n",
    "        k (int): The number of most similar users to retrieve.\n",
    "        similarities_dict (dict): A dictionary containing similarities between users.\n",
    "\n",
    "    Returns:\n",
    "        list: A list of IDs of the top k most similar users to the target user.\n",
    "    \"\"\"\n",
    "    # Retrieve similarity coefficients of the target user with all other users\n",
    "    user_similarities = similarities_dict[user]\n",
    "    # Sort users by similarity coefficient in descending order\n",
    "    sorted_user_similarities = sorted(user_similarities, key=user_similarities.get, reverse=True)\n",
    "    # Extract the top k similar users\n",
    "    top_k_users = sorted_user_similarities[:k]\n",
    "    return top_k_users"
   ]
  },
  {
   "cell_type": "markdown",
   "metadata": {},
   "source": [
    "### (a) For producing group recommendation, we will use the user-based collaborative filtering approach as this implemented in Assignment 1. Specifically, for producing group recommendations, we will first compute the movies recommendations for each user in the group, and then we will aggregate the lists of the individual users, so as to produce a single list of movies for the group. You will implement two well established aggregation methods for producing the group recommendations."
   ]
  },
  {
   "cell_type": "markdown",
   "metadata": {},
   "source": [
    "### The first aggregation approach is the <em>average method</em>. The main idea behind this approach is that all members are considered equals. So, the rating of an item for a group of users will be given be averaging the scores of an item across all group members."
   ]
  },
  {
   "cell_type": "code",
   "execution_count": 65,
   "metadata": {},
   "outputs": [],
   "source": [
    "def averageMethod(group, item, user_movie_ratings_matrix, users_similarities_dict):\n",
    "    \"\"\"\n",
    "    Computes the predicted rating for an item using the average method.\n",
    "\n",
    "    Args:\n",
    "        group (list): A list of user IDs forming the group.\n",
    "        item (int): The ID of the item (movie) for which the prediction is generated.\n",
    "        users_similarities_dict (dict): A dictionary of dictionaries containing similarities between users.\n",
    "\n",
    "    Returns:\n",
    "        float: The predicted rating for the specified item based on the average rating of the group members.\n",
    "    \"\"\"\n",
    "    scores_sum = 0.0\n",
    "    # Generate predictions for each user in the group and sum up the scores\n",
    "    for user in group:\n",
    "        rmean_user = user_movie_ratings_matrix.loc[user].mean()\n",
    "        topK_simlar_users = kMostSimilarUsers(user, 50, users_similarities_dict)\n",
    "        rating = generatePrediction(user, item,user_movie_ratings_matrix,users_similarities_dict,rmean_user,topK_simlar_users)\n",
    "        scores_sum += rating\n",
    "    # Calculate the average prediction\n",
    "    pred = scores_sum / len(group)\n",
    "    return round(pred,2)"
   ]
  },
  {
   "cell_type": "markdown",
   "metadata": {},
   "source": [
    "### The second aggregation method is the <em>least misery method</em>, where one member can act as a veto for the rest of the group. In this case, the rating of an item for a group of users is computed as the minimum score assigned to that item in all group members recommendations."
   ]
  },
  {
   "cell_type": "code",
   "execution_count": 66,
   "metadata": {},
   "outputs": [],
   "source": [
    "def leastMiseryMethod(group, item, user_movie_ratings_matrix, users_similarities_dict):\n",
    "    \"\"\"\n",
    "    Computes the predicted rating for an item using the least misery method.\n",
    "\n",
    "    Args:\n",
    "        group (list): A list of user IDs forming the group.\n",
    "        item (int): The ID of the item (movie) for which the prediction is generated.\n",
    "        users_similarities_dict (dict): A dictionary of dictionaries containing similarities between users.\n",
    "\n",
    "    Returns:\n",
    "        float: The predicted rating for the specified item based on the least misery method.\n",
    "    \"\"\"\n",
    "    # Initialize list to store ratings\n",
    "    scores = []\n",
    "    # Generate predictions for each user in the group and store the ratings\n",
    "    for user in group:\n",
    "        rmean_user = user_movie_ratings_matrix.loc[user].mean()\n",
    "        topK_simlar_users = kMostSimilarUsers(user, 50, users_similarities_dict)\n",
    "        rating = generatePrediction(user, item, user_movie_ratings_matrix, users_similarities_dict,rmean_user,topK_simlar_users)\n",
    "        scores.append(rating)\n",
    "    # Choose the lowest rating as the prediction\n",
    "    pred = min(scores)\n",
    "    return round(pred,2)"
   ]
  },
  {
   "cell_type": "markdown",
   "metadata": {},
   "source": [
    "### Produce a group of 3 users, and for this group, show the top-10 recommendations, i.e., the 10 movies with the highest prediction scores that (i) the average method suggests, and (ii) the least misery method suggest. Use the MovieLens 100K rating dataset."
   ]
  },
  {
   "cell_type": "code",
   "execution_count": 67,
   "metadata": {},
   "outputs": [],
   "source": [
    "def topKMoviesAverage(group,k):\n",
    "    \"\"\"\n",
    "    Finds the top k movies with the highest average predicted ratings for the specified group of users.\n",
    "\n",
    "    Args:\n",
    "        group (list): A list of user IDs forming the group.\n",
    "        k (int): The number of top movies to return.\n",
    "\n",
    "    Returns:\n",
    "        list: A list of tuples containing the IDs and predicted ratings of the top k movies\n",
    "              with the highest average predicted ratings, sorted by predicted rating in descending order.\n",
    "    \"\"\"\n",
    "    # Create user-movie rating matrix\n",
    "    user_movie_ratings_matrix = create_user_movie_rating_matrix()\n",
    "    # Get unrated movie IDs for the user\n",
    "    unrated_movies = get_all_unrated_movies(group)\n",
    "    # Initialize list to store predictions and a dictionary to store user similarities\n",
    "    predictions = []\n",
    "    users_similarities_dict = compute_all_user_similarities()\n",
    "    # Generate predictions for each movie\n",
    "    for m in unrated_movies:\n",
    "        pred = averageMethod(group, m, user_movie_ratings_matrix, users_similarities_dict)\n",
    "        predictions.append((m, pred)) \n",
    "    # Sort predictions by predicted rating in descending order\n",
    "    sorted_predictions = sorted(predictions, reverse=True, key=lambda x: x[1])\n",
    "    if len(sorted_predictions) <= k:\n",
    "        k = len(sorted_predictions)\n",
    "    # Select top k predictions\n",
    "    top_k_predictions = sorted_predictions[:k]\n",
    "    print(f\"The top {k} movies recommended for the group {group} are:\")\n",
    "    i = 1\n",
    "    for movie_id, pred in top_k_predictions:\n",
    "        movie_title = movies.loc[movies['movieId'] == movie_id, 'title'].values[0]\n",
    "        print(f\"{i}. MovieID: {movie_id}, Title: {movie_title}, Score: {pred}\")\n",
    "        i += 1"
   ]
  },
  {
   "cell_type": "code",
   "execution_count": 68,
   "metadata": {},
   "outputs": [],
   "source": [
    "def topKMoviesLeastMisery(group,k):\n",
    "    \"\"\"\n",
    "    Finds the top k movies with the highest predicted ratings using the least misery method for the specified group of users.\n",
    "\n",
    "    Args:\n",
    "        group (list): A list of user IDs forming the group.\n",
    "        k (int): The number of top movies to return.\n",
    "\n",
    "    Returns:\n",
    "        list: A list of tuples containing the IDs and predicted ratings of the top k movies\n",
    "              with the highest predicted ratings using the least misery method, sorted by predicted rating in descending order.\n",
    "    \"\"\"\n",
    "    # Create user-movie rating matrix\n",
    "    user_movie_ratings_matrix = create_user_movie_rating_matrix()\n",
    "    # Get unrated movie IDs for the user\n",
    "    unrated_movies = get_all_unrated_movies(group)\n",
    "    # Initialize list to store predictions and a dictionary to store user similarities\n",
    "    predictions = []\n",
    "    users_similarities_dict = compute_all_user_similarities()\n",
    "    # Generate predictions for each movie using the least misery method\n",
    "    for m in unrated_movies:\n",
    "        pred = leastMiseryMethod(group, m, user_movie_ratings_matrix, users_similarities_dict)\n",
    "        predictions.append((m, pred)) \n",
    "    sorted_predictions = sorted(predictions, reverse=True, key=lambda x: x[1])\n",
    "    if len(sorted_predictions) <= k:\n",
    "        k = len(sorted_predictions)\n",
    "    top_k_predictions = sorted_predictions[:k]\n",
    "    print(f\"The top {k} movies recommended for the group {group} are:\")\n",
    "    i = 1\n",
    "    for movie_id, pred in top_k_predictions:\n",
    "        movie_title = movies.loc[movies['movieId'] == movie_id, 'title'].values[0]\n",
    "        print(f\"{i}. MovieID: {movie_id}, Title: {movie_title}, Score: {pred}\")\n",
    "        i += 1"
   ]
  },
  {
   "cell_type": "markdown",
   "metadata": {},
   "source": [
    "### (b) The methods employed in part (a) of Assignment 2, do not consider any disagreements between the users in the group. In part (b) of Assignment 2, define a way for counting the disagreements between the users in a group, and propose a method that takes disagreements into account when computing suggestions for the group."
   ]
  },
  {
   "cell_type": "code",
   "execution_count": 69,
   "metadata": {},
   "outputs": [],
   "source": [
    "def weightedAverageMethod(group, item, user_movie_ratings_matrix, users_similarities_dict):\n",
    "    \"\"\"\n",
    "    Calculates the predicted rating for an item using the weighted average method based on group ratings.\n",
    "\n",
    "    Args:\n",
    "        group (list): A list of user IDs forming the group.\n",
    "        item (int): The ID of the item (movie) for which the rating is to be predicted.\n",
    "        user_movie_ratings_matrix (DataFrame): A DataFrame containing user-item ratings.\n",
    "        users_similarities_dict (dict): A dictionary containing similarities between users.\n",
    "\n",
    "    Returns:\n",
    "        float: The predicted rating for the item using the weighted average method.\n",
    "    \"\"\"\n",
    "    group_size = len(group)\n",
    "    sum_disagreements = 0\n",
    "    # Dictionary to store predicted ratings for each user in the group\n",
    "    ratings = {}\n",
    "    weighted_sum = 0\n",
    "    # Calculate predicted ratings for each user in the group\n",
    "    for user in group:\n",
    "        # Calculate the mean rating of the user\n",
    "        rmean_user = user_movie_ratings_matrix.loc[user].mean()\n",
    "        # Get top K similar users\n",
    "        topK_simlar_users = kMostSimilarUsers(user, 50, users_similarities_dict)\n",
    "        rating = generatePrediction(user, item, user_movie_ratings_matrix, users_similarities_dict, rmean_user,topK_simlar_users)\n",
    "        ratings[user] = rating\n",
    "        # Accumulate the sum of disagreements\n",
    "        sum_disagreements += (1/group_size) * rating\n",
    "    # Dictionary to store disagreement for each user\n",
    "    user_disagreements = {}\n",
    "    disagreements_sum = 0\n",
    "    # Calculate disagreement for each user\n",
    "    for user in group:\n",
    "        user_disagreement = abs(ratings[user] - sum_disagreements)\n",
    "        user_disagreements[user] = user_disagreement\n",
    "        # Accumulate the weighted sum of ratings\n",
    "        weighted_sum += user_disagreement * ratings[user]\n",
    "        # Accumulate the sum of disagreements\n",
    "        disagreements_sum += user_disagreement\n",
    "    # Check if the sum of disagreements is zero to avoid division by zero\n",
    "    if sum_disagreements == 0:\n",
    "        return averageMethod(group, item, user_movie_ratings_matrix, users_similarities_dict)\n",
    "    else:\n",
    "        return round(weighted_sum/disagreements_sum,2)"
   ]
  },
  {
   "cell_type": "code",
   "execution_count": 70,
   "metadata": {},
   "outputs": [],
   "source": [
    "def topKMoviesWeightedAverage(group,k):\n",
    "    \"\"\"\n",
    "    Finds the top k movies with the highest predicted ratings using the least misery method for the specified group of users.\n",
    "\n",
    "    Args:\n",
    "        group (list): A list of user IDs forming the group.\n",
    "        k (int): The number of top movies to return.\n",
    "\n",
    "    Returns:\n",
    "        list: A list of tuples containing the IDs and predicted ratings of the top k movies\n",
    "              with the highest predicted ratings using the least misery method, sorted by predicted rating in descending order.\n",
    "    \"\"\"\n",
    "    # Create user-movie rating matrix\n",
    "    user_movie_ratings_matrix = create_user_movie_rating_matrix()\n",
    "    # Get unrated movie IDs for the user\n",
    "    unrated_movies = get_all_unrated_movies(group)\n",
    "    # Initialize list to store predictions and a dictionary to store user similarities\n",
    "    predictions = []\n",
    "    users_similarities_dict = compute_all_user_similarities()\n",
    "    # Generate predictions for each movie using the least misery method\n",
    "    for m in unrated_movies:\n",
    "        pred = weightedAverageMethod(group, m, user_movie_ratings_matrix, users_similarities_dict)\n",
    "        predictions.append((m, pred)) \n",
    "    sorted_predictions = sorted(predictions, reverse=True, key=lambda x: x[1])\n",
    "    if len(sorted_predictions) <= k:\n",
    "        k = len(sorted_predictions)\n",
    "    top_k_predictions = sorted_predictions[:k]\n",
    "    print(f\"The top {k} movies recommended for the group {group} are:\")\n",
    "    i = 1\n",
    "    for movie_id, pred in top_k_predictions:\n",
    "        movie_title = movies.loc[movies['movieId'] == movie_id, 'title'].values[0]\n",
    "        print(f\"{i}. MovieID: {movie_id}, Title: {movie_title}, Score: {pred}\")\n",
    "        i += 1"
   ]
  },
  {
   "cell_type": "markdown",
   "metadata": {},
   "source": [
    "# Experiments"
   ]
  },
  {
   "cell_type": "code",
   "execution_count": 74,
   "metadata": {},
   "outputs": [
    {
     "name": "stdout",
     "output_type": "stream",
     "text": [
      "The top 10 movies recommended for the group [59, 125, 471] are:\n",
      "1. MovieID: 1327, Title: Amityville Horror, The (1979), Score: 5.79\n",
      "2. MovieID: 2700, Title: South Park: Bigger, Longer and Uncut (1999), Score: 5.71\n",
      "3. MovieID: 1350, Title: Omen, The (1976), Score: 5.66\n",
      "4. MovieID: 2513, Title: Pet Sematary (1989), Score: 5.61\n",
      "5. MovieID: 1248, Title: Touch of Evil (1958), Score: 5.46\n",
      "6. MovieID: 1231, Title: Right Stuff, The (1983), Score: 5.44\n",
      "7. MovieID: 3972, Title: Legend of Drunken Master, The (Jui kuen II) (1994), Score: 5.39\n",
      "8. MovieID: 1924, Title: Plan 9 from Outer Space (1959), Score: 5.36\n",
      "9. MovieID: 2583, Title: Cookie's Fortune (1999), Score: 5.22\n",
      "10. MovieID: 3543, Title: Diner (1982), Score: 5.17\n"
     ]
    }
   ],
   "source": [
    "topKMoviesAverage([59,125,471],10)"
   ]
  },
  {
   "cell_type": "code",
   "execution_count": 75,
   "metadata": {},
   "outputs": [
    {
     "name": "stdout",
     "output_type": "stream",
     "text": [
      "The top 10 movies recommended for the group [59, 125, 471] are:\n",
      "1. MovieID: 1248, Title: Touch of Evil (1958), Score: 5.25\n",
      "2. MovieID: 1231, Title: Right Stuff, The (1983), Score: 4.99\n",
      "3. MovieID: 2700, Title: South Park: Bigger, Longer and Uncut (1999), Score: 4.91\n",
      "4. MovieID: 6787, Title: All the President's Men (1976), Score: 4.87\n",
      "5. MovieID: 306, Title: Three Colors: Red (Trois couleurs: Rouge) (1994), Score: 4.86\n",
      "6. MovieID: 750, Title: Dr. Strangelove or: How I Learned to Stop Worrying and Love the Bomb (1964), Score: 4.86\n",
      "7. MovieID: 1278, Title: Young Frankenstein (1974), Score: 4.83\n",
      "8. MovieID: 3972, Title: Legend of Drunken Master, The (Jui kuen II) (1994), Score: 4.78\n",
      "9. MovieID: 1199, Title: Brazil (1985), Score: 4.72\n",
      "10. MovieID: 1230, Title: Annie Hall (1977), Score: 4.72\n"
     ]
    }
   ],
   "source": [
    "topKMoviesLeastMisery([59,125,471],10)"
   ]
  },
  {
   "cell_type": "code",
   "execution_count": 76,
   "metadata": {},
   "outputs": [
    {
     "name": "stdout",
     "output_type": "stream",
     "text": [
      "The top 10 movies recommended for the group [59, 125, 471] are:\n",
      "1. MovieID: 1231, Title: Right Stuff, The (1983), Score: 5.55\n",
      "2. MovieID: 3972, Title: Legend of Drunken Master, The (Jui kuen II) (1994), Score: 5.55\n",
      "3. MovieID: 2700, Title: South Park: Bigger, Longer and Uncut (1999), Score: 5.52\n",
      "4. MovieID: 1248, Title: Touch of Evil (1958), Score: 5.46\n",
      "5. MovieID: 1327, Title: Amityville Horror, The (1979), Score: 5.46\n",
      "6. MovieID: 140174, Title: Room (2015), Score: 5.31\n",
      "7. MovieID: 1350, Title: Omen, The (1976), Score: 5.26\n",
      "8. MovieID: 306, Title: Three Colors: Red (Trois couleurs: Rouge) (1994), Score: 5.25\n",
      "9. MovieID: 168492, Title: Call Me by Your Name (2017), Score: 5.25\n",
      "10. MovieID: 56715, Title: Wristcutters: A Love Story (2006), Score: 5.25\n"
     ]
    }
   ],
   "source": [
    "topKMoviesWeightedAverage([59,125,471],10)"
   ]
  }
 ],
 "metadata": {
  "kernelspec": {
   "display_name": "Python 3",
   "language": "python",
   "name": "python3"
  },
  "language_info": {
   "codemirror_mode": {
    "name": "ipython",
    "version": 3
   },
   "file_extension": ".py",
   "mimetype": "text/x-python",
   "name": "python",
   "nbconvert_exporter": "python",
   "pygments_lexer": "ipython3",
   "version": "3.10.8"
  }
 },
 "nbformat": 4,
 "nbformat_minor": 2
}
