{
 "cells": [
  {
   "cell_type": "code",
   "execution_count": 9,
   "metadata": {},
   "outputs": [],
   "source": [
    "import pandas as pd\n",
    "import math\n",
    "import numpy as np"
   ]
  },
  {
   "cell_type": "code",
   "execution_count": 10,
   "metadata": {},
   "outputs": [
    {
     "name": "stdout",
     "output_type": "stream",
     "text": [
      "Number of rows: 100836\n",
      " userId  movieId  rating  timestamp\n",
      "      1        1     4.0  964982703\n",
      "      1        3     4.0  964981247\n",
      "      1        6     4.0  964982224\n",
      "      1       47     5.0  964983815\n",
      "      1       50     5.0  964982931\n",
      "      1       70     3.0  964982400\n",
      "      1      101     5.0  964980868\n",
      "      1      110     4.0  964982176\n",
      "      1      151     5.0  964984041\n",
      "      1      157     5.0  964984100\n"
     ]
    }
   ],
   "source": [
    "ratings = pd.read_csv(\"ml-latest-small/ratings.csv\")\n",
    "n_rows = ratings.shape[0]\n",
    "\n",
    "print(\"Number of rows: \" + str(n_rows))\n",
    "# Show the first 10 rows of the dataframe\n",
    "print(ratings.head(10).to_string(index=False))"
   ]
  },
  {
   "cell_type": "code",
   "execution_count": 11,
   "metadata": {},
   "outputs": [
    {
     "name": "stdout",
     "output_type": "stream",
     "text": [
      "Number of rows: 9742\n",
      " movieId                              title                                      genres\n",
      "       1                   Toy Story (1995) Adventure|Animation|Children|Comedy|Fantasy\n",
      "       2                     Jumanji (1995)                  Adventure|Children|Fantasy\n",
      "       3            Grumpier Old Men (1995)                              Comedy|Romance\n",
      "       4           Waiting to Exhale (1995)                        Comedy|Drama|Romance\n",
      "       5 Father of the Bride Part II (1995)                                      Comedy\n",
      "       6                        Heat (1995)                       Action|Crime|Thriller\n",
      "       7                     Sabrina (1995)                              Comedy|Romance\n",
      "       8                Tom and Huck (1995)                          Adventure|Children\n",
      "       9                Sudden Death (1995)                                      Action\n",
      "      10                   GoldenEye (1995)                   Action|Adventure|Thriller\n"
     ]
    }
   ],
   "source": [
    "movies = pd.read_csv(\"ml-latest-small/movies.csv\")\n",
    "n_rows = movies.shape[0]\n",
    "\n",
    "print(\"Number of rows: \" + str(n_rows))\n",
    "# Show the first 10 rows of the dataframe\n",
    "print(movies.head(10).to_string(index=False))"
   ]
  },
  {
   "cell_type": "markdown",
   "metadata": {},
   "source": [
    "### Functions implemented for assignment 1"
   ]
  },
  {
   "cell_type": "code",
   "execution_count": 12,
   "metadata": {},
   "outputs": [],
   "source": [
    "def create_user_movie_rating_matrix():\n",
    "    \"\"\"\n",
    "    Creates a user-movie rating matrix.\n",
    "\n",
    "    Returns:\n",
    "        DataFrame: A matrix where rows represent users, columns represent movies,\n",
    "                   and each cell contains the rating given by the user to the movie.\n",
    "    \"\"\"\n",
    "    # Create a pivot table with user ratings for each movie\n",
    "    user_movie_ratings_matrix = pd.pivot_table(ratings, values='rating', index='userId', columns='movieId')\n",
    "    # Get unique movie IDs\n",
    "    all_movie_ids = movies['movieId'].unique()\n",
    "    # Reindex the matrix columns with all movie IDs\n",
    "    user_movie_ratings_matrix = user_movie_ratings_matrix.reindex(columns=all_movie_ids)\n",
    "    return user_movie_ratings_matrix  # Return the user-movie rating matrix"
   ]
  },
  {
   "cell_type": "code",
   "execution_count": 13,
   "metadata": {},
   "outputs": [],
   "source": [
    "def pearsonCorrelation(user1, user2):\n",
    "    \"\"\"\n",
    "    Calculates the Pearson correlation coefficient between two users based on their ratings.\n",
    "\n",
    "    Args:\n",
    "        user1 (int): The ID of the first user.\n",
    "        user2 (int): The ID of the second user.\n",
    "\n",
    "    Returns:\n",
    "        float: The Pearson correlation coefficient between the two users.\n",
    "    \"\"\"\n",
    "    num, den1, den2 = 0.0, 0.0, 0.0\n",
    "    # Fetch ratings of user1 and calculate mean rating of user1\n",
    "    ratings_user1 = ratings[ratings['userId'] == user1]\n",
    "    rmean_user1 = ratings_user1['rating'].mean()\n",
    "    # Fetch ratings of user1 and calculate mean rating of user2\n",
    "    ratings_user2 = ratings[ratings['userId'] == user2]\n",
    "    rmean_user2 = ratings_user2['rating'].mean()\n",
    "\n",
    "    # set of movieIds evaluated by user1\n",
    "    items_user1 = set(ratings[ratings['userId'] == user1]['movieId'])\n",
    "    # set of movieIds evaluated by user2\n",
    "    items_user2 = set(ratings[ratings['userId'] == user2]['movieId'])\n",
    "    # set of movieIds evaluated by both user1 and user2 (intersection)\n",
    "    common_items = items_user1.intersection(items_user2)\n",
    "\n",
    "    # Calculate Pearson correlation for common items\n",
    "    for p in common_items:\n",
    "        # Fetch ratings of user1 and user2 for the common item\n",
    "        r_1p = (ratings[(ratings['userId'] == user1) & (ratings['movieId'] == p)]['rating'].values)[0]\n",
    "        r_2p = (ratings[(ratings['userId'] == user2) & (ratings['movieId'] == p)]['rating'].values)[0]\n",
    "        num += (r_1p - rmean_user1)*(r_2p - rmean_user2)\n",
    "        den1 += pow((r_1p - rmean_user1), 2)\n",
    "        den2 += pow((r_2p - rmean_user2), 2)\n",
    "    den = ((math.sqrt(den1))*(math.sqrt(den2)))\n",
    "    # Check for division by zero\n",
    "    if den == 0.0:\n",
    "        return 0.0\n",
    "    # Calculate Pearson correlation coefficient\n",
    "    sim = num/den\n",
    "    return sim"
   ]
  },
  {
   "cell_type": "code",
   "execution_count": 14,
   "metadata": {},
   "outputs": [],
   "source": [
    "def compute_user_similarities(user):\n",
    "    \"\"\"\n",
    "    Computes the Pearson correlation-based similarities between the given user and all other users in the ratings dataset.\n",
    "\n",
    "    Args:\n",
    "        user (int): The ID of the user for whom similarities are to be computed.\n",
    "\n",
    "    Returns:\n",
    "        dict: A dictionary containing the similarities between the given user and all other users,\n",
    "              where the keys are the IDs of other users and the values are the similarity coefficients.\n",
    "    \"\"\"\n",
    "    # Get the total number of unique users\n",
    "    num_users = ratings[\"userId\"].nunique()\n",
    "    # Create a list of all user IDs except the given user\n",
    "    user_list = list(range(1, num_users+1, 1))\n",
    "    user_list.remove(user)\n",
    "    # Initialize a dictionary to store user similarities\n",
    "    user_similarities = {}\n",
    "    for other_user in user_list:\n",
    "        if other_user != user:\n",
    "            # Calculate Pearson correlation between the given user and other users\n",
    "            similarity = pearsonCorrelation(user, other_user)\n",
    "            # Store the similarity coefficient in the dictionary\n",
    "            user_similarities[other_user] = similarity\n",
    "    return user_similarities"
   ]
  },
  {
   "cell_type": "code",
   "execution_count": 15,
   "metadata": {},
   "outputs": [],
   "source": [
    "def generatePrediction(user1, item, user_movie_ratings_matrix, user_similarity_dict):\n",
    "    \"\"\"\n",
    "    Generates a prediction for the rating that the given user would give to the specified item.\n",
    "\n",
    "    Args:\n",
    "        user1 (int): The ID of the user for whom the prediction is generated.\n",
    "        item (int): The ID of the item (movie) for which the prediction is generated.\n",
    "        user_movie_ratings_matrix (matrix): The user-movie ratings matrix.\n",
    "        user_similarity_dict (dict): A dictionary containing similarities between users.\n",
    "\n",
    "    Returns:\n",
    "        float: The predicted rating for the specified item by the given user.\n",
    "    \"\"\"\n",
    "    # Check if the movie has already been rated by the user\n",
    "    if not np.isnan(user_movie_ratings_matrix.at[user1, item]):\n",
    "        return user_movie_ratings_matrix.at[user1, item]\n",
    "    \n",
    "    num, den = 0.0, 0.0\n",
    "    # Calculate the average of the user's ratings\n",
    "    rmean_user1 = user_movie_ratings_matrix.loc[user1].mean()\n",
    "    # Find users who have rated the item\n",
    "    users_who_rated_item = user_movie_ratings_matrix[item].dropna().index.unique()\n",
    "    for u in users_who_rated_item:\n",
    "        rmean_u = user_movie_ratings_matrix.loc[u].mean()\n",
    "        r_up = user_movie_ratings_matrix.at[u, item]\n",
    "        similarity = user_similarity_dict[u]\n",
    "        num += similarity * (r_up - rmean_u)\n",
    "        den += abs(similarity)\n",
    "    if den == 0.0:\n",
    "        pred = rmean_user1\n",
    "    else:\n",
    "        pred = rmean_user1 + (num / den)\n",
    "    return pred"
   ]
  },
  {
   "cell_type": "markdown",
   "metadata": {},
   "source": [
    "### (a) For producing group recommendation, we will use the user-based collaborative filtering approach as this implemented in Assignment 1. Specifically, for producing group recommendations, we will first compute the movies recommendations for each user in the group, and then we will aggregate the lists of the individual users, so as to produce a single list of movies for the group. You will implement two well established aggregation methods for producing the group recommendations."
   ]
  },
  {
   "cell_type": "markdown",
   "metadata": {},
   "source": [
    "### The first aggregation approach is the <em>average method</em>. The main idea behind this approach is that all members are considered equals. So, the rating of an item for a group of users will be given be averaging the scores of an item across all group members."
   ]
  },
  {
   "cell_type": "code",
   "execution_count": 16,
   "metadata": {},
   "outputs": [],
   "source": [
    "def averageMethod(group, item, users_similarities_dict):\n",
    "    \"\"\"\n",
    "    Computes the predicted rating for an item using the average method.\n",
    "\n",
    "    Args:\n",
    "        group (list): A list of user IDs forming the group.\n",
    "        item (int): The ID of the item (movie) for which the prediction is generated.\n",
    "        users_similarities_dict (dict): A dictionary of dictionaries containing similarities between users.\n",
    "\n",
    "    Returns:\n",
    "        float: The predicted rating for the specified item based on the average rating of the group members.\n",
    "    \"\"\"\n",
    "    # Create user-movie rating matrix\n",
    "    user_movie_ratings_matrix = create_user_movie_rating_matrix()\n",
    "    scores_sum = 0.0\n",
    "    # Generate predictions for each user in the group and sum up the scores\n",
    "    for user in group:\n",
    "        user_dict = users_similarities_dict[user]\n",
    "        rating = generatePrediction(user, item,user_movie_ratings_matrix,user_dict)\n",
    "        scores_sum += rating\n",
    "    # Calculate the average prediction\n",
    "    pred = scores_sum / len(group)\n",
    "    return round(pred,2)"
   ]
  },
  {
   "cell_type": "markdown",
   "metadata": {},
   "source": [
    "### The second aggregation method is the <em>least misery method</em>, where one member can act as a veto for the rest of the group. In this case, the rating of an item for a group of users is computed as the minimum score assigned to that item in all group members recommendations."
   ]
  },
  {
   "cell_type": "code",
   "execution_count": 17,
   "metadata": {},
   "outputs": [],
   "source": [
    "def leastMiseryMethod(group, item, users_similarities_dict):\n",
    "    \"\"\"\n",
    "    Computes the predicted rating for an item using the least misery method.\n",
    "\n",
    "    Args:\n",
    "        group (list): A list of user IDs forming the group.\n",
    "        item (int): The ID of the item (movie) for which the prediction is generated.\n",
    "        users_similarities_dict (dict): A dictionary of dictionaries containing similarities between users.\n",
    "\n",
    "    Returns:\n",
    "        float: The predicted rating for the specified item based on the least misery method.\n",
    "    \"\"\"\n",
    "    # Create user-movie rating matrix\n",
    "    user_movie_ratings_matrix = create_user_movie_rating_matrix()\n",
    "    # Initialize list to store ratings\n",
    "    scores = []\n",
    "    # Generate predictions for each user in the group and store the ratings\n",
    "    for user in group:\n",
    "        user_dict = users_similarities_dict[user]\n",
    "        rating = generatePrediction(user, item,user_movie_ratings_matrix,user_dict)\n",
    "        scores.append(rating)\n",
    "    # Choose the lowest rating as the prediction\n",
    "    pred = min(scores)\n",
    "    return round(pred,2)"
   ]
  },
  {
   "cell_type": "markdown",
   "metadata": {},
   "source": [
    "### Produce a group of 3 users, and for this group, show the top-10 recommendations, i.e., the 10 movies with the highest prediction scores that (i) the average method suggests, and (ii) the least misery method suggest. Use the MovieLens 100K rating dataset."
   ]
  },
  {
   "cell_type": "code",
   "execution_count": 18,
   "metadata": {},
   "outputs": [],
   "source": [
    "def topKMoviesAverage(group,k):\n",
    "    \"\"\"\n",
    "    Finds the top k movies with the highest average predicted ratings for the specified group of users.\n",
    "\n",
    "    Args:\n",
    "        group (list): A list of user IDs forming the group.\n",
    "        k (int): The number of top movies to return.\n",
    "\n",
    "    Returns:\n",
    "        list: A list of tuples containing the IDs and predicted ratings of the top k movies\n",
    "              with the highest average predicted ratings, sorted by predicted rating in descending order.\n",
    "    \"\"\"\n",
    "    # Get all movie IDs\n",
    "    all_movie_ids = movies['movieId'].tolist()\n",
    "    # Initialize list to store predictions and a dictionary to store user similarities\n",
    "    predictions = []\n",
    "    users_similarities_dict = {}\n",
    "    # Compute user similarities for each user in the group\n",
    "    for user in group:\n",
    "        users_similarities_dict[user] = compute_user_similarities(user)\n",
    "    # Generate predictions for each movie\n",
    "    for m in all_movie_ids:\n",
    "        pred = averageMethod(group, m, users_similarities_dict)\n",
    "        predictions.append((m, pred)) \n",
    "    # Sort predictions by predicted rating in descending order\n",
    "    sorted_predictions = sorted(predictions, reverse=True, key=lambda x: x[1])\n",
    "    # Select top k predictions\n",
    "    top_k_predictions = sorted_predictions[:k]\n",
    "    for movie_id, pred in top_k_predictions:\n",
    "        movie_title = movies.loc[movies['movieId'] == movie_id, 'title'].values[0]\n",
    "        print(f\"MovieID: {movie_id}, Titolo: {movie_title}, Punteggio previsto: {pred}\")"
   ]
  },
  {
   "cell_type": "code",
   "execution_count": 19,
   "metadata": {},
   "outputs": [],
   "source": [
    "def topKMoviesLeastMisery(group,k):\n",
    "    \"\"\"\n",
    "    Finds the top k movies with the highest predicted ratings using the least misery method for the specified group of users.\n",
    "\n",
    "    Args:\n",
    "        group (list): A list of user IDs forming the group.\n",
    "        k (int): The number of top movies to return.\n",
    "\n",
    "    Returns:\n",
    "        list: A list of tuples containing the IDs and predicted ratings of the top k movies\n",
    "              with the highest predicted ratings using the least misery method, sorted by predicted rating in descending order.\n",
    "    \"\"\"\n",
    "    # Get all movie IDs\n",
    "    all_movie_ids = movies['movieId'].tolist()\n",
    "    # Initialize list to store predictions and a dictionary to store user similarities\n",
    "    predictions = []\n",
    "    users_similarities_dict = {}\n",
    "    # Compute user similarities for each user in the group\n",
    "    for user in group:\n",
    "        users_similarities_dict[user] = compute_user_similarities(user)\n",
    "    # Generate predictions for each movie using the least misery method\n",
    "    for m in all_movie_ids:\n",
    "        pred = leastMiseryMethod(group, m, users_similarities_dict)\n",
    "        predictions.append((m, pred)) \n",
    "    sorted_predictions = sorted(predictions, reverse=True, key=lambda x: x[1])\n",
    "    top_k_predictions = sorted_predictions[:k]\n",
    "    for movie_id, pred in top_k_predictions:\n",
    "        movie_title = movies.loc[movies['movieId'] == movie_id, 'title'].values[0]\n",
    "        print(f\"MovieID: {movie_id}, Titolo: {movie_title}, Punteggio previsto: {pred}\")"
   ]
  },
  {
   "cell_type": "markdown",
   "metadata": {},
   "source": [
    "### (b) The methods employed in part (a) of Assignment 2, do not consider any disagreements between the users in the group. In part (b) of Assignment 2, define a way for counting the disagreements between the users in a group, and propose a method that takes disagreements into account when computing suggestions for the group."
   ]
  },
  {
   "cell_type": "code",
   "execution_count": 45,
   "metadata": {},
   "outputs": [],
   "source": [
    "def weightedAverageMethod(group, item, users_similarities_dict):\n",
    "    group_size = len(group)\n",
    "    sum_disagreements = 0\n",
    "    ratings = {}\n",
    "    user_movie_rating_matrix = create_user_movie_rating_matrix()\n",
    "    weighted_sum = 0\n",
    "    # Calculate predicted ratings for each user in the group\n",
    "    for user in group:\n",
    "        rating = generatePrediction(user, item, user_movie_rating_matrix, users_similarities_dict)\n",
    "        ratings[user] = rating\n",
    "        sum_disagreements += (1/group_size) * rating\n",
    "    \n",
    "    user_disagreements = {}\n",
    "    disagreements_sum = 0\n",
    "    # Calculate disagreement for each user\n",
    "    for user in group:\n",
    "        user_disagreement = abs(ratings[user] - sum_disagreements)\n",
    "        user_disagreements[user] = user_disagreement\n",
    "        weighted_sum += user_disagreement * ratings[user]\n",
    "        disagreements_sum += user_disagreement\n",
    "\n",
    "    if sum_disagreements == 0:\n",
    "        return averageMethod(group, item, users_similarities_dict)\n",
    "    else:\n",
    "        return round(weighted_sum/disagreements_sum,2)"
   ]
  },
  {
   "cell_type": "code",
   "execution_count": 46,
   "metadata": {},
   "outputs": [],
   "source": [
    "def topKMoviesWeightedAverage(group,k):\n",
    "    \"\"\"\n",
    "    Finds the top k movies with the highest predicted ratings using the least misery method for the specified group of users.\n",
    "\n",
    "    Args:\n",
    "        group (list): A list of user IDs forming the group.\n",
    "        k (int): The number of top movies to return.\n",
    "\n",
    "    Returns:\n",
    "        list: A list of tuples containing the IDs and predicted ratings of the top k movies\n",
    "              with the highest predicted ratings using the least misery method, sorted by predicted rating in descending order.\n",
    "    \"\"\"\n",
    "    # Get all movie IDs\n",
    "    all_movie_ids = movies['movieId'].tolist()\n",
    "    # Initialize list to store predictions and a dictionary to store user similarities\n",
    "    predictions = []\n",
    "    users_similarities_dict = {}\n",
    "    # Compute user similarities for each user in the group\n",
    "    for user in group:\n",
    "        users_similarities_dict[user] = compute_user_similarities(user)\n",
    "    # Generate predictions for each movie using the least misery method\n",
    "    for m in all_movie_ids:\n",
    "        pred = weightedAverageMethod(group, m, users_similarities_dict)\n",
    "        predictions.append((m, pred)) \n",
    "    sorted_predictions = sorted(predictions, reverse=True, key=lambda x: x[1])\n",
    "    top_k_predictions = sorted_predictions[:k]\n",
    "    for movie_id, pred in top_k_predictions:\n",
    "        movie_title = movies.loc[movies['movieId'] == movie_id, 'title'].values[0]\n",
    "        print(f\"MovieID: {movie_id}, Titolo: {movie_title}, Punteggio previsto: {pred}\")"
   ]
  },
  {
   "cell_type": "markdown",
   "metadata": {},
   "source": [
    "# Experiments"
   ]
  },
  {
   "cell_type": "code",
   "execution_count": 22,
   "metadata": {},
   "outputs": [
    {
     "data": {
      "text/plain": [
       "4.1"
      ]
     },
     "execution_count": 22,
     "metadata": {},
     "output_type": "execute_result"
    }
   ],
   "source": [
    "user_dict1 = compute_user_similarities(1)\n",
    "user_dict4 = compute_user_similarities(4)\n",
    "user_dict9 = compute_user_similarities(9)\n",
    "users_dict = {1:user_dict1,4:user_dict4,9:user_dict9}\n",
    "averageMethod([1,4,9],50,users_dict)\n",
    "leastMiseryMethod([1,4,9],50,users_dict)\n",
    "weightedAverageMethod([1,4,9],50,users_dict)"
   ]
  },
  {
   "cell_type": "code",
   "execution_count": 23,
   "metadata": {},
   "outputs": [
    {
     "name": "stdout",
     "output_type": "stream",
     "text": [
      "MovieID: 5105, Titolo: Don't Look Now (1973), Punteggio previsto: 7.34\n",
      "MovieID: 6967, Titolo: Dead of Night (1945), Punteggio previsto: 7.34\n",
      "MovieID: 7114, Titolo: Collector, The (1965), Punteggio previsto: 7.34\n",
      "MovieID: 7742, Titolo: Baxter (1989), Punteggio previsto: 7.34\n",
      "MovieID: 8620, Titolo: Exterminating Angel, The (Ángel exterminador, El) (1962), Punteggio previsto: 6.42\n",
      "MovieID: 2068, Titolo: Fanny and Alexander (Fanny och Alexander) (1982), Punteggio previsto: 6.29\n",
      "MovieID: 7564, Titolo: Kwaidan (Kaidan) (1964), Punteggio previsto: 6.27\n",
      "MovieID: 6140, Titolo: Tenebre (1982), Punteggio previsto: 5.92\n",
      "MovieID: 25947, Titolo: Unfaithfully Yours (1948), Punteggio previsto: 5.92\n",
      "MovieID: 8727, Titolo: Day of the Locust, The (1975), Punteggio previsto: 5.84\n"
     ]
    }
   ],
   "source": [
    "topKMoviesAverage([1,18,23],10)"
   ]
  },
  {
   "cell_type": "code",
   "execution_count": 24,
   "metadata": {},
   "outputs": [
    {
     "name": "stdout",
     "output_type": "stream",
     "text": [
      "MovieID: 5105, Titolo: Don't Look Now (1973), Punteggio previsto: 7.07\n",
      "MovieID: 6967, Titolo: Dead of Night (1945), Punteggio previsto: 7.07\n",
      "MovieID: 7114, Titolo: Collector, The (1965), Punteggio previsto: 7.07\n",
      "MovieID: 7742, Titolo: Baxter (1989), Punteggio previsto: 7.07\n",
      "MovieID: 2068, Titolo: Fanny and Alexander (Fanny och Alexander) (1982), Punteggio previsto: 5.73\n",
      "MovieID: 25947, Titolo: Unfaithfully Yours (1948), Punteggio previsto: 5.66\n",
      "MovieID: 8727, Titolo: Day of the Locust, The (1975), Punteggio previsto: 5.57\n",
      "MovieID: 3379, Titolo: On the Beach (1959), Punteggio previsto: 5.51\n",
      "MovieID: 8620, Titolo: Exterminating Angel, The (Ángel exterminador, El) (1962), Punteggio previsto: 5.5\n",
      "MovieID: 7564, Titolo: Kwaidan (Kaidan) (1964), Punteggio previsto: 5.32\n"
     ]
    }
   ],
   "source": [
    "topKMoviesLeastMisery([1,18,23],10)"
   ]
  },
  {
   "cell_type": "code",
   "execution_count": 48,
   "metadata": {},
   "outputs": [
    {
     "name": "stderr",
     "output_type": "stream",
     "text": [
      "/var/folders/g7/_31ch3v945s1n1cymqyn1z8c0000gn/T/ipykernel_23055/3187729566.py:25: RuntimeWarning: invalid value encountered in double_scalars\n",
      "  return weighted_sum/disagreements_sum\n"
     ]
    },
    {
     "ename": "KeyboardInterrupt",
     "evalue": "",
     "output_type": "error",
     "traceback": [
      "\u001b[0;31m---------------------------------------------------------------------------\u001b[0m",
      "\u001b[0;31mKeyboardInterrupt\u001b[0m                         Traceback (most recent call last)",
      "Cell \u001b[0;32mIn [48], line 1\u001b[0m\n\u001b[0;32m----> 1\u001b[0m \u001b[43mtopKMoviesWeightedAverage\u001b[49m\u001b[43m(\u001b[49m\u001b[43m[\u001b[49m\u001b[38;5;241;43m1\u001b[39;49m\u001b[43m,\u001b[49m\u001b[38;5;241;43m18\u001b[39;49m\u001b[43m,\u001b[49m\u001b[38;5;241;43m23\u001b[39;49m\u001b[43m]\u001b[49m\u001b[43m,\u001b[49m\u001b[38;5;241;43m10\u001b[39;49m\u001b[43m)\u001b[49m\n",
      "Cell \u001b[0;32mIn [46], line 23\u001b[0m, in \u001b[0;36mtopKMoviesWeightedAverage\u001b[0;34m(group, k)\u001b[0m\n\u001b[1;32m     21\u001b[0m \u001b[38;5;66;03m# Generate predictions for each movie using the least misery method\u001b[39;00m\n\u001b[1;32m     22\u001b[0m \u001b[38;5;28;01mfor\u001b[39;00m m \u001b[38;5;129;01min\u001b[39;00m all_movie_ids:\n\u001b[0;32m---> 23\u001b[0m     pred \u001b[38;5;241m=\u001b[39m \u001b[43mweightedAverageMethod\u001b[49m\u001b[43m(\u001b[49m\u001b[43mgroup\u001b[49m\u001b[43m,\u001b[49m\u001b[43m \u001b[49m\u001b[43mm\u001b[49m\u001b[43m,\u001b[49m\u001b[43m \u001b[49m\u001b[43musers_similarities_dict\u001b[49m\u001b[43m)\u001b[49m\n\u001b[1;32m     24\u001b[0m     predictions\u001b[38;5;241m.\u001b[39mappend((m, pred)) \n\u001b[1;32m     25\u001b[0m sorted_predictions \u001b[38;5;241m=\u001b[39m \u001b[38;5;28msorted\u001b[39m(predictions, reverse\u001b[38;5;241m=\u001b[39m\u001b[38;5;28;01mTrue\u001b[39;00m, key\u001b[38;5;241m=\u001b[39m\u001b[38;5;28;01mlambda\u001b[39;00m x: x[\u001b[38;5;241m1\u001b[39m])\n",
      "Cell \u001b[0;32mIn [45], line 9\u001b[0m, in \u001b[0;36mweightedAverageMethod\u001b[0;34m(group, item, users_similarities_dict)\u001b[0m\n\u001b[1;32m      7\u001b[0m \u001b[38;5;66;03m# Calculate predicted ratings for each user in the group\u001b[39;00m\n\u001b[1;32m      8\u001b[0m \u001b[38;5;28;01mfor\u001b[39;00m user \u001b[38;5;129;01min\u001b[39;00m group:\n\u001b[0;32m----> 9\u001b[0m     rating \u001b[38;5;241m=\u001b[39m generatePrediction(user, item, user_movie_rating_matrix, \u001b[43mcompute_user_similarities\u001b[49m\u001b[43m(\u001b[49m\u001b[43muser\u001b[49m\u001b[43m)\u001b[49m)\n\u001b[1;32m     10\u001b[0m     ratings[user] \u001b[38;5;241m=\u001b[39m rating\n\u001b[1;32m     11\u001b[0m     sum_disagreements \u001b[38;5;241m+\u001b[39m\u001b[38;5;241m=\u001b[39m (\u001b[38;5;241m1\u001b[39m\u001b[38;5;241m/\u001b[39mgroup_size) \u001b[38;5;241m*\u001b[39m rating\n",
      "Cell \u001b[0;32mIn [14], line 22\u001b[0m, in \u001b[0;36mcompute_user_similarities\u001b[0;34m(user)\u001b[0m\n\u001b[1;32m     19\u001b[0m \u001b[38;5;28;01mfor\u001b[39;00m other_user \u001b[38;5;129;01min\u001b[39;00m user_list:\n\u001b[1;32m     20\u001b[0m     \u001b[38;5;28;01mif\u001b[39;00m other_user \u001b[38;5;241m!=\u001b[39m user:\n\u001b[1;32m     21\u001b[0m         \u001b[38;5;66;03m# Calculate Pearson correlation between the given user and other users\u001b[39;00m\n\u001b[0;32m---> 22\u001b[0m         similarity \u001b[38;5;241m=\u001b[39m \u001b[43mpearsonCorrelation\u001b[49m\u001b[43m(\u001b[49m\u001b[43muser\u001b[49m\u001b[43m,\u001b[49m\u001b[43m \u001b[49m\u001b[43mother_user\u001b[49m\u001b[43m)\u001b[49m\n\u001b[1;32m     23\u001b[0m         \u001b[38;5;66;03m# Store the similarity coefficient in the dictionary\u001b[39;00m\n\u001b[1;32m     24\u001b[0m         user_similarities[other_user] \u001b[38;5;241m=\u001b[39m similarity\n",
      "Cell \u001b[0;32mIn [13], line 30\u001b[0m, in \u001b[0;36mpearsonCorrelation\u001b[0;34m(user1, user2)\u001b[0m\n\u001b[1;32m     27\u001b[0m \u001b[38;5;66;03m# Calculate Pearson correlation for common items\u001b[39;00m\n\u001b[1;32m     28\u001b[0m \u001b[38;5;28;01mfor\u001b[39;00m p \u001b[38;5;129;01min\u001b[39;00m common_items:\n\u001b[1;32m     29\u001b[0m     \u001b[38;5;66;03m# Fetch ratings of user1 and user2 for the common item\u001b[39;00m\n\u001b[0;32m---> 30\u001b[0m     r_1p \u001b[38;5;241m=\u001b[39m (ratings[\u001b[43m(\u001b[49m\u001b[43mratings\u001b[49m\u001b[43m[\u001b[49m\u001b[38;5;124;43m'\u001b[39;49m\u001b[38;5;124;43muserId\u001b[39;49m\u001b[38;5;124;43m'\u001b[39;49m\u001b[43m]\u001b[49m\u001b[43m \u001b[49m\u001b[38;5;241;43m==\u001b[39;49m\u001b[43m \u001b[49m\u001b[43muser1\u001b[49m\u001b[43m)\u001b[49m\u001b[43m \u001b[49m\u001b[38;5;241;43m&\u001b[39;49m\u001b[43m \u001b[49m\u001b[43m(\u001b[49m\u001b[43mratings\u001b[49m\u001b[43m[\u001b[49m\u001b[38;5;124;43m'\u001b[39;49m\u001b[38;5;124;43mmovieId\u001b[39;49m\u001b[38;5;124;43m'\u001b[39;49m\u001b[43m]\u001b[49m\u001b[43m \u001b[49m\u001b[38;5;241;43m==\u001b[39;49m\u001b[43m \u001b[49m\u001b[43mp\u001b[49m\u001b[43m)\u001b[49m][\u001b[38;5;124m'\u001b[39m\u001b[38;5;124mrating\u001b[39m\u001b[38;5;124m'\u001b[39m]\u001b[38;5;241m.\u001b[39mvalues)[\u001b[38;5;241m0\u001b[39m]\n\u001b[1;32m     31\u001b[0m     r_2p \u001b[38;5;241m=\u001b[39m (ratings[(ratings[\u001b[38;5;124m'\u001b[39m\u001b[38;5;124muserId\u001b[39m\u001b[38;5;124m'\u001b[39m] \u001b[38;5;241m==\u001b[39m user2) \u001b[38;5;241m&\u001b[39m (ratings[\u001b[38;5;124m'\u001b[39m\u001b[38;5;124mmovieId\u001b[39m\u001b[38;5;124m'\u001b[39m] \u001b[38;5;241m==\u001b[39m p)][\u001b[38;5;124m'\u001b[39m\u001b[38;5;124mrating\u001b[39m\u001b[38;5;124m'\u001b[39m]\u001b[38;5;241m.\u001b[39mvalues)[\u001b[38;5;241m0\u001b[39m]\n\u001b[1;32m     32\u001b[0m     num \u001b[38;5;241m+\u001b[39m\u001b[38;5;241m=\u001b[39m (r_1p \u001b[38;5;241m-\u001b[39m rmean_user1)\u001b[38;5;241m*\u001b[39m(r_2p \u001b[38;5;241m-\u001b[39m rmean_user2)\n",
      "File \u001b[0;32m/Library/Frameworks/Python.framework/Versions/3.10/lib/python3.10/site-packages/pandas/core/ops/common.py:81\u001b[0m, in \u001b[0;36m_unpack_zerodim_and_defer.<locals>.new_method\u001b[0;34m(self, other)\u001b[0m\n\u001b[1;32m     77\u001b[0m             \u001b[38;5;28;01mreturn\u001b[39;00m \u001b[38;5;28mNotImplemented\u001b[39m\n\u001b[1;32m     79\u001b[0m other \u001b[38;5;241m=\u001b[39m item_from_zerodim(other)\n\u001b[0;32m---> 81\u001b[0m \u001b[38;5;28;01mreturn\u001b[39;00m \u001b[43mmethod\u001b[49m\u001b[43m(\u001b[49m\u001b[38;5;28;43mself\u001b[39;49m\u001b[43m,\u001b[49m\u001b[43m \u001b[49m\u001b[43mother\u001b[49m\u001b[43m)\u001b[49m\n",
      "File \u001b[0;32m/Library/Frameworks/Python.framework/Versions/3.10/lib/python3.10/site-packages/pandas/core/arraylike.py:70\u001b[0m, in \u001b[0;36mOpsMixin.__and__\u001b[0;34m(self, other)\u001b[0m\n\u001b[1;32m     68\u001b[0m \u001b[38;5;129m@unpack_zerodim_and_defer\u001b[39m(\u001b[38;5;124m\"\u001b[39m\u001b[38;5;124m__and__\u001b[39m\u001b[38;5;124m\"\u001b[39m)\n\u001b[1;32m     69\u001b[0m \u001b[38;5;28;01mdef\u001b[39;00m \u001b[38;5;21m__and__\u001b[39m(\u001b[38;5;28mself\u001b[39m, other):\n\u001b[0;32m---> 70\u001b[0m     \u001b[38;5;28;01mreturn\u001b[39;00m \u001b[38;5;28;43mself\u001b[39;49m\u001b[38;5;241;43m.\u001b[39;49m\u001b[43m_logical_method\u001b[49m\u001b[43m(\u001b[49m\u001b[43mother\u001b[49m\u001b[43m,\u001b[49m\u001b[43m \u001b[49m\u001b[43moperator\u001b[49m\u001b[38;5;241;43m.\u001b[39;49m\u001b[43mand_\u001b[49m\u001b[43m)\u001b[49m\n",
      "File \u001b[0;32m/Library/Frameworks/Python.framework/Versions/3.10/lib/python3.10/site-packages/pandas/core/series.py:6107\u001b[0m, in \u001b[0;36mSeries._logical_method\u001b[0;34m(self, other, op)\u001b[0m\n\u001b[1;32m   6104\u001b[0m lvalues \u001b[38;5;241m=\u001b[39m \u001b[38;5;28mself\u001b[39m\u001b[38;5;241m.\u001b[39m_values\n\u001b[1;32m   6105\u001b[0m rvalues \u001b[38;5;241m=\u001b[39m extract_array(other, extract_numpy\u001b[38;5;241m=\u001b[39m\u001b[38;5;28;01mTrue\u001b[39;00m, extract_range\u001b[38;5;241m=\u001b[39m\u001b[38;5;28;01mTrue\u001b[39;00m)\n\u001b[0;32m-> 6107\u001b[0m res_values \u001b[38;5;241m=\u001b[39m \u001b[43mops\u001b[49m\u001b[38;5;241;43m.\u001b[39;49m\u001b[43mlogical_op\u001b[49m\u001b[43m(\u001b[49m\u001b[43mlvalues\u001b[49m\u001b[43m,\u001b[49m\u001b[43m \u001b[49m\u001b[43mrvalues\u001b[49m\u001b[43m,\u001b[49m\u001b[43m \u001b[49m\u001b[43mop\u001b[49m\u001b[43m)\u001b[49m\n\u001b[1;32m   6108\u001b[0m \u001b[38;5;28;01mreturn\u001b[39;00m \u001b[38;5;28mself\u001b[39m\u001b[38;5;241m.\u001b[39m_construct_result(res_values, name\u001b[38;5;241m=\u001b[39mres_name)\n",
      "File \u001b[0;32m/Library/Frameworks/Python.framework/Versions/3.10/lib/python3.10/site-packages/pandas/core/ops/array_ops.py:401\u001b[0m, in \u001b[0;36mlogical_op\u001b[0;34m(left, right, op)\u001b[0m\n\u001b[1;32m    397\u001b[0m \u001b[38;5;66;03m# For int vs int `^`, `|`, `&` are bitwise operators and return\u001b[39;00m\n\u001b[1;32m    398\u001b[0m \u001b[38;5;66;03m#   integer dtypes.  Otherwise these are boolean ops\u001b[39;00m\n\u001b[1;32m    399\u001b[0m filler \u001b[38;5;241m=\u001b[39m fill_int \u001b[38;5;28;01mif\u001b[39;00m is_self_int_dtype \u001b[38;5;129;01mand\u001b[39;00m is_other_int_dtype \u001b[38;5;28;01melse\u001b[39;00m fill_bool\n\u001b[0;32m--> 401\u001b[0m res_values \u001b[38;5;241m=\u001b[39m \u001b[43mna_logical_op\u001b[49m\u001b[43m(\u001b[49m\u001b[43mlvalues\u001b[49m\u001b[43m,\u001b[49m\u001b[43m \u001b[49m\u001b[43mrvalues\u001b[49m\u001b[43m,\u001b[49m\u001b[43m \u001b[49m\u001b[43mop\u001b[49m\u001b[43m)\u001b[49m\n\u001b[1;32m    402\u001b[0m \u001b[38;5;66;03m# error: Cannot call function of unknown type\u001b[39;00m\n\u001b[1;32m    403\u001b[0m res_values \u001b[38;5;241m=\u001b[39m filler(res_values)  \u001b[38;5;66;03m# type: ignore[operator]\u001b[39;00m\n",
      "File \u001b[0;32m/Library/Frameworks/Python.framework/Versions/3.10/lib/python3.10/site-packages/pandas/core/ops/array_ops.py:311\u001b[0m, in \u001b[0;36mna_logical_op\u001b[0;34m(x, y, op)\u001b[0m\n\u001b[1;32m    301\u001b[0m \u001b[38;5;28;01mdef\u001b[39;00m \u001b[38;5;21mna_logical_op\u001b[39m(x: np\u001b[38;5;241m.\u001b[39mndarray, y, op):\n\u001b[1;32m    302\u001b[0m     \u001b[38;5;28;01mtry\u001b[39;00m:\n\u001b[1;32m    303\u001b[0m         \u001b[38;5;66;03m# For exposition, write:\u001b[39;00m\n\u001b[1;32m    304\u001b[0m         \u001b[38;5;66;03m#  yarr = isinstance(y, np.ndarray)\u001b[39;00m\n\u001b[0;32m   (...)\u001b[0m\n\u001b[1;32m    309\u001b[0m         \u001b[38;5;66;03m# Then Cases where this goes through without raising include:\u001b[39;00m\n\u001b[1;32m    310\u001b[0m         \u001b[38;5;66;03m#  (xint or xbool) and (yint or bool)\u001b[39;00m\n\u001b[0;32m--> 311\u001b[0m         result \u001b[38;5;241m=\u001b[39m \u001b[43mop\u001b[49m\u001b[43m(\u001b[49m\u001b[43mx\u001b[49m\u001b[43m,\u001b[49m\u001b[43m \u001b[49m\u001b[43my\u001b[49m\u001b[43m)\u001b[49m\n\u001b[1;32m    312\u001b[0m     \u001b[38;5;28;01mexcept\u001b[39;00m \u001b[38;5;167;01mTypeError\u001b[39;00m:\n\u001b[1;32m    313\u001b[0m         \u001b[38;5;28;01mif\u001b[39;00m \u001b[38;5;28misinstance\u001b[39m(y, np\u001b[38;5;241m.\u001b[39mndarray):\n\u001b[1;32m    314\u001b[0m             \u001b[38;5;66;03m# bool-bool dtype operations should be OK, should not get here\u001b[39;00m\n",
      "\u001b[0;31mKeyboardInterrupt\u001b[0m: "
     ]
    }
   ],
   "source": [
    "topKMoviesWeightedAverage([1,18,23],10)"
   ]
  }
 ],
 "metadata": {
  "kernelspec": {
   "display_name": "Python 3",
   "language": "python",
   "name": "python3"
  },
  "language_info": {
   "codemirror_mode": {
    "name": "ipython",
    "version": 3
   },
   "file_extension": ".py",
   "mimetype": "text/x-python",
   "name": "python",
   "nbconvert_exporter": "python",
   "pygments_lexer": "ipython3",
   "version": "3.10.8"
  }
 },
 "nbformat": 4,
 "nbformat_minor": 2
}
