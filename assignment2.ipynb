{
 "cells": [
  {
   "cell_type": "code",
   "execution_count": 69,
   "metadata": {},
   "outputs": [],
   "source": [
    "import pandas as pd\n",
    "import math\n",
    "import numpy as np"
   ]
  },
  {
   "cell_type": "code",
   "execution_count": 70,
   "metadata": {},
   "outputs": [
    {
     "name": "stdout",
     "output_type": "stream",
     "text": [
      "Number of rows: 100836\n",
      " userId  movieId  rating  timestamp\n",
      "      1        1     4.0  964982703\n",
      "      1        3     4.0  964981247\n",
      "      1        6     4.0  964982224\n",
      "      1       47     5.0  964983815\n",
      "      1       50     5.0  964982931\n",
      "      1       70     3.0  964982400\n",
      "      1      101     5.0  964980868\n",
      "      1      110     4.0  964982176\n",
      "      1      151     5.0  964984041\n",
      "      1      157     5.0  964984100\n"
     ]
    }
   ],
   "source": [
    "ratings = pd.read_csv(\"ml-latest-small/ratings.csv\")\n",
    "n_rows = ratings.shape[0]\n",
    "\n",
    "print(\"Number of rows: \" + str(n_rows))\n",
    "# Show the first 10 rows of the dataframe\n",
    "print(ratings.head(10).to_string(index=False))"
   ]
  },
  {
   "cell_type": "code",
   "execution_count": 71,
   "metadata": {},
   "outputs": [
    {
     "name": "stdout",
     "output_type": "stream",
     "text": [
      "Number of rows: 9742\n",
      " movieId                              title                                      genres\n",
      "       1                   Toy Story (1995) Adventure|Animation|Children|Comedy|Fantasy\n",
      "       2                     Jumanji (1995)                  Adventure|Children|Fantasy\n",
      "       3            Grumpier Old Men (1995)                              Comedy|Romance\n",
      "       4           Waiting to Exhale (1995)                        Comedy|Drama|Romance\n",
      "       5 Father of the Bride Part II (1995)                                      Comedy\n",
      "       6                        Heat (1995)                       Action|Crime|Thriller\n",
      "       7                     Sabrina (1995)                              Comedy|Romance\n",
      "       8                Tom and Huck (1995)                          Adventure|Children\n",
      "       9                Sudden Death (1995)                                      Action\n",
      "      10                   GoldenEye (1995)                   Action|Adventure|Thriller\n"
     ]
    }
   ],
   "source": [
    "movies = pd.read_csv(\"ml-latest-small/movies.csv\")\n",
    "n_rows = movies.shape[0]\n",
    "\n",
    "print(\"Number of rows: \" + str(n_rows))\n",
    "# Show the first 10 rows of the dataframe\n",
    "print(movies.head(10).to_string(index=False))"
   ]
  },
  {
   "cell_type": "markdown",
   "metadata": {},
   "source": [
    "### Functions implemented for assignment 1"
   ]
  },
  {
   "cell_type": "code",
   "execution_count": 72,
   "metadata": {},
   "outputs": [],
   "source": [
    "def create_user_movie_rating_matrix():\n",
    "    \"\"\"\n",
    "    Creates a user-movie rating matrix.\n",
    "\n",
    "    Returns:\n",
    "        DataFrame: A matrix where rows represent users, columns represent movies,\n",
    "                   and each cell contains the rating given by the user to the movie.\n",
    "    \"\"\"\n",
    "    # Create a pivot table with user ratings for each movie\n",
    "    user_movie_ratings_matrix = pd.pivot_table(ratings, values='rating', index='userId', columns='movieId')\n",
    "    # Get unique movie IDs\n",
    "    all_movie_ids = movies['movieId'].unique()\n",
    "    # Reindex the matrix columns with all movie IDs\n",
    "    user_movie_ratings_matrix = user_movie_ratings_matrix.reindex(columns=all_movie_ids)\n",
    "    return user_movie_ratings_matrix  # Return the user-movie rating matrix"
   ]
  },
  {
   "cell_type": "code",
   "execution_count": 73,
   "metadata": {},
   "outputs": [],
   "source": [
    "def pearsonCorrelation(user1, user2):\n",
    "    \"\"\"\n",
    "    Calculates the Pearson correlation coefficient between two users based on their ratings.\n",
    "\n",
    "    Args:\n",
    "        user1 (int): The ID of the first user.\n",
    "        user2 (int): The ID of the second user.\n",
    "\n",
    "    Returns:\n",
    "        float: The Pearson correlation coefficient between the two users.\n",
    "    \"\"\"\n",
    "    num, den1, den2 = 0.0, 0.0, 0.0\n",
    "    # Fetch ratings of user1 and calculate mean rating of user1\n",
    "    ratings_user1 = ratings[ratings['userId'] == user1]\n",
    "    rmean_user1 = ratings_user1['rating'].mean()\n",
    "    # Fetch ratings of user1 and calculate mean rating of user2\n",
    "    ratings_user2 = ratings[ratings['userId'] == user2]\n",
    "    rmean_user2 = ratings_user2['rating'].mean()\n",
    "\n",
    "    # set of movieIds evaluated by user1\n",
    "    items_user1 = set(ratings[ratings['userId'] == user1]['movieId'])\n",
    "    # set of movieIds evaluated by user2\n",
    "    items_user2 = set(ratings[ratings['userId'] == user2]['movieId'])\n",
    "    # set of movieIds evaluated by both user1 and user2 (intersection)\n",
    "    common_items = items_user1.intersection(items_user2)\n",
    "\n",
    "    # Calculate Pearson correlation for common items\n",
    "    for p in common_items:\n",
    "        # Fetch ratings of user1 and user2 for the common item\n",
    "        r_1p = (ratings[(ratings['userId'] == user1) & (ratings['movieId'] == p)]['rating'].values)[0]\n",
    "        r_2p = (ratings[(ratings['userId'] == user2) & (ratings['movieId'] == p)]['rating'].values)[0]\n",
    "        num += (r_1p - rmean_user1)*(r_2p - rmean_user2)\n",
    "        den1 += pow((r_1p - rmean_user1), 2)\n",
    "        den2 += pow((r_2p - rmean_user2), 2)\n",
    "    den = ((math.sqrt(den1))*(math.sqrt(den2)))\n",
    "    # Check for division by zero\n",
    "    if den == 0.0:\n",
    "        return 0.0\n",
    "    # Calculate Pearson correlation coefficient\n",
    "    sim = num/den\n",
    "    return sim"
   ]
  },
  {
   "cell_type": "code",
   "execution_count": 74,
   "metadata": {},
   "outputs": [],
   "source": [
    "def compute_user_similarities(user):\n",
    "    \"\"\"\n",
    "    Computes the Pearson correlation-based similarities between the given user and all other users in the ratings dataset.\n",
    "\n",
    "    Args:\n",
    "        user (int): The ID of the user for whom similarities are to be computed.\n",
    "\n",
    "    Returns:\n",
    "        dict: A dictionary containing the similarities between the given user and all other users,\n",
    "              where the keys are the IDs of other users and the values are the similarity coefficients.\n",
    "    \"\"\"\n",
    "    # Get the total number of unique users\n",
    "    num_users = ratings[\"userId\"].nunique()\n",
    "    # Create a list of all user IDs except the given user\n",
    "    user_list = list(range(1, num_users+1, 1))\n",
    "    user_list.remove(user)\n",
    "    # Initialize a dictionary to store user similarities\n",
    "    user_similarities = {}\n",
    "    for other_user in user_list:\n",
    "        if other_user != user:\n",
    "            # Calculate Pearson correlation between the given user and other users\n",
    "            similarity = pearsonCorrelation(user, other_user)\n",
    "            # Store the similarity coefficient in the dictionary\n",
    "            user_similarities[other_user] = similarity\n",
    "    return user_similarities"
   ]
  },
  {
   "cell_type": "code",
   "execution_count": 75,
   "metadata": {},
   "outputs": [],
   "source": [
    "def generatePrediction(user1, item, user_movie_ratings_matrix, user_similarity_dict):\n",
    "    \"\"\"\n",
    "    Generates a prediction for the rating that the given user would give to the specified item.\n",
    "\n",
    "    Args:\n",
    "        user1 (int): The ID of the user for whom the prediction is generated.\n",
    "        item (int): The ID of the item (movie) for which the prediction is generated.\n",
    "        user_movie_ratings_matrix (matrix): The user-movie ratings matrix.\n",
    "        user_similarity_dict (dict): A dictionary containing similarities between users.\n",
    "\n",
    "    Returns:\n",
    "        float: The predicted rating for the specified item by the given user.\n",
    "    \"\"\"\n",
    "    # Check if the movie has already been rated by the user\n",
    "    if not np.isnan(user_movie_ratings_matrix.at[user1, item]):\n",
    "        return user_movie_ratings_matrix.at[user1, item]\n",
    "    \n",
    "    num, den = 0.0, 0.0\n",
    "    # Calculate the average of the user's ratings\n",
    "    rmean_user1 = user_movie_ratings_matrix.loc[user1].mean()\n",
    "    # Find users who have rated the item\n",
    "    users_who_rated_item = user_movie_ratings_matrix[item].dropna().index.unique()\n",
    "    for u in users_who_rated_item:\n",
    "        rmean_u = user_movie_ratings_matrix.loc[u].mean()\n",
    "        r_up = user_movie_ratings_matrix.at[u, item]\n",
    "        similarity = user_similarity_dict[u]\n",
    "        num += similarity * (r_up - rmean_u)\n",
    "        den += abs(similarity)\n",
    "    if den == 0.0:\n",
    "        pred = rmean_user1\n",
    "    else:\n",
    "        pred = rmean_user1 + (num / den)\n",
    "    return pred"
   ]
  },
  {
   "cell_type": "code",
   "execution_count": 77,
   "metadata": {},
   "outputs": [],
   "source": [
    "def get_unrated_movie_ids(userId):\n",
    "    \"\"\"\n",
    "    Finds the movie IDs that have not been rated by the specified user.\n",
    "\n",
    "    Args:\n",
    "        userId (int): The ID of the user.\n",
    "\n",
    "    Returns:\n",
    "        list: A list of movie IDs that have not been rated by the specified user.\n",
    "    \"\"\"\n",
    "    # Get all unique movie IDs present in the ratings DataFrame\n",
    "    all_movie_ids = movies['movieId'].tolist()\n",
    "    # Get the movie IDs rated by the specified userId\n",
    "    rated_movie_ids = ratings[ratings['userId'] == userId]['movieId'].tolist()\n",
    "    # Find the movie IDs not rated by the userId\n",
    "    unrated_movie_ids = [movie_id for movie_id in all_movie_ids if movie_id not in rated_movie_ids]\n",
    "    return unrated_movie_ids"
   ]
  },
  {
   "cell_type": "code",
   "execution_count": 87,
   "metadata": {},
   "outputs": [],
   "source": [
    "\n",
    "# a function that, given a list of users as input, returns the union of unrated movies for each user.\n",
    "def get_all_unrated_movies(users):\n",
    "    union_unrated_movies = set()\n",
    "    # for each user call the function getUnratedMovies, which returns the movies not rated by that user\n",
    "    for user in users:\n",
    "        user_unrated_movies = get_unrated_movie_ids(user)\n",
    "        #and update the list to store all of them\n",
    "        union_unrated_movies.update(user_unrated_movies)\n",
    "    return list(union_unrated_movies)"
   ]
  },
  {
   "cell_type": "markdown",
   "metadata": {},
   "source": [
    "### (a) For producing group recommendation, we will use the user-based collaborative filtering approach as this implemented in Assignment 1. Specifically, for producing group recommendations, we will first compute the movies recommendations for each user in the group, and then we will aggregate the lists of the individual users, so as to produce a single list of movies for the group. You will implement two well established aggregation methods for producing the group recommendations."
   ]
  },
  {
   "cell_type": "markdown",
   "metadata": {},
   "source": [
    "### The first aggregation approach is the <em>average method</em>. The main idea behind this approach is that all members are considered equals. So, the rating of an item for a group of users will be given be averaging the scores of an item across all group members."
   ]
  },
  {
   "cell_type": "code",
   "execution_count": 79,
   "metadata": {},
   "outputs": [],
   "source": [
    "def averageMethod(group, item, user_movie_ratings_matrix, users_similarities_dict):\n",
    "    \"\"\"\n",
    "    Computes the predicted rating for an item using the average method.\n",
    "\n",
    "    Args:\n",
    "        group (list): A list of user IDs forming the group.\n",
    "        item (int): The ID of the item (movie) for which the prediction is generated.\n",
    "        users_similarities_dict (dict): A dictionary of dictionaries containing similarities between users.\n",
    "\n",
    "    Returns:\n",
    "        float: The predicted rating for the specified item based on the average rating of the group members.\n",
    "    \"\"\"\n",
    "    scores_sum = 0.0\n",
    "    # Generate predictions for each user in the group and sum up the scores\n",
    "    for user in group:\n",
    "        user_dict = users_similarities_dict[user]\n",
    "        rating = generatePrediction(user, item,user_movie_ratings_matrix,user_dict)\n",
    "        scores_sum += rating\n",
    "    # Calculate the average prediction\n",
    "    pred = scores_sum / len(group)\n",
    "    return round(pred,2)"
   ]
  },
  {
   "cell_type": "markdown",
   "metadata": {},
   "source": [
    "### The second aggregation method is the <em>least misery method</em>, where one member can act as a veto for the rest of the group. In this case, the rating of an item for a group of users is computed as the minimum score assigned to that item in all group members recommendations."
   ]
  },
  {
   "cell_type": "code",
   "execution_count": 91,
   "metadata": {},
   "outputs": [],
   "source": [
    "def leastMiseryMethod(group, item, user_movie_ratings_matrix, users_similarities_dict):\n",
    "    \"\"\"\n",
    "    Computes the predicted rating for an item using the least misery method.\n",
    "\n",
    "    Args:\n",
    "        group (list): A list of user IDs forming the group.\n",
    "        item (int): The ID of the item (movie) for which the prediction is generated.\n",
    "        users_similarities_dict (dict): A dictionary of dictionaries containing similarities between users.\n",
    "\n",
    "    Returns:\n",
    "        float: The predicted rating for the specified item based on the least misery method.\n",
    "    \"\"\"\n",
    "    # Initialize list to store ratings\n",
    "    scores = []\n",
    "    # Generate predictions for each user in the group and store the ratings\n",
    "    for user in group:\n",
    "        user_dict = users_similarities_dict[user]\n",
    "        rating = generatePrediction(user, item, user_movie_ratings_matrix, user_dict)\n",
    "        scores.append(rating)\n",
    "    # Choose the lowest rating as the prediction\n",
    "    pred = min(scores)\n",
    "    return round(pred,2)"
   ]
  },
  {
   "cell_type": "markdown",
   "metadata": {},
   "source": [
    "### Produce a group of 3 users, and for this group, show the top-10 recommendations, i.e., the 10 movies with the highest prediction scores that (i) the average method suggests, and (ii) the least misery method suggest. Use the MovieLens 100K rating dataset."
   ]
  },
  {
   "cell_type": "code",
   "execution_count": 81,
   "metadata": {},
   "outputs": [],
   "source": [
    "def topKMoviesAverage(group,k):\n",
    "    \"\"\"\n",
    "    Finds the top k movies with the highest average predicted ratings for the specified group of users.\n",
    "\n",
    "    Args:\n",
    "        group (list): A list of user IDs forming the group.\n",
    "        k (int): The number of top movies to return.\n",
    "\n",
    "    Returns:\n",
    "        list: A list of tuples containing the IDs and predicted ratings of the top k movies\n",
    "              with the highest average predicted ratings, sorted by predicted rating in descending order.\n",
    "    \"\"\"\n",
    "    # Create user-movie rating matrix\n",
    "    user_movie_ratings_matrix = create_user_movie_rating_matrix()\n",
    "    # Get unrated movie IDs for the user\n",
    "    unrated_movies = get_all_unrated_movies(group)\n",
    "    # Initialize list to store predictions and a dictionary to store user similarities\n",
    "    predictions = []\n",
    "    users_similarities_dict = {}\n",
    "    # Compute user similarities for each user in the group\n",
    "    for user in group:\n",
    "        users_similarities_dict[user] = compute_user_similarities(user)\n",
    "    # Generate predictions for each movie\n",
    "    for m in unrated_movies:\n",
    "        pred = averageMethod(group, m, user_movie_ratings_matrix, users_similarities_dict)\n",
    "        predictions.append((m, pred)) \n",
    "    # Sort predictions by predicted rating in descending order\n",
    "    sorted_predictions = sorted(predictions, reverse=True, key=lambda x: x[1])\n",
    "    # Select top k predictions\n",
    "    top_k_predictions = sorted_predictions[:k]\n",
    "    for movie_id, pred in top_k_predictions:\n",
    "        movie_title = movies.loc[movies['movieId'] == movie_id, 'title'].values[0]\n",
    "        print(f\"MovieID: {movie_id}, Titolo: {movie_title}, Punteggio previsto: {pred}\")"
   ]
  },
  {
   "cell_type": "code",
   "execution_count": 88,
   "metadata": {},
   "outputs": [],
   "source": [
    "def topKMoviesLeastMisery(group,k):\n",
    "    \"\"\"\n",
    "    Finds the top k movies with the highest predicted ratings using the least misery method for the specified group of users.\n",
    "\n",
    "    Args:\n",
    "        group (list): A list of user IDs forming the group.\n",
    "        k (int): The number of top movies to return.\n",
    "\n",
    "    Returns:\n",
    "        list: A list of tuples containing the IDs and predicted ratings of the top k movies\n",
    "              with the highest predicted ratings using the least misery method, sorted by predicted rating in descending order.\n",
    "    \"\"\"\n",
    "    # Create user-movie rating matrix\n",
    "    user_movie_ratings_matrix = create_user_movie_rating_matrix()\n",
    "    # Get unrated movie IDs for the user\n",
    "    unrated_movies = get_all_unrated_movies(group)\n",
    "    # Initialize list to store predictions and a dictionary to store user similarities\n",
    "    predictions = []\n",
    "    users_similarities_dict = {}\n",
    "    # Compute user similarities for each user in the group\n",
    "    for user in group:\n",
    "        users_similarities_dict[user] = compute_user_similarities(user)\n",
    "    # Generate predictions for each movie using the least misery method\n",
    "    for m in unrated_movies:\n",
    "        pred = leastMiseryMethod(group, m, user_movie_ratings_matrix, users_similarities_dict)\n",
    "        predictions.append((m, pred)) \n",
    "    sorted_predictions = sorted(predictions, reverse=True, key=lambda x: x[1])\n",
    "    top_k_predictions = sorted_predictions[:k]\n",
    "    for movie_id, pred in top_k_predictions:\n",
    "        movie_title = movies.loc[movies['movieId'] == movie_id, 'title'].values[0]\n",
    "        print(f\"MovieID: {movie_id}, Titolo: {movie_title}, Punteggio previsto: {pred}\")"
   ]
  },
  {
   "cell_type": "markdown",
   "metadata": {},
   "source": [
    "### (b) The methods employed in part (a) of Assignment 2, do not consider any disagreements between the users in the group. In part (b) of Assignment 2, define a way for counting the disagreements between the users in a group, and propose a method that takes disagreements into account when computing suggestions for the group."
   ]
  },
  {
   "cell_type": "code",
   "execution_count": 83,
   "metadata": {},
   "outputs": [],
   "source": [
    "def weightedAverageMethod(group, item, users_similarities_dict):\n",
    "    group_size = len(group)\n",
    "    sum_disagreements = 0\n",
    "    ratings = {}\n",
    "    user_movie_rating_matrix = create_user_movie_rating_matrix()\n",
    "    weighted_sum = 0\n",
    "    # Calculate predicted ratings for each user in the group\n",
    "    for user in group:\n",
    "        rating = generatePrediction(user, item, user_movie_rating_matrix, users_similarities_dict)\n",
    "        ratings[user] = rating\n",
    "        sum_disagreements += (1/group_size) * rating\n",
    "    \n",
    "    user_disagreements = {}\n",
    "    disagreements_sum = 0\n",
    "    # Calculate disagreement for each user\n",
    "    for user in group:\n",
    "        user_disagreement = abs(ratings[user] - sum_disagreements)\n",
    "        user_disagreements[user] = user_disagreement\n",
    "        weighted_sum += user_disagreement * ratings[user]\n",
    "        disagreements_sum += user_disagreement\n",
    "\n",
    "    if sum_disagreements == 0:\n",
    "        return averageMethod(group, item, users_similarities_dict)\n",
    "    else:\n",
    "        return round(weighted_sum/disagreements_sum,2)"
   ]
  },
  {
   "cell_type": "code",
   "execution_count": 84,
   "metadata": {},
   "outputs": [],
   "source": [
    "def topKMoviesWeightedAverage(group,k):\n",
    "    \"\"\"\n",
    "    Finds the top k movies with the highest predicted ratings using the least misery method for the specified group of users.\n",
    "\n",
    "    Args:\n",
    "        group (list): A list of user IDs forming the group.\n",
    "        k (int): The number of top movies to return.\n",
    "\n",
    "    Returns:\n",
    "        list: A list of tuples containing the IDs and predicted ratings of the top k movies\n",
    "              with the highest predicted ratings using the least misery method, sorted by predicted rating in descending order.\n",
    "    \"\"\"\n",
    "    # Get all movie IDs\n",
    "    all_movie_ids = movies['movieId'].tolist()\n",
    "    # Initialize list to store predictions and a dictionary to store user similarities\n",
    "    predictions = []\n",
    "    users_similarities_dict = {}\n",
    "    # Compute user similarities for each user in the group\n",
    "    for user in group:\n",
    "        users_similarities_dict[user] = compute_user_similarities(user)\n",
    "    # Generate predictions for each movie using the least misery method\n",
    "    for m in all_movie_ids:\n",
    "        pred = weightedAverageMethod(group, m, users_similarities_dict)\n",
    "        predictions.append((m, pred)) \n",
    "    sorted_predictions = sorted(predictions, reverse=True, key=lambda x: x[1])\n",
    "    top_k_predictions = sorted_predictions[:k]\n",
    "    for movie_id, pred in top_k_predictions:\n",
    "        movie_title = movies.loc[movies['movieId'] == movie_id, 'title'].values[0]\n",
    "        print(f\"MovieID: {movie_id}, Titolo: {movie_title}, Punteggio previsto: {pred}\")"
   ]
  },
  {
   "cell_type": "markdown",
   "metadata": {},
   "source": [
    "# Experiments"
   ]
  },
  {
   "cell_type": "code",
   "execution_count": 85,
   "metadata": {},
   "outputs": [
    {
     "name": "stdout",
     "output_type": "stream",
     "text": [
      "MovieID: 5105, Titolo: Don't Look Now (1973), Punteggio previsto: 6.57\n",
      "MovieID: 6967, Titolo: Dead of Night (1945), Punteggio previsto: 6.57\n",
      "MovieID: 7114, Titolo: Collector, The (1965), Punteggio previsto: 6.57\n",
      "MovieID: 7742, Titolo: Baxter (1989), Punteggio previsto: 6.57\n",
      "MovieID: 3604, Titolo: Gypsy (1962), Punteggio previsto: 6.12\n",
      "MovieID: 97024, Titolo: Rust and Bone (De rouille et d'os) (2012), Punteggio previsto: 5.92\n",
      "MovieID: 138186, Titolo: Sorrow (2015), Punteggio previsto: 5.91\n",
      "MovieID: 107013, Titolo: Christmas Carol, A (1977), Punteggio previsto: 5.91\n",
      "MovieID: 173307, Titolo: The Gracefield Incident (2015), Punteggio previsto: 5.91\n",
      "MovieID: 86068, Titolo: Films to Keep You Awake: The Christmas Tale (Películas para no dormir: Cuento de navidad) (2005), Punteggio previsto: 5.91\n"
     ]
    }
   ],
   "source": [
    "topKMoviesAverage([414,474,599],10)"
   ]
  },
  {
   "cell_type": "code",
   "execution_count": 92,
   "metadata": {},
   "outputs": [
    {
     "name": "stdout",
     "output_type": "stream",
     "text": [
      "MovieID: 5105, Titolo: Don't Look Now (1973), Punteggio previsto: 6.07\n",
      "MovieID: 6967, Titolo: Dead of Night (1945), Punteggio previsto: 6.07\n",
      "MovieID: 7114, Titolo: Collector, The (1965), Punteggio previsto: 6.07\n",
      "MovieID: 7742, Titolo: Baxter (1989), Punteggio previsto: 6.07\n",
      "MovieID: 3604, Titolo: Gypsy (1962), Punteggio previsto: 5.62\n",
      "MovieID: 97024, Titolo: Rust and Bone (De rouille et d'os) (2012), Punteggio previsto: 5.42\n",
      "MovieID: 138186, Titolo: Sorrow (2015), Punteggio previsto: 5.4\n",
      "MovieID: 40491, Titolo: Match Factory Girl, The (Tulitikkutehtaan tyttö) (1990), Punteggio previsto: 5.4\n",
      "MovieID: 107013, Titolo: Christmas Carol, A (1977), Punteggio previsto: 5.4\n",
      "MovieID: 173307, Titolo: The Gracefield Incident (2015), Punteggio previsto: 5.4\n"
     ]
    }
   ],
   "source": [
    "topKMoviesLeastMisery([414,474,599],10)"
   ]
  }
 ],
 "metadata": {
  "kernelspec": {
   "display_name": "Python 3",
   "language": "python",
   "name": "python3"
  },
  "language_info": {
   "codemirror_mode": {
    "name": "ipython",
    "version": 3
   },
   "file_extension": ".py",
   "mimetype": "text/x-python",
   "name": "python",
   "nbconvert_exporter": "python",
   "pygments_lexer": "ipython3",
   "version": "3.10.8"
  }
 },
 "nbformat": 4,
 "nbformat_minor": 2
}
