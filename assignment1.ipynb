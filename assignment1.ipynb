{
 "cells": [
  {
   "cell_type": "code",
   "execution_count": 211,
   "metadata": {},
   "outputs": [],
   "source": [
    "import pandas as pd\n",
    "import math\n",
    "from statistics import median\n",
    "import numpy as np"
   ]
  },
  {
   "cell_type": "markdown",
   "metadata": {},
   "source": [
    "# Assignment requests"
   ]
  },
  {
   "cell_type": "markdown",
   "metadata": {},
   "source": [
    "### (a) Download the MovieLens 100K rating dataset from https://grouplens.org/datasets/movielens/ (the small dataset recommended for education and development). Read the dataset, display the first few rows to understand it, and display the count of ratings (rows) in the dataset to be sure that you download it correctly."
   ]
  },
  {
   "cell_type": "code",
   "execution_count": 212,
   "metadata": {},
   "outputs": [
    {
     "name": "stdout",
     "output_type": "stream",
     "text": [
      " userId  movieId  rating  timestamp\n",
      "      1        1     4.0  964982703\n",
      "      1        3     4.0  964981247\n",
      "      1        6     4.0  964982224\n",
      "      1       47     5.0  964983815\n",
      "      1       50     5.0  964982931\n",
      "      1       70     3.0  964982400\n",
      "      1      101     5.0  964980868\n",
      "      1      110     4.0  964982176\n",
      "      1      151     5.0  964984041\n",
      "      1      157     5.0  964984100\n"
     ]
    }
   ],
   "source": [
    "ratings = pd.read_csv(\"ml-latest-small/ratings.csv\")\n",
    "# Show the first 10 rows of the dataframe\n",
    "print(ratings.head(10).to_string(index=False))"
   ]
  },
  {
   "cell_type": "code",
   "execution_count": 213,
   "metadata": {},
   "outputs": [
    {
     "name": "stdout",
     "output_type": "stream",
     "text": [
      "Number of rows: 100836\n"
     ]
    }
   ],
   "source": [
    "n_rows_ratings = ratings.shape[0]\n",
    "print(\"Number of rows: \" + str(n_rows_ratings))"
   ]
  },
  {
   "cell_type": "code",
   "execution_count": 214,
   "metadata": {},
   "outputs": [
    {
     "name": "stdout",
     "output_type": "stream",
     "text": [
      "   Column  Number of NaN\n",
      "   userId              0\n",
      "  movieId              0\n",
      "   rating              0\n",
      "timestamp              0\n"
     ]
    }
   ],
   "source": [
    "# Check NaN values\n",
    "nan_values_ratings = ratings.isna().sum()\n",
    "ratings_nan_counts = pd.DataFrame({'Column': nan_values_ratings.index, 'Number of NaN': nan_values_ratings.values})\n",
    "# Stampa il DataFrame\n",
    "print(ratings_nan_counts.to_string(index=False))"
   ]
  },
  {
   "cell_type": "code",
   "execution_count": 215,
   "metadata": {},
   "outputs": [
    {
     "data": {
      "text/plain": [
       "610"
      ]
     },
     "execution_count": 215,
     "metadata": {},
     "output_type": "execute_result"
    }
   ],
   "source": [
    "num_users = ratings[\"userId\"].nunique()\n",
    "num_users"
   ]
  },
  {
   "cell_type": "code",
   "execution_count": 216,
   "metadata": {},
   "outputs": [
    {
     "name": "stdout",
     "output_type": "stream",
     "text": [
      " movieId                              title                                      genres\n",
      "       1                   Toy Story (1995) Adventure|Animation|Children|Comedy|Fantasy\n",
      "       2                     Jumanji (1995)                  Adventure|Children|Fantasy\n",
      "       3            Grumpier Old Men (1995)                              Comedy|Romance\n",
      "       4           Waiting to Exhale (1995)                        Comedy|Drama|Romance\n",
      "       5 Father of the Bride Part II (1995)                                      Comedy\n",
      "       6                        Heat (1995)                       Action|Crime|Thriller\n",
      "       7                     Sabrina (1995)                              Comedy|Romance\n",
      "       8                Tom and Huck (1995)                          Adventure|Children\n",
      "       9                Sudden Death (1995)                                      Action\n",
      "      10                   GoldenEye (1995)                   Action|Adventure|Thriller\n"
     ]
    }
   ],
   "source": [
    "movies = pd.read_csv(\"ml-latest-small/movies.csv\")\n",
    "# Show the first 10 rows of the dataframe\n",
    "print(movies.head(10).to_string(index=False))"
   ]
  },
  {
   "cell_type": "code",
   "execution_count": 217,
   "metadata": {},
   "outputs": [
    {
     "name": "stdout",
     "output_type": "stream",
     "text": [
      "Number of rows: 9742\n"
     ]
    }
   ],
   "source": [
    "n_rows_movies = movies.shape[0]\n",
    "print(\"Number of rows: \" + str(n_rows_movies))"
   ]
  },
  {
   "cell_type": "code",
   "execution_count": 218,
   "metadata": {},
   "outputs": [
    {
     "name": "stdout",
     "output_type": "stream",
     "text": [
      " Column  Number of NaN\n",
      "movieId              0\n",
      "  title              0\n",
      " genres              0\n"
     ]
    }
   ],
   "source": [
    "nan_values_movies = movies.isna().sum()\n",
    "df_nan_counts_movies = pd.DataFrame({'Column': nan_values_movies.index, 'Number of NaN': nan_values_movies.values})\n",
    "print(df_nan_counts_movies.to_string(index=False))"
   ]
  },
  {
   "cell_type": "code",
   "execution_count": 219,
   "metadata": {},
   "outputs": [
    {
     "data": {
      "text/plain": [
       "9742"
      ]
     },
     "execution_count": 219,
     "metadata": {},
     "output_type": "execute_result"
    }
   ],
   "source": [
    "num_films = movies[\"movieId\"].nunique()\n",
    "num_films"
   ]
  },
  {
   "cell_type": "markdown",
   "metadata": {},
   "source": [
    "### (b) Implement the user-based collaborative filtering approach, using the Pearson correlation function for computing similarities between users, and"
   ]
  },
  {
   "cell_type": "markdown",
   "metadata": {},
   "source": [
    "$$sim(a, b) = \\frac{\\sum_{p \\in I} (r_{a,p} - \\bar{r_a})(r_{b,p} - \\bar{r_b})}{\\sqrt{\\sum_{p \\in I}(r_{a,p} - \\bar{r_a})^2}\\sqrt{\\sum_{p \\in I}(r_{b,p} - \\bar{r_b})^2}}$$"
   ]
  },
  {
   "cell_type": "code",
   "execution_count": 220,
   "metadata": {},
   "outputs": [],
   "source": [
    "def pearsonCorrelation(user1, user2):\n",
    "    \"\"\"\n",
    "    Calculates the Pearson correlation coefficient between two users based on their ratings.\n",
    "\n",
    "    Args:\n",
    "        user1 (int): The ID of the first user.\n",
    "        user2 (int): The ID of the second user.\n",
    "\n",
    "    Returns:\n",
    "        float: The Pearson correlation coefficient between the two users.\n",
    "    \"\"\"\n",
    "    num, den1, den2 = 0.0, 0.0, 0.0\n",
    "    # Fetch ratings of user1 and calculate mean rating of user1\n",
    "    ratings_user1 = ratings[ratings['userId'] == user1]\n",
    "    rmean_user1 = ratings_user1['rating'].mean()\n",
    "    # Fetch ratings of user1 and calculate mean rating of user2\n",
    "    ratings_user2 = ratings[ratings['userId'] == user2]\n",
    "    rmean_user2 = ratings_user2['rating'].mean()\n",
    "\n",
    "    # set of movieIds evaluated by user1\n",
    "    items_user1 = set(ratings[ratings['userId'] == user1]['movieId'])\n",
    "    # set of movieIds evaluated by user2\n",
    "    items_user2 = set(ratings[ratings['userId'] == user2]['movieId'])\n",
    "    # set of movieIds evaluated by both user1 and user2 (intersection)\n",
    "    common_items = items_user1.intersection(items_user2)\n",
    "\n",
    "    # Calculate Pearson correlation for common items\n",
    "    for p in common_items:\n",
    "        # Fetch ratings of user1 and user2 for the common item\n",
    "        r_1p = (ratings[(ratings['userId'] == user1) & (ratings['movieId'] == p)]['rating'].values)[0]\n",
    "        r_2p = (ratings[(ratings['userId'] == user2) & (ratings['movieId'] == p)]['rating'].values)[0]\n",
    "        num += (r_1p - rmean_user1)*(r_2p - rmean_user2)\n",
    "        den1 += pow((r_1p - rmean_user1), 2)\n",
    "        den2 += pow((r_2p - rmean_user2), 2)\n",
    "    den = ((math.sqrt(den1))*(math.sqrt(den2)))\n",
    "    # Check for division by zero\n",
    "    if den == 0.0:\n",
    "        return 0.0\n",
    "    # Calculate Pearson correlation coefficient\n",
    "    sim = num/den\n",
    "    return sim"
   ]
  },
  {
   "cell_type": "markdown",
   "metadata": {},
   "source": [
    "### (c) the prediction function presented in class for predicting movies scores."
   ]
  },
  {
   "cell_type": "markdown",
   "metadata": {},
   "source": [
    "$$pred(a, p) = \\bar{r_a} + \\frac{\\sum_{b \\in N} sim(a, b) * (r_{b,p} - \\bar{r_b})} {\\sum_{b \\in N}sim(a, b)}$$"
   ]
  },
  {
   "cell_type": "code",
   "execution_count": 221,
   "metadata": {},
   "outputs": [],
   "source": [
    "def create_user_movie_rating_matrix():\n",
    "    \"\"\"\n",
    "    Creates a user-movie rating matrix.\n",
    "\n",
    "    Returns:\n",
    "        DataFrame: A matrix where rows represent users, columns represent movies,\n",
    "                   and each cell contains the rating given by the user to the movie.\n",
    "    \"\"\"\n",
    "    # Create a pivot table with user ratings for each movie\n",
    "    user_movie_ratings_matrix = pd.pivot_table(ratings, values='rating', index='userId', columns='movieId')\n",
    "    # Get unique movie IDs\n",
    "    all_movie_ids = movies['movieId'].unique()\n",
    "    # Reindex the matrix columns with all movie IDs\n",
    "    user_movie_ratings_matrix = user_movie_ratings_matrix.reindex(columns=all_movie_ids)\n",
    "    return user_movie_ratings_matrix  # Return the user-movie rating matrix"
   ]
  },
  {
   "cell_type": "code",
   "execution_count": 222,
   "metadata": {},
   "outputs": [],
   "source": [
    "def compute_user_similarities(user):\n",
    "    \"\"\"\n",
    "    Computes the Pearson correlation-based similarities between the given user and all other users in the ratings dataset.\n",
    "\n",
    "    Args:\n",
    "        user (int): The ID of the user for whom similarities are to be computed.\n",
    "\n",
    "    Returns:\n",
    "        dict: A dictionary containing the similarities between the given user and all other users,\n",
    "              where the keys are the IDs of other users and the values are the similarity coefficients.\n",
    "    \"\"\"\n",
    "    # Get the total number of unique users\n",
    "    num_users = ratings[\"userId\"].nunique()\n",
    "    # Create a list of all user IDs except the given user\n",
    "    user_list = list(range(1, num_users+1, 1))\n",
    "    user_list.remove(user)\n",
    "    # Initialize a dictionary to store user similarities\n",
    "    user_similarities = {}\n",
    "    for other_user in user_list:\n",
    "        if other_user != user:\n",
    "            # Calculate Pearson correlation between the given user and other users\n",
    "            similarity = pearsonCorrelation(user, other_user)\n",
    "            # Store the similarity coefficient in the dictionary\n",
    "            user_similarities[other_user] = similarity\n",
    "    return user_similarities"
   ]
  },
  {
   "cell_type": "code",
   "execution_count": 223,
   "metadata": {},
   "outputs": [],
   "source": [
    "def generatePrediction(user1, item, user_movie_ratings_matrix, user_similarity_dict):\n",
    "    \"\"\"\n",
    "    Generates a prediction for the rating that the given user would give to the specified item.\n",
    "\n",
    "    Args:\n",
    "        user1 (int): The ID of the user for whom the prediction is generated.\n",
    "        item (int): The ID of the item (movie) for which the prediction is generated.\n",
    "        user_movie_ratings_matrix (matrix): The user-movie ratings matrix.\n",
    "        user_similarity_dict (dict): A dictionary containing similarities between users.\n",
    "\n",
    "    Returns:\n",
    "        float: The predicted rating for the specified item by the given user.\n",
    "    \"\"\"\n",
    "    # Check if the movie has already been rated by the user\n",
    "    if not np.isnan(user_movie_ratings_matrix.at[user1, item]):\n",
    "        return user_movie_ratings_matrix.at[user1, item]\n",
    "    \n",
    "    num, den = 0.0, 0.0\n",
    "    # Calculate the average of the user's ratings\n",
    "    rmean_user1 = user_movie_ratings_matrix.loc[user1].mean()\n",
    "    # Find users who have rated the item\n",
    "    users_who_rated_item = user_movie_ratings_matrix[item].dropna().index.unique()\n",
    "    for u in users_who_rated_item:\n",
    "        rmean_u = user_movie_ratings_matrix.loc[u].mean()\n",
    "        r_up = user_movie_ratings_matrix.at[u, item]\n",
    "        similarity = user_similarity_dict[u]\n",
    "        num += similarity * (r_up - rmean_u)\n",
    "        den += abs(similarity)\n",
    "    if den == 0.0:\n",
    "        pred = rmean_user1\n",
    "    else:\n",
    "        pred = rmean_user1 + (num / den)\n",
    "    return round(pred,2)"
   ]
  },
  {
   "cell_type": "markdown",
   "metadata": {},
   "source": [
    "### (d) Select a user from the dataset, and for this user, show the 10 most similar users"
   ]
  },
  {
   "cell_type": "code",
   "execution_count": 224,
   "metadata": {},
   "outputs": [],
   "source": [
    "def kMostSimilarUsers(user, k):\n",
    "    \"\"\"\n",
    "    Finds the top k most similar users to the given user based on Pearson correlation coefficients.\n",
    "\n",
    "    Args:\n",
    "        user (int): The ID of the user for whom similar users are to be found.\n",
    "        k (int): The number of similar users to return.\n",
    "\n",
    "    Returns:\n",
    "        tuple: A tuple containing two lists:\n",
    "               - The IDs of the top k most similar users to the given user.\n",
    "               - The corresponding Pearson correlation coefficients between the given user and each of the top k similar users.\n",
    "    \"\"\"\n",
    "    users_similarities = []\n",
    "    num_users = ratings[\"userId\"].nunique()\n",
    "    # Iterate through all users and calculate Pearson correlation between the given user and each other user\n",
    "    for u in range(1,num_users):\n",
    "        # Exclude the given user and \n",
    "        if u != user:\n",
    "            sim = pearsonCorrelation(user, u)\n",
    "            users_similarities.append((u,sim))\n",
    "    # Sort users by similarity coefficient in descending order\n",
    "    sorted_users_similarities = sorted(users_similarities, reverse=True, key=lambda x: x[1])\n",
    "    # Extract the top k similar users and their corresponding similarity coefficients\n",
    "    top_k_users = [pair[0] for pair in sorted_users_similarities[:k]]\n",
    "    top_k_sim = [pair[1] for pair in sorted_users_similarities[:k]]\n",
    "    print(f\"The top {k} most similar users to the user {user} are:\")\n",
    "    i = 1\n",
    "    for user_id, similarity in enumerate(zip(top_k_users, top_k_sim)):\n",
    "        print(f\"{i}. User ID: {user_id}, Similarity: {similarity}\")\n",
    "        i += 1"
   ]
  },
  {
   "cell_type": "markdown",
   "metadata": {},
   "source": [
    "### and the 10 most relevant movies that the recommender suggests."
   ]
  },
  {
   "cell_type": "code",
   "execution_count": 225,
   "metadata": {},
   "outputs": [],
   "source": [
    "def get_unrated_movie_ids(userId):\n",
    "    \"\"\"\n",
    "    Finds the movie IDs that have not been rated by the specified user.\n",
    "\n",
    "    Args:\n",
    "        userId (int): The ID of the user.\n",
    "\n",
    "    Returns:\n",
    "        list: A list of movie IDs that have not been rated by the specified user.\n",
    "    \"\"\"\n",
    "    # Get all unique movie IDs present in the ratings DataFrame\n",
    "    all_movie_ids = movies['movieId'].tolist()\n",
    "    # Get the movie IDs rated by the specified userId\n",
    "    rated_movie_ids = ratings[ratings['userId'] == userId]['movieId'].tolist()\n",
    "    # Find the movie IDs not rated by the userId\n",
    "    unrated_movie_ids = [movie_id for movie_id in all_movie_ids if movie_id not in rated_movie_ids]\n",
    "    return unrated_movie_ids"
   ]
  },
  {
   "cell_type": "code",
   "execution_count": 226,
   "metadata": {},
   "outputs": [],
   "source": [
    "def kMostRelevantMovies(user, k):\n",
    "    \"\"\"\n",
    "    Finds the top k most relevant unrated movies for the specified user based on predicted ratings.\n",
    "\n",
    "    Args:\n",
    "        user (int): The ID of the user for whom relevant movies are to be found.\n",
    "        k (int): The number of relevant movies to return.\n",
    "\n",
    "    Returns:\n",
    "        list: A list of tuples containing the IDs and predicted ratings of the top k most relevant movies,\n",
    "              sorted by predicted rating in descending order.\n",
    "    \"\"\"\n",
    "    # Create user-movie rating matrix\n",
    "    user_movie_ratings_matrix = create_user_movie_rating_matrix()\n",
    "    # Get unrated movie IDs for the user\n",
    "    unrated_movies = get_unrated_movie_ids(user)\n",
    "    # Initialize a list to store predictions\n",
    "    predictions = []\n",
    "    # Compute user similarities\n",
    "    user_similarities_dict = compute_user_similarities(user)\n",
    "    # Generate predictions for unrated movies\n",
    "    for m in unrated_movies:\n",
    "        pred = generatePrediction(user, m, user_movie_ratings_matrix,user_similarities_dict)\n",
    "        predictions.append((m, pred)) \n",
    "    # Sort predictions by predicted rating in descending order\n",
    "    sorted_predictions = sorted(predictions, reverse=True, key=lambda x: x[1])\n",
    "    # Select top k predictions\n",
    "    top_k_predictions = sorted_predictions[:k]\n",
    "    print(f\"The top {k} movies recommended for the user {user} are:\")\n",
    "    i = 1\n",
    "    for movie_id, pred in top_k_predictions:\n",
    "        movie_title = movies.loc[movies['movieId'] == movie_id, 'title'].values[0]\n",
    "        print(f\"{i}. MovieID: {movie_id}, Title: {movie_title}, Score: {pred}\")\n",
    "        i += 1"
   ]
  },
  {
   "cell_type": "markdown",
   "metadata": {},
   "source": [
    "### (e) Design and implement a new similarity function for computing similarities between users. Explain why this similarity function is useful for the collaborative filtering approach. Hint: Exploiting ideas from related works are highly encouraged."
   ]
  },
  {
   "cell_type": "markdown",
   "metadata": {},
   "source": [
    "#### Constrained Pearson Correlation Coefficient (CPCC)\n",
    "$$sim(a, b)^{CPCC} = \\frac{\\sum_{p \\in I} (r_{a,p} - r_{med})(r_{b,p} - r_{med})}{\\sqrt{\\sum_{p \\in I}(r_{a,p} - r_{med})^2}\\sqrt{\\sum_{p \\in I}(r_{b,p} - r_{med})^2}}$$"
   ]
  },
  {
   "cell_type": "code",
   "execution_count": 227,
   "metadata": {},
   "outputs": [],
   "source": [
    "def constrainedPearsonCorrelation(user1, user2):\n",
    "    num, den1, den2 = 0.0, 0.0, 0.0\n",
    "    possible_ratings = ratings['rating'].unique().tolist()\n",
    "    possible_ratings.sort()\n",
    "    median_value = median(possible_ratings)\n",
    "\n",
    "    # set of movieIds evaluated by user1\n",
    "    items_user1 = set(ratings[ratings['userId'] == user1]['movieId'])\n",
    "    # set of movieIds evaluated by user2\n",
    "    items_user2 = set(ratings[ratings['userId'] == user2]['movieId'])\n",
    "    # set of movieIds evaluated by both user1 and user2 (intersection)\n",
    "    common_items = items_user1.intersection(items_user2)\n",
    "\n",
    "    for p in common_items:\n",
    "        r_1p = (ratings[(ratings['userId'] == user1) & (ratings['movieId'] == p)]['rating'].values)[0]\n",
    "        r_2p = (ratings[(ratings['userId'] == user2) & (ratings['movieId'] == p)]['rating'].values)[0]\n",
    "        num += (r_1p - median_value)*(r_2p - median_value)\n",
    "        den1 += pow((r_1p - median_value), 2)\n",
    "        den2 += pow((r_2p - median_value), 2)\n",
    "    den = ((math.sqrt(den1))*(math.sqrt(den2)))\n",
    "    if den == 0.0:\n",
    "        return 0.0\n",
    "    sim = num/den\n",
    "    return sim"
   ]
  },
  {
   "cell_type": "markdown",
   "metadata": {},
   "source": [
    "#### Weighted Pearson Correlation Coefficient (WPCC)\n",
    "$$ sim(a,b)^{WPCC}=\\begin{cases} sim(a,b)^{PCC}*\\frac{|I|}{H}, & |I|\\le{H} \\\\ sim(a,b)^{PCC}, & otherwise\n",
    "\\end{cases} $$\n",
    "##### where I represents the set of common rating items by user u and v and H is an experimental value and it is set 50 "
   ]
  },
  {
   "cell_type": "code",
   "execution_count": 228,
   "metadata": {},
   "outputs": [],
   "source": [
    "def weightedPearsonCorrelation(user1, user2):\n",
    "    # set of movieIds evaluated by user1\n",
    "    items_user1 = set(ratings[ratings['userId'] == user1]['movieId'])\n",
    "    # set of movieIds evaluated by user2\n",
    "    items_user2 = set(ratings[ratings['userId'] == user2]['movieId'])\n",
    "    # set of movieIds evaluated by both user1 and user2 (intersection)\n",
    "    common_items = items_user1.intersection(items_user2)\n",
    "    \n",
    "    similarity = pearsonCorrelation(user1, user2)\n",
    "    I = len(common_items)\n",
    "    H = 50\n",
    "    if I <= H:\n",
    "        sim = similarity * (I/H)\n",
    "    else:\n",
    "        sim = similarity\n",
    "    return sim"
   ]
  },
  {
   "cell_type": "markdown",
   "metadata": {},
   "source": [
    "#### Sigmoid Function based Pearson correlation coefficient (SPCC) \n",
    "$$sim(a, b)^{SPCC} = sim(a, b)^{PCC} * \\frac{1}{1 + \\exp{-(\\frac{|I|}{2})}}$$"
   ]
  },
  {
   "cell_type": "code",
   "execution_count": 229,
   "metadata": {},
   "outputs": [],
   "source": [
    "def sigmoidFunctionBasedPearsonCorrelation(user1, user2):\n",
    "    similarity = pearsonCorrelation(user1,user2)\n",
    "    # set of movieIds evaluated by user1\n",
    "    items_user1 = set(ratings[ratings['userId'] == user1]['movieId'])\n",
    "    # set of movieIds evaluated by user2\n",
    "    items_user2 = set(ratings[ratings['userId'] == user2]['movieId'])\n",
    "    # set of movieIds evaluated by both user1 and user2 (intersection)\n",
    "    common_items = items_user1.intersection(items_user2)\n",
    "    I = len(common_items)\n",
    "    sim = similarity * (1/(1+math.exp(-(I/2))))\n",
    "    return sim"
   ]
  },
  {
   "cell_type": "markdown",
   "metadata": {},
   "source": [
    "####  Adjusted Cosine Measure\n",
    "$$sim(a, b)^{ACOS} = \\frac{\\sum_{p \\in P} (r_{a,p} - \\bar{r_a})(r_{b,p} - \\bar{r_b})}{\\sqrt{\\sum_{p \\in P}(r_{a,p} - \\bar{r_a})^2}\\sqrt{\\sum_{p \\in P}(r_{b,p} - \\bar{r_b})^2}}$$\n",
    "##### where $P$ is the set of all items. If user $u$ has not rated the item $p∈P$, the rating $r_{u,p}$ is zero."
   ]
  },
  {
   "cell_type": "code",
   "execution_count": 230,
   "metadata": {},
   "outputs": [],
   "source": [
    "def adjustedCosineMeasure(user1, user2):\n",
    "    num, den1, den2 = 0.0, 0.0, 0.0\n",
    "    ratings_user1 = ratings[ratings['userId'] == user1]\n",
    "    rmean_user1 = ratings_user1['rating'].mean()\n",
    "    ratings_user2 = ratings[ratings['userId'] == user2]\n",
    "    rmean_user2 = ratings_user2['rating'].mean()\n",
    "\n",
    "    all_items = movies['movieId'].tolist()\n",
    "    \n",
    "    # set of movieIds evaluated by user1\n",
    "    items_user1 = set(ratings[ratings['userId'] == user1]['movieId'])\n",
    "    # set of movieIds evaluated by user2\n",
    "    items_user2 = set(ratings[ratings['userId'] == user2]['movieId'])\n",
    "\n",
    "    for p in all_items:\n",
    "        if p not in items_user1:\n",
    "            r_1p = 0.0\n",
    "        else:\n",
    "            r_1p = (ratings[(ratings['userId'] == user1) & (ratings['movieId'] == p)]['rating'].values)[0]\n",
    "        if p not in items_user2:\n",
    "            r_2p = 0.0\n",
    "        else:\n",
    "            r_2p = (ratings[(ratings['userId'] == user2) & (ratings['movieId'] == p)]['rating'].values)[0]\n",
    "        num += (r_1p - rmean_user1)*(r_2p - rmean_user2)\n",
    "        den1 += pow((r_1p - rmean_user1), 2)\n",
    "        den2 += pow((r_2p - rmean_user2), 2)\n",
    "    den = ((math.sqrt(den1))*(math.sqrt(den2)))\n",
    "    if den == 0.0:\n",
    "        return 0.0\n",
    "    sim = num/den\n",
    "    return sim"
   ]
  },
  {
   "cell_type": "markdown",
   "metadata": {},
   "source": [
    "#### Jaccard\n",
    "$$sim(a, b)^{Jaccard} = \\frac{|I_a| \\cap {|I_b|}}{|I_a| \\cup {|I_b|}}$$"
   ]
  },
  {
   "cell_type": "code",
   "execution_count": 231,
   "metadata": {},
   "outputs": [],
   "source": [
    "def jaccard(user1, user2):\n",
    "    # set of movieIds evaluated by user1\n",
    "    items_user1 = set(ratings[ratings['userId'] == user1]['movieId'])\n",
    "    # set of movieIds evaluated by user2\n",
    "    items_user2 = set(ratings[ratings['userId'] == user2]['movieId'])\n",
    "\n",
    "    intersection = len(items_user1.intersection(items_user2))\n",
    "    union = len(items_user1.union(items_user2))\n",
    "    return intersection / union"
   ]
  },
  {
   "cell_type": "markdown",
   "metadata": {},
   "source": [
    "#### Mean Squared Difference (MSD)\n",
    "$$sim(a, b)^{MSD} = 1 - \\frac{\\sum_{p \\in I} (r_{a,p} - r_{b,p})^2}{|I|}$$"
   ]
  },
  {
   "cell_type": "code",
   "execution_count": 232,
   "metadata": {},
   "outputs": [],
   "source": [
    "def meanSquaredDifference(user1, user2):\n",
    "    num = 0.0\n",
    "    # set of movieIds evaluated by user1\n",
    "    items_user1 = set(ratings[ratings['userId'] == user1]['movieId'])\n",
    "    # set of movieIds evaluated by user2\n",
    "    items_user2 = set(ratings[ratings['userId'] == user2]['movieId'])\n",
    "    # set of movieIds evaluated by both user1 and user2 (intersection)\n",
    "    common_items = items_user1.intersection(items_user2)\n",
    "    I = len(common_items)\n",
    "\n",
    "    for p in common_items:    \n",
    "        r_1p = (ratings[(ratings['userId'] == user1) & (ratings['movieId'] == p)]['rating'].values)[0]\n",
    "        r_2p = (ratings[(ratings['userId'] == user2) & (ratings['movieId'] == p)]['rating'].values)[0]\n",
    "        num += pow((r_1p - r_2p), 2)\n",
    "    \n",
    "    if I != 0:\n",
    "        sim = 1 - (num / I)\n",
    "    else:\n",
    "        sim = 0.0\n",
    "    return sim"
   ]
  },
  {
   "cell_type": "markdown",
   "metadata": {},
   "source": [
    "####  Jaccard and MSD can be combined to form a new metric. \n",
    "$$sim(a, b)^{JMSD} = sim(a, b)^{Jaccard}*sim(a, b)^{MSD}$$"
   ]
  },
  {
   "cell_type": "code",
   "execution_count": 233,
   "metadata": {},
   "outputs": [],
   "source": [
    "def JaccardAndMSD(user1, user2):\n",
    "    return jaccard(user1,user2)*meanSquaredDifference(user1,user2)"
   ]
  },
  {
   "cell_type": "markdown",
   "metadata": {},
   "source": [
    "# Experiments"
   ]
  },
  {
   "cell_type": "code",
   "execution_count": 234,
   "metadata": {},
   "outputs": [
    {
     "data": {
      "text/html": [
       "<div>\n",
       "<style scoped>\n",
       "    .dataframe tbody tr th:only-of-type {\n",
       "        vertical-align: middle;\n",
       "    }\n",
       "\n",
       "    .dataframe tbody tr th {\n",
       "        vertical-align: top;\n",
       "    }\n",
       "\n",
       "    .dataframe thead th {\n",
       "        text-align: right;\n",
       "    }\n",
       "</style>\n",
       "<table border=\"1\" class=\"dataframe\">\n",
       "  <thead>\n",
       "    <tr style=\"text-align: right;\">\n",
       "      <th>movieId</th>\n",
       "      <th>1</th>\n",
       "      <th>2</th>\n",
       "      <th>3</th>\n",
       "      <th>4</th>\n",
       "      <th>5</th>\n",
       "      <th>6</th>\n",
       "      <th>7</th>\n",
       "      <th>8</th>\n",
       "      <th>9</th>\n",
       "      <th>10</th>\n",
       "      <th>...</th>\n",
       "      <th>193565</th>\n",
       "      <th>193567</th>\n",
       "      <th>193571</th>\n",
       "      <th>193573</th>\n",
       "      <th>193579</th>\n",
       "      <th>193581</th>\n",
       "      <th>193583</th>\n",
       "      <th>193585</th>\n",
       "      <th>193587</th>\n",
       "      <th>193609</th>\n",
       "    </tr>\n",
       "    <tr>\n",
       "      <th>userId</th>\n",
       "      <th></th>\n",
       "      <th></th>\n",
       "      <th></th>\n",
       "      <th></th>\n",
       "      <th></th>\n",
       "      <th></th>\n",
       "      <th></th>\n",
       "      <th></th>\n",
       "      <th></th>\n",
       "      <th></th>\n",
       "      <th></th>\n",
       "      <th></th>\n",
       "      <th></th>\n",
       "      <th></th>\n",
       "      <th></th>\n",
       "      <th></th>\n",
       "      <th></th>\n",
       "      <th></th>\n",
       "      <th></th>\n",
       "      <th></th>\n",
       "      <th></th>\n",
       "    </tr>\n",
       "  </thead>\n",
       "  <tbody>\n",
       "    <tr>\n",
       "      <th>1</th>\n",
       "      <td>4.0</td>\n",
       "      <td>NaN</td>\n",
       "      <td>4.0</td>\n",
       "      <td>NaN</td>\n",
       "      <td>NaN</td>\n",
       "      <td>4.0</td>\n",
       "      <td>NaN</td>\n",
       "      <td>NaN</td>\n",
       "      <td>NaN</td>\n",
       "      <td>NaN</td>\n",
       "      <td>...</td>\n",
       "      <td>NaN</td>\n",
       "      <td>NaN</td>\n",
       "      <td>NaN</td>\n",
       "      <td>NaN</td>\n",
       "      <td>NaN</td>\n",
       "      <td>NaN</td>\n",
       "      <td>NaN</td>\n",
       "      <td>NaN</td>\n",
       "      <td>NaN</td>\n",
       "      <td>NaN</td>\n",
       "    </tr>\n",
       "    <tr>\n",
       "      <th>2</th>\n",
       "      <td>NaN</td>\n",
       "      <td>NaN</td>\n",
       "      <td>NaN</td>\n",
       "      <td>NaN</td>\n",
       "      <td>NaN</td>\n",
       "      <td>NaN</td>\n",
       "      <td>NaN</td>\n",
       "      <td>NaN</td>\n",
       "      <td>NaN</td>\n",
       "      <td>NaN</td>\n",
       "      <td>...</td>\n",
       "      <td>NaN</td>\n",
       "      <td>NaN</td>\n",
       "      <td>NaN</td>\n",
       "      <td>NaN</td>\n",
       "      <td>NaN</td>\n",
       "      <td>NaN</td>\n",
       "      <td>NaN</td>\n",
       "      <td>NaN</td>\n",
       "      <td>NaN</td>\n",
       "      <td>NaN</td>\n",
       "    </tr>\n",
       "    <tr>\n",
       "      <th>3</th>\n",
       "      <td>NaN</td>\n",
       "      <td>NaN</td>\n",
       "      <td>NaN</td>\n",
       "      <td>NaN</td>\n",
       "      <td>NaN</td>\n",
       "      <td>NaN</td>\n",
       "      <td>NaN</td>\n",
       "      <td>NaN</td>\n",
       "      <td>NaN</td>\n",
       "      <td>NaN</td>\n",
       "      <td>...</td>\n",
       "      <td>NaN</td>\n",
       "      <td>NaN</td>\n",
       "      <td>NaN</td>\n",
       "      <td>NaN</td>\n",
       "      <td>NaN</td>\n",
       "      <td>NaN</td>\n",
       "      <td>NaN</td>\n",
       "      <td>NaN</td>\n",
       "      <td>NaN</td>\n",
       "      <td>NaN</td>\n",
       "    </tr>\n",
       "    <tr>\n",
       "      <th>4</th>\n",
       "      <td>NaN</td>\n",
       "      <td>NaN</td>\n",
       "      <td>NaN</td>\n",
       "      <td>NaN</td>\n",
       "      <td>NaN</td>\n",
       "      <td>NaN</td>\n",
       "      <td>NaN</td>\n",
       "      <td>NaN</td>\n",
       "      <td>NaN</td>\n",
       "      <td>NaN</td>\n",
       "      <td>...</td>\n",
       "      <td>NaN</td>\n",
       "      <td>NaN</td>\n",
       "      <td>NaN</td>\n",
       "      <td>NaN</td>\n",
       "      <td>NaN</td>\n",
       "      <td>NaN</td>\n",
       "      <td>NaN</td>\n",
       "      <td>NaN</td>\n",
       "      <td>NaN</td>\n",
       "      <td>NaN</td>\n",
       "    </tr>\n",
       "    <tr>\n",
       "      <th>5</th>\n",
       "      <td>4.0</td>\n",
       "      <td>NaN</td>\n",
       "      <td>NaN</td>\n",
       "      <td>NaN</td>\n",
       "      <td>NaN</td>\n",
       "      <td>NaN</td>\n",
       "      <td>NaN</td>\n",
       "      <td>NaN</td>\n",
       "      <td>NaN</td>\n",
       "      <td>NaN</td>\n",
       "      <td>...</td>\n",
       "      <td>NaN</td>\n",
       "      <td>NaN</td>\n",
       "      <td>NaN</td>\n",
       "      <td>NaN</td>\n",
       "      <td>NaN</td>\n",
       "      <td>NaN</td>\n",
       "      <td>NaN</td>\n",
       "      <td>NaN</td>\n",
       "      <td>NaN</td>\n",
       "      <td>NaN</td>\n",
       "    </tr>\n",
       "    <tr>\n",
       "      <th>...</th>\n",
       "      <td>...</td>\n",
       "      <td>...</td>\n",
       "      <td>...</td>\n",
       "      <td>...</td>\n",
       "      <td>...</td>\n",
       "      <td>...</td>\n",
       "      <td>...</td>\n",
       "      <td>...</td>\n",
       "      <td>...</td>\n",
       "      <td>...</td>\n",
       "      <td>...</td>\n",
       "      <td>...</td>\n",
       "      <td>...</td>\n",
       "      <td>...</td>\n",
       "      <td>...</td>\n",
       "      <td>...</td>\n",
       "      <td>...</td>\n",
       "      <td>...</td>\n",
       "      <td>...</td>\n",
       "      <td>...</td>\n",
       "      <td>...</td>\n",
       "    </tr>\n",
       "    <tr>\n",
       "      <th>606</th>\n",
       "      <td>2.5</td>\n",
       "      <td>NaN</td>\n",
       "      <td>NaN</td>\n",
       "      <td>NaN</td>\n",
       "      <td>NaN</td>\n",
       "      <td>NaN</td>\n",
       "      <td>2.5</td>\n",
       "      <td>NaN</td>\n",
       "      <td>NaN</td>\n",
       "      <td>NaN</td>\n",
       "      <td>...</td>\n",
       "      <td>NaN</td>\n",
       "      <td>NaN</td>\n",
       "      <td>NaN</td>\n",
       "      <td>NaN</td>\n",
       "      <td>NaN</td>\n",
       "      <td>NaN</td>\n",
       "      <td>NaN</td>\n",
       "      <td>NaN</td>\n",
       "      <td>NaN</td>\n",
       "      <td>NaN</td>\n",
       "    </tr>\n",
       "    <tr>\n",
       "      <th>607</th>\n",
       "      <td>4.0</td>\n",
       "      <td>NaN</td>\n",
       "      <td>NaN</td>\n",
       "      <td>NaN</td>\n",
       "      <td>NaN</td>\n",
       "      <td>NaN</td>\n",
       "      <td>NaN</td>\n",
       "      <td>NaN</td>\n",
       "      <td>NaN</td>\n",
       "      <td>NaN</td>\n",
       "      <td>...</td>\n",
       "      <td>NaN</td>\n",
       "      <td>NaN</td>\n",
       "      <td>NaN</td>\n",
       "      <td>NaN</td>\n",
       "      <td>NaN</td>\n",
       "      <td>NaN</td>\n",
       "      <td>NaN</td>\n",
       "      <td>NaN</td>\n",
       "      <td>NaN</td>\n",
       "      <td>NaN</td>\n",
       "    </tr>\n",
       "    <tr>\n",
       "      <th>608</th>\n",
       "      <td>2.5</td>\n",
       "      <td>2.0</td>\n",
       "      <td>2.0</td>\n",
       "      <td>NaN</td>\n",
       "      <td>NaN</td>\n",
       "      <td>NaN</td>\n",
       "      <td>NaN</td>\n",
       "      <td>NaN</td>\n",
       "      <td>NaN</td>\n",
       "      <td>4.0</td>\n",
       "      <td>...</td>\n",
       "      <td>NaN</td>\n",
       "      <td>NaN</td>\n",
       "      <td>NaN</td>\n",
       "      <td>NaN</td>\n",
       "      <td>NaN</td>\n",
       "      <td>NaN</td>\n",
       "      <td>NaN</td>\n",
       "      <td>NaN</td>\n",
       "      <td>NaN</td>\n",
       "      <td>NaN</td>\n",
       "    </tr>\n",
       "    <tr>\n",
       "      <th>609</th>\n",
       "      <td>3.0</td>\n",
       "      <td>NaN</td>\n",
       "      <td>NaN</td>\n",
       "      <td>NaN</td>\n",
       "      <td>NaN</td>\n",
       "      <td>NaN</td>\n",
       "      <td>NaN</td>\n",
       "      <td>NaN</td>\n",
       "      <td>NaN</td>\n",
       "      <td>4.0</td>\n",
       "      <td>...</td>\n",
       "      <td>NaN</td>\n",
       "      <td>NaN</td>\n",
       "      <td>NaN</td>\n",
       "      <td>NaN</td>\n",
       "      <td>NaN</td>\n",
       "      <td>NaN</td>\n",
       "      <td>NaN</td>\n",
       "      <td>NaN</td>\n",
       "      <td>NaN</td>\n",
       "      <td>NaN</td>\n",
       "    </tr>\n",
       "    <tr>\n",
       "      <th>610</th>\n",
       "      <td>5.0</td>\n",
       "      <td>NaN</td>\n",
       "      <td>NaN</td>\n",
       "      <td>NaN</td>\n",
       "      <td>NaN</td>\n",
       "      <td>5.0</td>\n",
       "      <td>NaN</td>\n",
       "      <td>NaN</td>\n",
       "      <td>NaN</td>\n",
       "      <td>NaN</td>\n",
       "      <td>...</td>\n",
       "      <td>NaN</td>\n",
       "      <td>NaN</td>\n",
       "      <td>NaN</td>\n",
       "      <td>NaN</td>\n",
       "      <td>NaN</td>\n",
       "      <td>NaN</td>\n",
       "      <td>NaN</td>\n",
       "      <td>NaN</td>\n",
       "      <td>NaN</td>\n",
       "      <td>NaN</td>\n",
       "    </tr>\n",
       "  </tbody>\n",
       "</table>\n",
       "<p>610 rows × 9742 columns</p>\n",
       "</div>"
      ],
      "text/plain": [
       "movieId  1       2       3       4       5       6       7       8       \\\n",
       "userId                                                                    \n",
       "1           4.0     NaN     4.0     NaN     NaN     4.0     NaN     NaN   \n",
       "2           NaN     NaN     NaN     NaN     NaN     NaN     NaN     NaN   \n",
       "3           NaN     NaN     NaN     NaN     NaN     NaN     NaN     NaN   \n",
       "4           NaN     NaN     NaN     NaN     NaN     NaN     NaN     NaN   \n",
       "5           4.0     NaN     NaN     NaN     NaN     NaN     NaN     NaN   \n",
       "...         ...     ...     ...     ...     ...     ...     ...     ...   \n",
       "606         2.5     NaN     NaN     NaN     NaN     NaN     2.5     NaN   \n",
       "607         4.0     NaN     NaN     NaN     NaN     NaN     NaN     NaN   \n",
       "608         2.5     2.0     2.0     NaN     NaN     NaN     NaN     NaN   \n",
       "609         3.0     NaN     NaN     NaN     NaN     NaN     NaN     NaN   \n",
       "610         5.0     NaN     NaN     NaN     NaN     5.0     NaN     NaN   \n",
       "\n",
       "movieId  9       10      ...  193565  193567  193571  193573  193579  193581  \\\n",
       "userId                   ...                                                   \n",
       "1           NaN     NaN  ...     NaN     NaN     NaN     NaN     NaN     NaN   \n",
       "2           NaN     NaN  ...     NaN     NaN     NaN     NaN     NaN     NaN   \n",
       "3           NaN     NaN  ...     NaN     NaN     NaN     NaN     NaN     NaN   \n",
       "4           NaN     NaN  ...     NaN     NaN     NaN     NaN     NaN     NaN   \n",
       "5           NaN     NaN  ...     NaN     NaN     NaN     NaN     NaN     NaN   \n",
       "...         ...     ...  ...     ...     ...     ...     ...     ...     ...   \n",
       "606         NaN     NaN  ...     NaN     NaN     NaN     NaN     NaN     NaN   \n",
       "607         NaN     NaN  ...     NaN     NaN     NaN     NaN     NaN     NaN   \n",
       "608         NaN     4.0  ...     NaN     NaN     NaN     NaN     NaN     NaN   \n",
       "609         NaN     4.0  ...     NaN     NaN     NaN     NaN     NaN     NaN   \n",
       "610         NaN     NaN  ...     NaN     NaN     NaN     NaN     NaN     NaN   \n",
       "\n",
       "movieId  193583  193585  193587  193609  \n",
       "userId                                   \n",
       "1           NaN     NaN     NaN     NaN  \n",
       "2           NaN     NaN     NaN     NaN  \n",
       "3           NaN     NaN     NaN     NaN  \n",
       "4           NaN     NaN     NaN     NaN  \n",
       "5           NaN     NaN     NaN     NaN  \n",
       "...         ...     ...     ...     ...  \n",
       "606         NaN     NaN     NaN     NaN  \n",
       "607         NaN     NaN     NaN     NaN  \n",
       "608         NaN     NaN     NaN     NaN  \n",
       "609         NaN     NaN     NaN     NaN  \n",
       "610         NaN     NaN     NaN     NaN  \n",
       "\n",
       "[610 rows x 9742 columns]"
      ]
     },
     "execution_count": 234,
     "metadata": {},
     "output_type": "execute_result"
    }
   ],
   "source": [
    "user_movie_ratings_matrix = create_user_movie_rating_matrix()\n",
    "user_movie_ratings_matrix"
   ]
  },
  {
   "cell_type": "code",
   "execution_count": 235,
   "metadata": {},
   "outputs": [
    {
     "name": "stdout",
     "output_type": "stream",
     "text": [
      "0.08648178161396775\n"
     ]
    }
   ],
   "source": [
    "corr = pearsonCorrelation(1,21)\n",
    "print(corr)"
   ]
  },
  {
   "cell_type": "code",
   "execution_count": 236,
   "metadata": {},
   "outputs": [
    {
     "name": "stdout",
     "output_type": "stream",
     "text": [
      "2.78\n"
     ]
    }
   ],
   "source": [
    "print(generatePrediction(24,1987,create_user_movie_rating_matrix(),compute_user_similarities(1)))"
   ]
  },
  {
   "cell_type": "code",
   "execution_count": 237,
   "metadata": {},
   "outputs": [
    {
     "name": "stdout",
     "output_type": "stream",
     "text": [
      "The top 10 most similar users to the user 3 are:\n",
      "1. User ID: 0, Similarity: (14, 1.0)\n",
      "2. User ID: 1, Similarity: (34, 1.0)\n",
      "3. User ID: 2, Similarity: (55, 1.0)\n",
      "4. User ID: 3, Similarity: (65, 1.0)\n",
      "5. User ID: 4, Similarity: (73, 1.0)\n",
      "6. User ID: 5, Similarity: (75, 1.0)\n",
      "7. User ID: 6, Similarity: (80, 1.0)\n",
      "8. User ID: 7, Similarity: (82, 1.0)\n",
      "9. User ID: 8, Similarity: (98, 1.0)\n",
      "10. User ID: 9, Similarity: (121, 1.0)\n"
     ]
    }
   ],
   "source": [
    "kMostSimilarUsers(3, 10)"
   ]
  },
  {
   "cell_type": "code",
   "execution_count": 238,
   "metadata": {},
   "outputs": [],
   "source": [
    "unrated_movies = get_unrated_movie_ids(1)"
   ]
  },
  {
   "cell_type": "code",
   "execution_count": 239,
   "metadata": {},
   "outputs": [
    {
     "name": "stdout",
     "output_type": "stream",
     "text": [
      "The top 10 movies recommended for the user 1 are:\n",
      "1. MovieID: 5105, Title: Don't Look Now (1973), Score: 7.79\n",
      "2. MovieID: 6967, Title: Dead of Night (1945), Score: 7.79\n",
      "3. MovieID: 7114, Title: Collector, The (1965), Score: 7.79\n",
      "4. MovieID: 7742, Title: Baxter (1989), Score: 7.79\n",
      "5. MovieID: 175475, Title: The Emoji Movie (2017), Score: 7.57\n",
      "6. MovieID: 184641, Title: Fullmetal Alchemist 2018 (2017), Score: 7.57\n",
      "7. MovieID: 168712, Title: Fifty Shades Darker (2017), Score: 7.46\n",
      "8. MovieID: 3604, Title: Gypsy (1962), Score: 7.34\n",
      "9. MovieID: 97024, Title: Rust and Bone (De rouille et d'os) (2012), Score: 7.14\n",
      "10. MovieID: 40491, Title: Match Factory Girl, The (Tulitikkutehtaan tyttö) (1990), Score: 7.12\n"
     ]
    }
   ],
   "source": [
    "kMostRelevantMovies(1,10)"
   ]
  },
  {
   "cell_type": "code",
   "execution_count": 240,
   "metadata": {},
   "outputs": [
    {
     "data": {
      "text/html": [
       "<div>\n",
       "<style scoped>\n",
       "    .dataframe tbody tr th:only-of-type {\n",
       "        vertical-align: middle;\n",
       "    }\n",
       "\n",
       "    .dataframe tbody tr th {\n",
       "        vertical-align: top;\n",
       "    }\n",
       "\n",
       "    .dataframe thead th {\n",
       "        text-align: right;\n",
       "    }\n",
       "</style>\n",
       "<table border=\"1\" class=\"dataframe\">\n",
       "  <thead>\n",
       "    <tr style=\"text-align: right;\">\n",
       "      <th></th>\n",
       "      <th>Constrained Pearson</th>\n",
       "      <th>Weighted Pearson</th>\n",
       "      <th>Sigmoid Function Based</th>\n",
       "      <th>Adjusted Cosine</th>\n",
       "      <th>Jaccard</th>\n",
       "      <th>Mean Squared Difference</th>\n",
       "      <th>Jaccard and MSD</th>\n",
       "    </tr>\n",
       "  </thead>\n",
       "  <tbody>\n",
       "    <tr>\n",
       "      <th>(1, 21)</th>\n",
       "      <td>0.659342</td>\n",
       "      <td>0.081293</td>\n",
       "      <td>0.086482</td>\n",
       "      <td>0.967157</td>\n",
       "      <td>0.074841</td>\n",
       "      <td>-0.760638</td>\n",
       "      <td>-0.056927</td>\n",
       "    </tr>\n",
       "    <tr>\n",
       "      <th>(18, 590)</th>\n",
       "      <td>0.813353</td>\n",
       "      <td>0.572172</td>\n",
       "      <td>0.572172</td>\n",
       "      <td>0.960133</td>\n",
       "      <td>0.223881</td>\n",
       "      <td>0.488889</td>\n",
       "      <td>0.109453</td>\n",
       "    </tr>\n",
       "    <tr>\n",
       "      <th>(345, 96)</th>\n",
       "      <td>0.925701</td>\n",
       "      <td>0.057289</td>\n",
       "      <td>0.630754</td>\n",
       "      <td>0.992803</td>\n",
       "      <td>0.029412</td>\n",
       "      <td>0.437500</td>\n",
       "      <td>0.012868</td>\n",
       "    </tr>\n",
       "  </tbody>\n",
       "</table>\n",
       "</div>"
      ],
      "text/plain": [
       "           Constrained Pearson  Weighted Pearson  Sigmoid Function Based  \\\n",
       "(1, 21)               0.659342          0.081293                0.086482   \n",
       "(18, 590)             0.813353          0.572172                0.572172   \n",
       "(345, 96)             0.925701          0.057289                0.630754   \n",
       "\n",
       "           Adjusted Cosine   Jaccard  Mean Squared Difference  Jaccard and MSD  \n",
       "(1, 21)           0.967157  0.074841                -0.760638        -0.056927  \n",
       "(18, 590)         0.960133  0.223881                 0.488889         0.109453  \n",
       "(345, 96)         0.992803  0.029412                 0.437500         0.012868  "
      ]
     },
     "execution_count": 240,
     "metadata": {},
     "output_type": "execute_result"
    }
   ],
   "source": [
    "# Crea un dizionario contenente i risultati delle funzioni\n",
    "results = {\n",
    "    \"Constrained Pearson\": [constrainedPearsonCorrelation(1, 21), constrainedPearsonCorrelation(18, 590), constrainedPearsonCorrelation(345, 96)],\n",
    "    \"Weighted Pearson\": [weightedPearsonCorrelation(1, 21), weightedPearsonCorrelation(18, 590), weightedPearsonCorrelation(345, 96)],\n",
    "    \"Sigmoid Function Based\": [sigmoidFunctionBasedPearsonCorrelation(1, 21), sigmoidFunctionBasedPearsonCorrelation(18, 590), sigmoidFunctionBasedPearsonCorrelation(345, 96)],\n",
    "    \"Adjusted Cosine\": [adjustedCosineMeasure(1, 21), adjustedCosineMeasure(118, 590), adjustedCosineMeasure(345, 96)],\n",
    "    \"Jaccard\": [jaccard(1, 21), jaccard(18, 590), jaccard(345, 96)],\n",
    "    \"Mean Squared Difference\": [meanSquaredDifference(1, 21), meanSquaredDifference(18, 590), meanSquaredDifference(345, 96)],\n",
    "    \"Jaccard and MSD\": [JaccardAndMSD(1, 21), JaccardAndMSD(18, 590), JaccardAndMSD(345, 96)]\n",
    "}\n",
    "\n",
    "# Crea il DataFrame utilizzando il dizionario e specifica gli indici\n",
    "df = pd.DataFrame(results, index=[(1, 21),(18, 590),(345, 96)])\n",
    "\n",
    "# Stampa il DataFrame\n",
    "df"
   ]
  }
 ],
 "metadata": {
  "kernelspec": {
   "display_name": "Python 3",
   "language": "python",
   "name": "python3"
  },
  "language_info": {
   "codemirror_mode": {
    "name": "ipython",
    "version": 3
   },
   "file_extension": ".py",
   "mimetype": "text/x-python",
   "name": "python",
   "nbconvert_exporter": "python",
   "pygments_lexer": "ipython3",
   "version": "3.10.8"
  }
 },
 "nbformat": 4,
 "nbformat_minor": 2
}
