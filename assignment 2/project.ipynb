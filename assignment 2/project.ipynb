{
 "cells": [
  {
   "cell_type": "code",
   "execution_count": 44,
   "metadata": {},
   "outputs": [],
   "source": [
    "import pandas as pd\n",
    "import math"
   ]
  },
  {
   "cell_type": "code",
   "execution_count": 45,
   "metadata": {},
   "outputs": [
    {
     "name": "stdout",
     "output_type": "stream",
     "text": [
      "Number of rows: 100836\n",
      " userId  movieId  rating  timestamp\n",
      "      1        1     4.0  964982703\n",
      "      1        3     4.0  964981247\n",
      "      1        6     4.0  964982224\n",
      "      1       47     5.0  964983815\n",
      "      1       50     5.0  964982931\n",
      "      1       70     3.0  964982400\n",
      "      1      101     5.0  964980868\n",
      "      1      110     4.0  964982176\n",
      "      1      151     5.0  964984041\n",
      "      1      157     5.0  964984100\n"
     ]
    }
   ],
   "source": [
    "ratings = pd.read_csv(\"dataset/ratings.csv\")\n",
    "n_rows = ratings.shape[0]\n",
    "\n",
    "print(\"Number of rows: \" + str(n_rows))\n",
    "# Show the first 10 rows of the dataframe\n",
    "print(ratings.head(10).to_string(index=False))"
   ]
  },
  {
   "cell_type": "code",
   "execution_count": 57,
   "metadata": {},
   "outputs": [
    {
     "name": "stdout",
     "output_type": "stream",
     "text": [
      "Number of rows: 9742\n",
      " movieId                              title                                      genres\n",
      "       1                   Toy Story (1995) Adventure|Animation|Children|Comedy|Fantasy\n",
      "       2                     Jumanji (1995)                  Adventure|Children|Fantasy\n",
      "       3            Grumpier Old Men (1995)                              Comedy|Romance\n",
      "       4           Waiting to Exhale (1995)                        Comedy|Drama|Romance\n",
      "       5 Father of the Bride Part II (1995)                                      Comedy\n",
      "       6                        Heat (1995)                       Action|Crime|Thriller\n",
      "       7                     Sabrina (1995)                              Comedy|Romance\n",
      "       8                Tom and Huck (1995)                          Adventure|Children\n",
      "       9                Sudden Death (1995)                                      Action\n",
      "      10                   GoldenEye (1995)                   Action|Adventure|Thriller\n"
     ]
    }
   ],
   "source": [
    "movies = pd.read_csv(\"dataset/movies.csv\")\n",
    "n_rows = movies.shape[0]\n",
    "\n",
    "print(\"Number of rows: \" + str(n_rows))\n",
    "# Show the first 10 rows of the dataframe\n",
    "print(movies.head(10).to_string(index=False))"
   ]
  },
  {
   "cell_type": "code",
   "execution_count": 46,
   "metadata": {},
   "outputs": [],
   "source": [
    "def pearsonCorrelation(user1, user2):\n",
    "    num, den1, den2 = 0.0, 0.0, 0.0\n",
    "    ratings_user1 = ratings[ratings['userId'] == user1]\n",
    "    rmean_user1 = ratings_user1['rating'].mean()\n",
    "    ratings_user2 = ratings[ratings['userId'] == user2]\n",
    "    rmean_user2 = ratings_user2['rating'].mean()\n",
    "\n",
    "    # set of movieIds evaluated by user1\n",
    "    items_user1 = set(ratings[ratings['userId'] == user1]['movieId'])\n",
    "    # set of movieIds evaluated by user2\n",
    "    items_user2 = set(ratings[ratings['userId'] == user2]['movieId'])\n",
    "    # set of movieIds evaluated by both user1 and user2 (intersection)\n",
    "    common_items = items_user1.intersection(items_user2)\n",
    "\n",
    "    for p in common_items:\n",
    "        r_1p = (ratings[(ratings['userId'] == user1) & (ratings['movieId'] == p)]['rating'].values)[0]\n",
    "        r_2p = (ratings[(ratings['userId'] == user2) & (ratings['movieId'] == p)]['rating'].values)[0]\n",
    "        num += (r_1p - rmean_user1)*(r_2p - rmean_user2)\n",
    "        den1 += pow((r_1p - rmean_user1), 2)\n",
    "        den2 += pow((r_2p - rmean_user2), 2)\n",
    "    den = ((math.sqrt(den1))*(math.sqrt(den2)))\n",
    "    if den == 0.0:\n",
    "        return 0.0\n",
    "    sim = num/den\n",
    "    return sim"
   ]
  },
  {
   "cell_type": "code",
   "execution_count": 47,
   "metadata": {},
   "outputs": [],
   "source": [
    "def generatePrediction(user1, item):\n",
    "    #aggiungi controllo che il film non è stato valutato\n",
    "    num, den = 0.0, 0.0\n",
    "    ratings_user1 = ratings[ratings['userId'] == user1]\n",
    "    if item in ratings_user1['movieId'].tolist():\n",
    "        return ratings_user1[ratings_user1['movieId'] == item]['rating'].iloc[0]\n",
    "    rmean_user1 = ratings_user1['rating'].mean()\n",
    "    # set of users who rated item \n",
    "    users = ratings[ratings['movieId'] == item]['userId'].unique()\n",
    "    for u in users:\n",
    "        ratings_u = ratings[ratings['userId'] == u]\n",
    "        rmean_u = ratings_u['rating'].mean()\n",
    "        r_up = (ratings_u[(ratings_u['movieId'] == item)]['rating'].values)[0]\n",
    "        similarity = pearsonCorrelation(user1, u)\n",
    "        num += similarity*(r_up - rmean_u)\n",
    "        den += abs(similarity)\n",
    "    if den == 0.0:\n",
    "        pred = rmean_user1\n",
    "    else:\n",
    "        pred = rmean_user1 + (num/den)\n",
    "    return pred"
   ]
  },
  {
   "cell_type": "markdown",
   "metadata": {},
   "source": [
    "### (a) For producing group recommendation, we will use the user-based collaborative filtering approach as this implemented in Assignment 1. Specifically, for producing group recommendations, we will first compute the movies recommendations for each user in the group, and then we will aggregate the lists of the individual users, so as to produce a single list of movies for the group. You will implement two well established aggregation methods for producing the group recommendations."
   ]
  },
  {
   "cell_type": "markdown",
   "metadata": {},
   "source": [
    "### The first aggregation approach is the <em>average method</em>. The main idea behind this approach is that all members are considered equals. So, the rating of an item for a group of users will be given be averaging the scores of an item across all group members."
   ]
  },
  {
   "cell_type": "code",
   "execution_count": 51,
   "metadata": {},
   "outputs": [],
   "source": [
    "def averageMethod(group, item):\n",
    "    scores_sum = 0.0\n",
    "    for user in group:\n",
    "        rating = generatePrediction(user, item)\n",
    "        scores_sum += rating\n",
    "    pred = scores_sum / len(group)\n",
    "    return pred"
   ]
  },
  {
   "cell_type": "code",
   "execution_count": 52,
   "metadata": {},
   "outputs": [
    {
     "name": "stdout",
     "output_type": "stream",
     "text": [
      "4.317527248350769\n"
     ]
    }
   ],
   "source": [
    "print(averageMethod([1,4,9,18],50))"
   ]
  },
  {
   "cell_type": "markdown",
   "metadata": {},
   "source": [
    "### The second aggregation method is the <em>least misery method</em>, where one member can act as a veto for the rest of the group. In this case, the rating of an item for a group of users is computed as the minimum score assigned to that item in all group members recommendations."
   ]
  },
  {
   "cell_type": "code",
   "execution_count": 55,
   "metadata": {},
   "outputs": [],
   "source": [
    "def leastMiseryMethod(group, item):\n",
    "    scores = []\n",
    "    for user in group:\n",
    "        rating = generatePrediction(user, item)\n",
    "        scores.append(rating)\n",
    "    pred = min(scores)\n",
    "    return pred"
   ]
  },
  {
   "cell_type": "code",
   "execution_count": 56,
   "metadata": {},
   "outputs": [
    {
     "name": "stdout",
     "output_type": "stream",
     "text": [
      "3.6090081951346242\n"
     ]
    }
   ],
   "source": [
    "print(leastMiseryMethod([1,4,9,18],50))"
   ]
  },
  {
   "cell_type": "markdown",
   "metadata": {},
   "source": [
    "### Produce a group of 3 users, and for this group, show the top-10 recommendations, i.e., the 10 movies with the highest prediction scores that (i) the average method suggests, and (ii) the least misery method suggest. Use the MovieLens 100K rating dataset."
   ]
  },
  {
   "cell_type": "code",
   "execution_count": 58,
   "metadata": {},
   "outputs": [],
   "source": [
    "def topKMovies(group,k):\n",
    "    all_movie_ids = movies['movieId'].tolist()\n",
    "    predictions = []\n",
    "    for m in all_movie_ids:\n",
    "        print(\"m: \"+str(m))\n",
    "        pred = averageMethod(group, m)\n",
    "        predictions.append((m, pred)) \n",
    "    sorted_predictions = sorted(predictions, reverse=True, key=lambda x: x[1])\n",
    "    top_k_predictions = sorted_predictions[:k]\n",
    "    return top_k_predictions"
   ]
  },
  {
   "cell_type": "code",
   "execution_count": 60,
   "metadata": {},
   "outputs": [],
   "source": [
    "import concurrent.futures\n",
    "\n",
    "def topKMoviesPar(group, k):\n",
    "    all_movie_ids = movies['movieId'].tolist()\n",
    "    predictions = []\n",
    "    \n",
    "    def process_movie(m):\n",
    "        print(\"m: \" + str(m))\n",
    "        pred = averageMethod(group, m)\n",
    "        return (m, pred)\n",
    "    \n",
    "    with concurrent.futures.ThreadPoolExecutor() as executor:\n",
    "        predictions = list(executor.map(process_movie, all_movie_ids))\n",
    "    \n",
    "    sorted_predictions = sorted(predictions, reverse=True, key=lambda x: x[1])\n",
    "    top_k_predictions = sorted_predictions[:k]\n",
    "    return top_k_predictions\n"
   ]
  }
 ],
 "metadata": {
  "kernelspec": {
   "display_name": "Python 3",
   "language": "python",
   "name": "python3"
  },
  "language_info": {
   "codemirror_mode": {
    "name": "ipython",
    "version": 3
   },
   "file_extension": ".py",
   "mimetype": "text/x-python",
   "name": "python",
   "nbconvert_exporter": "python",
   "pygments_lexer": "ipython3",
   "version": "3.10.8"
  }
 },
 "nbformat": 4,
 "nbformat_minor": 2
}
